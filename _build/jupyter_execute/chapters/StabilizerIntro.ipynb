{
 "cells": [
  {
   "cell_type": "markdown",
   "id": "f0563c04-f11c-44e5-8b84-865d5485d764",
   "metadata": {},
   "source": [
    "In this chapter, you will learn the basic of stabilizer states, and Clifford Maps"
   ]
  },
  {
   "cell_type": "markdown",
   "id": "33799eb1-a43e-4577-91da-79d20f84835a",
   "metadata": {},
   "source": [
    "# State-Map Duality"
   ]
  },
  {
   "cell_type": "markdown",
   "id": "8ef8ce8f-b0c2-480b-b90f-ad9f665718d9",
   "metadata": {},
   "source": [
    "Every stabilizer state $\\rho$ is dual to a Clifford unitary $U$, such that the state can be generated from the zero state $|00\\cdots0\\rangle$ as\n",
    "$$\\rho = U|00\\cdots0\\rangle\\langle 00\\cdots0|U^\\dagger$$.\n",
    "Both $\\rho$ and $U$ describes a stabilizer code:\n",
    "* $\\rho$ is a projection operator that specifies the code subspace of the stabilizer code.\n",
    "* $U$ is the encoding Clifford unitary that encodes the logical + syndrome qubits to the physical qubits in the stabilizer code.\n",
    "\n",
    "The package `stabilizer` (based on `paulialg`) provides related functions to represent stabilizer states and Clifford maps. There are two classes defined in this package.\n",
    "\n",
    "* `stabilizer.CliffordMap`. Since the Clifford unitary $U$ maps Pauli operators to Pauli operators, it is sufficient to specify a Clifford unitary by how each single-qubit Pauli operator transforms under the unitary. Such transformation rules are stored in a table called the Clifford map.\n",
    "\n",
    "* `stabilizer.StabilizerState`. The stabilizer state is specified by a set of stabilizers and the corresponding destabilizers. Using the binary representation of Pauli operators, they can be stored in a table, called the stabilizer tableau. \n",
    "\n",
    "Since both classes need to store a table of Pauli operators, they are both realized as subclasses of `paulialg.PauliList`."
   ]
  },
  {
   "cell_type": "code",
   "execution_count": null,
   "id": "bb9558d6-a03c-42dc-b28c-4584c585bc19",
   "metadata": {},
   "outputs": [],
   "source": []
  }
 ],
 "metadata": {
  "kernelspec": {
   "display_name": "Python 3 (ipykernel)",
   "language": "python",
   "name": "python3"
  },
  "language_info": {
   "codemirror_mode": {
    "name": "ipython",
    "version": 3
   },
   "file_extension": ".py",
   "mimetype": "text/x-python",
   "name": "python",
   "nbconvert_exporter": "python",
   "pygments_lexer": "ipython3",
   "version": "3.9.12"
  }
 },
 "nbformat": 4,
 "nbformat_minor": 5
}
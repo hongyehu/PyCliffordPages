{
 "cells": [
  {
   "cell_type": "code",
   "execution_count": 1,
   "id": "5490f76b-88b8-4c8f-9856-39b5b9ccab48",
   "metadata": {},
   "outputs": [],
   "source": [
    "import sys\n",
    "sys.path.insert(0, '..')\n",
    "import numpy as np\n",
    "import qutip as qt\n",
    "import src\n",
    "from src import (utils, paulialg, stabilizer, circuit)"
   ]
  },
  {
   "cell_type": "markdown",
   "id": "a7325af3-b2b5-4abc-8325-304e2aebd023",
   "metadata": {},
   "source": [
    "# Construct Clifford Maps"
   ]
  },
  {
   "cell_type": "markdown",
   "id": "d036add6-abf9-4e1d-8ba1-6ba5ca27785f",
   "metadata": {},
   "source": [
    "`identity_map(N)` constructs an identity Clifford map on $N$ qubits."
   ]
  },
  {
   "cell_type": "code",
   "execution_count": 2,
   "id": "bf6d0a2d-df28-4608-9d4e-dda3d11a74c2",
   "metadata": {},
   "outputs": [
    {
     "data": {
      "text/plain": [
       "CliffordMap(\n",
       "  X0-> +XIII\n",
       "  Z0-> +ZIII\n",
       "  X1-> +IXII\n",
       "  Z1-> +IZII\n",
       "  X2-> +IIXI\n",
       "  Z2-> +IIZI\n",
       "  X3-> +IIIX\n",
       "  Z3-> +IIIZ)"
      ]
     },
     "execution_count": 2,
     "metadata": {},
     "output_type": "execute_result"
    }
   ],
   "source": [
    "stabilizer.identity_map(4)"
   ]
  },
  {
   "cell_type": "markdown",
   "id": "517fd806-df7d-42fd-8f08-edfe729a29ad",
   "metadata": {},
   "source": [
    "`random_pauli_map(N)` samples a random Clifford map made of random single-qubit Clifford gates on $N$ qubits, i.e. $U=\\prod_i U_i\\in\\mathrm{Cl}(2)^N$. Each realization specifies a random local Pauli basis."
   ]
  },
  {
   "cell_type": "code",
   "execution_count": 3,
   "id": "1c09d530-81d7-494a-98e2-3fe9a67f9aaf",
   "metadata": {},
   "outputs": [
    {
     "data": {
      "text/plain": [
       "CliffordMap(\n",
       "  X0-> -YIII\n",
       "  Z0-> -ZIII\n",
       "  X1-> +IZII\n",
       "  Z1-> +IXII\n",
       "  X2-> +IIZI\n",
       "  Z2-> -IIYI\n",
       "  X3-> +IIIZ\n",
       "  Z3-> +IIIX)"
      ]
     },
     "execution_count": 3,
     "metadata": {},
     "output_type": "execute_result"
    }
   ],
   "source": [
    "stabilizer.random_pauli_map(4)"
   ]
  },
  {
   "cell_type": "markdown",
   "id": "3b0d38be-c05f-4b42-8bb8-f1db32ba10c4",
   "metadata": {},
   "source": [
    "`random_clifford_map(N)` samples a globally random Clifford map on $N$ qubits, i.e. $U\\in\\mathrm{Cl}(2^N)$. Each realization specifies a random global stabilizer basis."
   ]
  },
  {
   "cell_type": "code",
   "execution_count": 4,
   "id": "202ab9d5-9720-4436-ae2e-d7f2240f4dbc",
   "metadata": {},
   "outputs": [
    {
     "data": {
      "text/plain": [
       "CliffordMap(\n",
       "  X0-> -XXIX\n",
       "  Z0-> +IXXY\n",
       "  X1-> +ZZXX\n",
       "  Z1-> -IYYY\n",
       "  X2-> +YXYZ\n",
       "  Z2-> +YIIY\n",
       "  X3-> -XZIZ\n",
       "  Z3-> +ZIZZ)"
      ]
     },
     "execution_count": 4,
     "metadata": {},
     "output_type": "execute_result"
    }
   ],
   "source": [
    "stabilizer.random_clifford_map(4)"
   ]
  },
  {
   "cell_type": "markdown",
   "id": "d4dd251e-c26d-4c9b-bb86-52f22ab6c683",
   "metadata": {},
   "source": [
    "`clifford_rotation_map(N)` constructs a Clifford map based for a Clifford rotation given its generator."
   ]
  },
  {
   "cell_type": "code",
   "execution_count": 5,
   "id": "d237397a-9dee-4aa1-ac06-fb4f95ad103c",
   "metadata": {},
   "outputs": [
    {
     "data": {
      "text/plain": [
       "CliffordMap(\n",
       "  X0-> +XIII\n",
       "  Z0-> +YXYZ\n",
       "  X1-> +IXII\n",
       "  Z1-> +XYYZ\n",
       "  X2-> +XXZZ\n",
       "  Z2-> -XXXZ\n",
       "  X3-> -XXYY\n",
       "  Z3-> +IIIZ)"
      ]
     },
     "execution_count": 5,
     "metadata": {},
     "output_type": "execute_result"
    }
   ],
   "source": [
    "stabilizer.clifford_rotation_map('-XXYZ')"
   ]
  },
  {
   "cell_type": "markdown",
   "id": "f91f8404-d443-4855-8a25-bcc09464b160",
   "metadata": {},
   "source": [
    "# Construct Stabilizer States"
   ]
  },
  {
   "cell_type": "markdown",
   "id": "7ee590c4-aa3a-4b26-8b4f-7a22d28076ed",
   "metadata": {},
   "source": [
    "`maximally_mixed_state(N)` constructs a $N$-qubit maximally mixed state (by setting the density matrix to full rank).\n",
    "$$\\rho=2^{-N}\\mathbb{1}.$$"
   ]
  },
  {
   "cell_type": "code",
   "execution_count": 6,
   "id": "2ddeb2b3-c137-4fa9-9afb-40968046f8d7",
   "metadata": {},
   "outputs": [
    {
     "data": {
      "text/plain": [
       "StabilizerState()"
      ]
     },
     "execution_count": 6,
     "metadata": {},
     "output_type": "execute_result"
    }
   ],
   "source": [
    "stabilizer.maximally_mixed_state(4)"
   ]
  },
  {
   "cell_type": "markdown",
   "id": "96b7fdf4-e491-4db1-a8f5-fb5768dc1487",
   "metadata": {},
   "source": [
    "`zero_state(N)` constructs a $N$-qubit all-zero state \n",
    "$$\\rho=|0\\cdots0\\rangle\\langle 0\\cdots0|=\\prod_{i}\\frac{1+Z_i}{2}.$$"
   ]
  },
  {
   "cell_type": "code",
   "execution_count": 7,
   "id": "7572f3ea-13a8-4f7c-bb42-18a8bbdf677d",
   "metadata": {},
   "outputs": [
    {
     "data": {
      "text/plain": [
       "StabilizerState(\n",
       "   +ZIII\n",
       "   +IZII\n",
       "   +IIZI\n",
       "   +IIIZ)"
      ]
     },
     "execution_count": 7,
     "metadata": {},
     "output_type": "execute_result"
    }
   ],
   "source": [
    "stabilizer.zero_state(4)"
   ]
  },
  {
   "cell_type": "markdown",
   "id": "2b3ed9e7-1c05-4e0e-b1b6-c1a2762aa5b4",
   "metadata": {},
   "source": [
    "`one_state(N)` constructs a $N$-qubit all-one state \n",
    "$$\\rho=|1\\cdots1\\rangle\\langle 1\\cdots1|=\\prod_{i}\\frac{1-Z_i}{2}.$$"
   ]
  },
  {
   "cell_type": "code",
   "execution_count": 8,
   "id": "f977a199-aac2-426c-8fce-32850b7f14a3",
   "metadata": {},
   "outputs": [
    {
     "data": {
      "text/plain": [
       "array([0, 0, 0, 0, 0, 0, 0, 0])"
      ]
     },
     "execution_count": 8,
     "metadata": {},
     "output_type": "execute_result"
    }
   ],
   "source": [
    "stabilizer.zero_state(4).ps"
   ]
  },
  {
   "cell_type": "markdown",
   "id": "348d7c62-2564-45e3-8b15-4a92106cf406",
   "metadata": {},
   "source": [
    "`ghz_state(N)` constructs a $N$-qubit GHZ state\n",
    "$$\\rho = |\\Psi\\rangle\\langle\\Psi|, \\qquad \\text{with }|\\Psi\\rangle=\\frac{1}{\\sqrt{2}}(|0\\cdots0\\rangle+|1\\cdots1\\rangle).$$"
   ]
  },
  {
   "cell_type": "code",
   "execution_count": 9,
   "id": "68c1edbe-a690-45af-9dce-9154921b0515",
   "metadata": {},
   "outputs": [
    {
     "data": {
      "text/plain": [
       "StabilizerState(\n",
       "   +ZZII\n",
       "   +IZZI\n",
       "   +IIZZ\n",
       "   +XXXX)"
      ]
     },
     "execution_count": 9,
     "metadata": {},
     "output_type": "execute_result"
    }
   ],
   "source": [
    "stabilizer.ghz_state(4)"
   ]
  },
  {
   "cell_type": "markdown",
   "id": "a6efa2bc-0ccf-41f4-8753-de4941074bc6",
   "metadata": {},
   "source": [
    "`random_pauli_map(N)` samples a $N$ qubit random Pauli state.\n",
    "$$\\rho=U|0\\cdots0\\rangle\\langle 0\\cdots0|U^\\dagger,\\qquad\\text{with }U\\in \\mathrm{Cl}(2)^N.$$"
   ]
  },
  {
   "cell_type": "code",
   "execution_count": 10,
   "id": "be5d4bab-1d60-4836-bb51-195392bd422d",
   "metadata": {},
   "outputs": [
    {
     "data": {
      "text/plain": [
       "CliffordMap(\n",
       "  X0-> -ZIII\n",
       "  Z0-> +YIII\n",
       "  X1-> +IZII\n",
       "  Z1-> +IXII\n",
       "  X2-> -IIZI\n",
       "  Z2-> +IIXI\n",
       "  X3-> -IIIY\n",
       "  Z3-> +IIIZ)"
      ]
     },
     "execution_count": 10,
     "metadata": {},
     "output_type": "execute_result"
    }
   ],
   "source": [
    "stabilizer.random_pauli_map(4)"
   ]
  },
  {
   "cell_type": "markdown",
   "id": "28aa9281-53e3-4ed1-a14e-05914f5ef3cc",
   "metadata": {},
   "source": [
    "`random_clifford_map(N)` samples a $N$ qubit random Clifford (random stabilizer) state.\n",
    "$$\\rho=U|0\\cdots0\\rangle\\langle 0\\cdots0|U^\\dagger,\\qquad\\text{with }U\\in \\mathrm{Cl}(2^N).$$"
   ]
  },
  {
   "cell_type": "code",
   "execution_count": 11,
   "id": "77fcb9d8-73b3-4ac2-95e1-13feaab5c7dd",
   "metadata": {},
   "outputs": [
    {
     "data": {
      "text/plain": [
       "StabilizerState(\n",
       "   +IIIY\n",
       "   +XXXI\n",
       "   +IXXY\n",
       "   +XIXI)"
      ]
     },
     "execution_count": 11,
     "metadata": {},
     "output_type": "execute_result"
    }
   ],
   "source": [
    "stabilizer.random_clifford_state(4)"
   ]
  },
  {
   "cell_type": "markdown",
   "id": "5529dad6-0f76-4d8e-abdf-db2a5c06c312",
   "metadata": {},
   "source": [
    "`stabilizer_state(...)` is a universal constructor of stabilizer state by specifying all stabilizers."
   ]
  },
  {
   "cell_type": "code",
   "execution_count": 12,
   "id": "7bd5ee8e-7922-4549-8adc-82c3397c8862",
   "metadata": {},
   "outputs": [
    {
     "data": {
      "text/plain": [
       "StabilizerState(\n",
       "   +XXY\n",
       "   +ZZI\n",
       "   +IZZ)"
      ]
     },
     "execution_count": 12,
     "metadata": {},
     "output_type": "execute_result"
    }
   ],
   "source": [
    "stabilizer.stabilizer_state('XXY','ZZI','IZZ')"
   ]
  },
  {
   "cell_type": "markdown",
   "id": "21b41892-25ad-407e-94e0-a913768e5a06",
   "metadata": {},
   "source": [
    "# Construct Stabilizer States by Checker Matrix"
   ]
  },
  {
   "cell_type": "markdown",
   "id": "17478a33-61c0-49ae-ac8b-6a7c9553e065",
   "metadata": {},
   "source": [
    "The user can also construct stabilizer state by low-level constructor `StabilizerState(gs, ps, r=0)`:\n",
    "\n",
    "**Parameters**\n",
    "- `gs: int (2*N, 2*N)`: strings of Pauli operators in the stabilizer tableau.\n",
    "- `ps: int (2*N)`: phase indicators (should only be 0 or 2).\n",
    "- `r:  int`: number of logical qubits (log2 rank of density matrix)'''\n",
    "\n",
    "**Returns**\n",
    "- Object of `StabilizerState`"
   ]
  },
  {
   "cell_type": "code",
   "execution_count": 13,
   "id": "22067ef1-b450-460b-975f-7f7f16ef80fb",
   "metadata": {},
   "outputs": [
    {
     "name": "stdout",
     "output_type": "stream",
     "text": [
      "StabilizerState(\n",
      "   +YXY\n",
      "   +XYY\n",
      "   +ZIZ)\n"
     ]
    }
   ],
   "source": [
    "tmp_state = stabilizer.random_clifford_state(3)\n",
    "print(tmp_state)"
   ]
  },
  {
   "cell_type": "code",
   "execution_count": 14,
   "id": "3734c33e-988a-4ab9-886a-ac0f79656bf1",
   "metadata": {},
   "outputs": [],
   "source": [
    "gs = tmp_state.gs\n",
    "ps = tmp_state.ps"
   ]
  },
  {
   "cell_type": "code",
   "execution_count": 15,
   "id": "606829fa-0aea-4085-b668-dd1b6b9af042",
   "metadata": {},
   "outputs": [
    {
     "data": {
      "text/plain": [
       "StabilizerState(\n",
       "   +YXY\n",
       "   +XYY\n",
       "   +ZIZ)"
      ]
     },
     "execution_count": 15,
     "metadata": {},
     "output_type": "execute_result"
    }
   ],
   "source": [
    "stabilizer.StabilizerState(gs=gs,ps=ps)"
   ]
  },
  {
   "cell_type": "markdown",
   "id": "da5e5c77-c225-4adc-8b88-d751df719ebf",
   "metadata": {},
   "source": [
    "A hack to inspect the full stabilizer tableau is by converting `StabilizerState` to `PauliList` by"
   ]
  },
  {
   "cell_type": "code",
   "execution_count": 16,
   "id": "5fa99c09-dd99-4f42-9a3c-4d0d3f7b0a9a",
   "metadata": {},
   "outputs": [
    {
     "data": {
      "text/plain": [
       " +XXY\n",
       " +ZZI\n",
       " +IZZ\n",
       " +ZII\n",
       " +ZXX\n",
       " +ZIX"
      ]
     },
     "execution_count": 16,
     "metadata": {},
     "output_type": "execute_result"
    }
   ],
   "source": [
    "stabilizer.stabilizer_state('XXY','ZZI','IZZ')[:]"
   ]
  },
  {
   "cell_type": "markdown",
   "id": "f4a6c246-b6d5-42ad-90ce-8168c7f02d85",
   "metadata": {},
   "source": [
    "# State-Map convertion"
   ]
  },
  {
   "cell_type": "markdown",
   "id": "017f946e-ddc1-4269-8ca0-d42c215171bb",
   "metadata": {},
   "source": [
    "Stabilizer states and Clifford maps can be mapped to each other."
   ]
  },
  {
   "cell_type": "code",
   "execution_count": 17,
   "id": "5551ff84-d207-44ff-802d-f7efdfdcd6e5",
   "metadata": {},
   "outputs": [
    {
     "name": "stdout",
     "output_type": "stream",
     "text": [
      "quantum state: \n",
      " StabilizerState(\n",
      "   +XXX\n",
      "   +ZZI\n",
      "   +IZZ)\n"
     ]
    }
   ],
   "source": [
    "rho = stabilizer.stabilizer_state('XXX','ZZI','IZZ')\n",
    "print(\"quantum state: \\n\", rho)"
   ]
  },
  {
   "cell_type": "code",
   "execution_count": 18,
   "id": "d0551966-25cf-4f66-9bb0-3ee0a4b0d5b8",
   "metadata": {},
   "outputs": [
    {
     "data": {
      "text/plain": [
       "CliffordMap(\n",
       "  X0-> +ZII\n",
       "  Z0-> +XXX\n",
       "  X1-> +IXX\n",
       "  Z1-> +ZZI\n",
       "  X2-> +IIX\n",
       "  Z2-> +IZZ)"
      ]
     },
     "execution_count": 18,
     "metadata": {},
     "output_type": "execute_result"
    }
   ],
   "source": [
    "rho.to_map()"
   ]
  },
  {
   "cell_type": "markdown",
   "id": "0778d066-7f15-4ef4-9272-c0b9a17dc4f4",
   "metadata": {},
   "source": [
    "And Clifford map can be converted back to the stabilizer state."
   ]
  },
  {
   "cell_type": "code",
   "execution_count": 19,
   "id": "cf75f49a-befa-42e3-b11a-46c9751413c8",
   "metadata": {},
   "outputs": [
    {
     "data": {
      "text/plain": [
       "StabilizerState(\n",
       "   +XXX\n",
       "   +ZZI\n",
       "   +IZZ)"
      ]
     },
     "execution_count": 19,
     "metadata": {},
     "output_type": "execute_result"
    }
   ],
   "source": [
    "rho.to_map().to_state()"
   ]
  },
  {
   "cell_type": "markdown",
   "id": "be2f9da5-4200-4606-b851-538e1a4dc210",
   "metadata": {},
   "source": [
    "* `.to_map()` and `.to_state()` will make **new copies** of Pauli string data in the memory."
   ]
  },
  {
   "cell_type": "markdown",
   "id": "bf25bd34-d135-4a65-8502-ac155be50fab",
   "metadata": {},
   "source": [
    "<div class=\"alert alert-block alert-danger\">\n",
    "The information about the rank of the density matrix is lost in the Clifford map, so the back conversion will result in a zero rank stabilizer state.\n",
    "</div>"
   ]
  },
  {
   "cell_type": "code",
   "execution_count": null,
   "id": "ad4605a4-6189-431a-bfce-1f7c5ec4f247",
   "metadata": {},
   "outputs": [],
   "source": []
  }
 ],
 "metadata": {
  "kernelspec": {
   "display_name": "Python 3 (ipykernel)",
   "language": "python",
   "name": "python3"
  },
  "language_info": {
   "codemirror_mode": {
    "name": "ipython",
    "version": 3
   },
   "file_extension": ".py",
   "mimetype": "text/x-python",
   "name": "python",
   "nbconvert_exporter": "python",
   "pygments_lexer": "ipython3",
   "version": "3.9.12"
  }
 },
 "nbformat": 4,
 "nbformat_minor": 5
}
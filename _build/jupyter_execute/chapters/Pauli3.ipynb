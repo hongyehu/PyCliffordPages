{
 "cells": [
  {
   "cell_type": "code",
   "execution_count": 1,
   "id": "b3a65a64-a869-4404-ad84-c96f9af7eef0",
   "metadata": {},
   "outputs": [],
   "source": [
    "import sys\n",
    "sys.path.insert(0, '..')\n",
    "import numpy as np\n",
    "import qutip as qt\n",
    "import src\n",
    "from src import (utils, paulialg, stabilizer, circuit)"
   ]
  },
  {
   "cell_type": "markdown",
   "id": "ea5571a3-abd0-4ed1-9f4e-922555aa7b3b",
   "metadata": {},
   "source": [
    "# Link to QuTip Library"
   ]
  },
  {
   "cell_type": "markdown",
   "id": "efef200c-7a59-4127-afbe-3cdd97eb1cf7",
   "metadata": {},
   "source": [
    "Pauli operators can be easily converted to the `Qobj` in qutip library\n",
    "- `Pauli.to_qupit()`\n",
    "- `PauliList.to_qutip()`\n",
    "- `PauliMonomial.to_qutip()`\n",
    "- `PauliPolynomial.to_qutip()`"
   ]
  },
  {
   "cell_type": "code",
   "execution_count": 2,
   "id": "99a1b7d3-ed13-411b-8f75-4cae1efa8000",
   "metadata": {},
   "outputs": [
    {
     "data": {
      "text/latex": [
       "Quantum object: dims = [[2, 2], [2, 2]], shape = (4, 4), type = oper, isherm = True\\begin{equation*}\\left(\\begin{array}{*{11}c}0.0 & 0.0 & 0.0 & -1.0j\\\\0.0 & 0.0 & 1.0j & 0.0\\\\0.0 & -1.0j & 0.0 & 0.0\\\\1.0j & 0.0 & 0.0 & 0.0\\\\\\end{array}\\right)\\end{equation*}"
      ],
      "text/plain": [
       "Quantum object: dims = [[2, 2], [2, 2]], shape = (4, 4), type = oper, isherm = True\n",
       "Qobj data =\n",
       "[[0.+0.j 0.+0.j 0.+0.j 0.-1.j]\n",
       " [0.+0.j 0.+0.j 0.+1.j 0.+0.j]\n",
       " [0.+0.j 0.-1.j 0.+0.j 0.+0.j]\n",
       " [0.+1.j 0.+0.j 0.+0.j 0.+0.j]]"
      ]
     },
     "execution_count": 2,
     "metadata": {},
     "output_type": "execute_result"
    }
   ],
   "source": [
    "paulialg.pauli('XY').to_qutip()"
   ]
  },
  {
   "cell_type": "code",
   "execution_count": 3,
   "id": "66797d89-e5b7-4fcb-bf96-ad5e608a7c45",
   "metadata": {},
   "outputs": [
    {
     "data": {
      "text/plain": [
       "[Quantum object: dims = [[2, 2], [2, 2]], shape = (4, 4), type = oper, isherm = True\n",
       " Qobj data =\n",
       " [[0.+0.j 0.+0.j 0.+0.j 0.-1.j]\n",
       "  [0.+0.j 0.+0.j 0.+1.j 0.+0.j]\n",
       "  [0.+0.j 0.-1.j 0.+0.j 0.+0.j]\n",
       "  [0.+1.j 0.+0.j 0.+0.j 0.+0.j]],\n",
       " Quantum object: dims = [[2, 2], [2, 2]], shape = (4, 4), type = oper, isherm = True\n",
       " Qobj data =\n",
       " [[ 1.  0.  0.  0.]\n",
       "  [ 0. -1.  0.  0.]\n",
       "  [ 0.  0. -1.  0.]\n",
       "  [ 0.  0.  0.  1.]]]"
      ]
     },
     "execution_count": 3,
     "metadata": {},
     "output_type": "execute_result"
    }
   ],
   "source": [
    "paulialg.paulis('XY','ZZ').to_qutip()"
   ]
  },
  {
   "cell_type": "code",
   "execution_count": 4,
   "id": "8ae13e9e-5e5b-42cf-99f9-5715e6dbe85d",
   "metadata": {},
   "outputs": [
    {
     "data": {
      "text/latex": [
       "Quantum object: dims = [[2, 2], [2, 2]], shape = (4, 4), type = oper, isherm = False\\begin{equation*}\\left(\\begin{array}{*{11}c}0.0 & 0.0 & 0.0 & (3.0-2.0j)\\\\0.0 & 0.0 & (-3.0+2.0j) & 0.0\\\\0.0 & (3.0-2.0j) & 0.0 & 0.0\\\\(-3.0+2.0j) & 0.0 & 0.0 & 0.0\\\\\\end{array}\\right)\\end{equation*}"
      ],
      "text/plain": [
       "Quantum object: dims = [[2, 2], [2, 2]], shape = (4, 4), type = oper, isherm = False\n",
       "Qobj data =\n",
       "[[ 0.+0.j  0.+0.j  0.+0.j  3.-2.j]\n",
       " [ 0.+0.j  0.+0.j -3.+2.j  0.+0.j]\n",
       " [ 0.+0.j  3.-2.j  0.+0.j  0.+0.j]\n",
       " [-3.+2.j  0.+0.j  0.+0.j  0.+0.j]]"
      ]
     },
     "execution_count": 4,
     "metadata": {},
     "output_type": "execute_result"
    }
   ],
   "source": [
    "((2+3j)*paulialg.pauli('XY')).to_qutip()"
   ]
  },
  {
   "cell_type": "code",
   "execution_count": 5,
   "id": "e468d75a-340c-46b9-afac-9b28e7c1d35f",
   "metadata": {},
   "outputs": [
    {
     "data": {
      "text/latex": [
       "Quantum object: dims = [[2, 2], [2, 2]], shape = (4, 4), type = oper, isherm = False\\begin{equation*}\\left(\\begin{array}{*{11}c}1.500 & 0.0 & 0.0 & (3.0-2.0j)\\\\0.0 & -1.500 & (-3.0+2.0j) & 0.0\\\\0.0 & (3.0-2.0j) & -1.500 & 0.0\\\\(-3.0+2.0j) & 0.0 & 0.0 & 1.500\\\\\\end{array}\\right)\\end{equation*}"
      ],
      "text/plain": [
       "Quantum object: dims = [[2, 2], [2, 2]], shape = (4, 4), type = oper, isherm = False\n",
       "Qobj data =\n",
       "[[ 1.5+0.j  0. +0.j  0. +0.j  3. -2.j]\n",
       " [ 0. +0.j -1.5+0.j -3. +2.j  0. +0.j]\n",
       " [ 0. +0.j  3. -2.j -1.5+0.j  0. +0.j]\n",
       " [-3. +2.j  0. +0.j  0. +0.j  1.5+0.j]]"
      ]
     },
     "execution_count": 5,
     "metadata": {},
     "output_type": "execute_result"
    }
   ],
   "source": [
    "((2+3j)*paulialg.pauli('XY')+(1.5)*paulialg.pauli('ZZ')).to_qutip()"
   ]
  },
  {
   "cell_type": "code",
   "execution_count": null,
   "id": "9148f796-a4fb-4b2c-9739-306bcf90580e",
   "metadata": {},
   "outputs": [],
   "source": []
  }
 ],
 "metadata": {
  "kernelspec": {
   "display_name": "Python 3 (ipykernel)",
   "language": "python",
   "name": "python3"
  },
  "language_info": {
   "codemirror_mode": {
    "name": "ipython",
    "version": 3
   },
   "file_extension": ".py",
   "mimetype": "text/x-python",
   "name": "python",
   "nbconvert_exporter": "python",
   "pygments_lexer": "ipython3",
   "version": "3.9.12"
  }
 },
 "nbformat": 4,
 "nbformat_minor": 5
}
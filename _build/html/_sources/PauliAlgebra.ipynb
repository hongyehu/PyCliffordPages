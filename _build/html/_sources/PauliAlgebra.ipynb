{
 "cells": [
  {
   "cell_type": "code",
   "execution_count": 1,
   "id": "b5abe7b4-9703-47c1-99ff-06158d197a96",
   "metadata": {},
   "outputs": [],
   "source": [
    "from context import *"
   ]
  },
  {
   "cell_type": "markdown",
   "id": "c405f7bb-5d85-42ec-8fe3-fc8c6e5f4809",
   "metadata": {},
   "source": [
    "The design of 'PyClifford' is the hierarchy of: \n",
    "\n",
    "* Pauli String and its algebra\n",
    "\n",
    "* Stabilizer states and Clifford Unitarys Map (state-map duality)\n",
    "\n",
    "* Circuit \n",
    "\n",
    "* Device"
   ]
  },
  {
   "cell_type": "markdown",
   "id": "a765e9fc-2a22-4ef9-ad01-3fdc99549804",
   "metadata": {
    "tags": []
   },
   "source": [
    "# Pauli Algebra (`paulialg`)"
   ]
  },
  {
   "cell_type": "markdown",
   "id": "80fe7055-9787-4300-ac18-8ccf174c6d89",
   "metadata": {},
   "source": [
    "This tutorial contains two part: 1. the basic usage of PauliAlgebra class and 2. its implementation details"
   ]
  },
  {
   "cell_type": "markdown",
   "id": "db592821-53f5-48a3-8fcc-8805198374a5",
   "metadata": {
    "tags": []
   },
   "source": [
    "## Basic Usage"
   ]
  },
  {
   "cell_type": "markdown",
   "id": "8062e7df-7165-4c5b-b61c-ac588425340f",
   "metadata": {},
   "source": [
    "----"
   ]
  },
  {
   "cell_type": "markdown",
   "id": "9586324a-dad5-453c-9fa1-9d421b6034b3",
   "metadata": {},
   "source": [
    "### Operator Construction"
   ]
  },
  {
   "cell_type": "markdown",
   "id": "edc4183c-2bbb-435e-a207-7f5e34d0d999",
   "metadata": {},
   "source": [
    "#### Pauli Operator"
   ]
  },
  {
   "cell_type": "markdown",
   "id": "fb2f64a5-bac3-4ae2-8ae9-13b15dda7676",
   "metadata": {},
   "source": [
    "A **Pauli operator** can be constructed using the `pauli()` constructor."
   ]
  },
  {
   "cell_type": "code",
   "execution_count": 7,
   "id": "ff69c88e-2434-4668-b722-940e41d50d8a",
   "metadata": {},
   "outputs": [
    {
     "data": {
      "text/plain": [
       " +XXIYZ"
      ]
     },
     "execution_count": 7,
     "metadata": {},
     "output_type": "execute_result"
    }
   ],
   "source": [
    "paulialg.pauli('XXIYZ')"
   ]
  },
  {
   "cell_type": "markdown",
   "id": "af3e0830-9f49-4e54-825c-e4df16e1827e",
   "metadata": {},
   "source": [
    "**Specify the Phase Factor**\n",
    "\n",
    "By default the operator has a $+1$ phase factor in the front. To specify other phase factors($\\pm1$ or $\\pm \\mathrm{i}$), use `'+'`, `'-'`, `'i'` indicators before the Pauli string."
   ]
  },
  {
   "cell_type": "code",
   "execution_count": 9,
   "id": "969ef29d-5fcf-4be1-84ee-be5452ac4245",
   "metadata": {},
   "outputs": [
    {
     "data": {
      "text/plain": [
       "( -X, +iX, -iX)"
      ]
     },
     "execution_count": 9,
     "metadata": {},
     "output_type": "execute_result"
    }
   ],
   "source": [
    "paulialg.pauli('-X'), paulialg.pauli('iX'), paulialg.pauli('-iX')"
   ]
  },
  {
   "cell_type": "markdown",
   "id": "b72bc708-1cd4-4e66-b0bf-aeea5218a577",
   "metadata": {},
   "source": [
    "It is also possible to assign the phase factor by scalar mutiplication."
   ]
  },
  {
   "cell_type": "code",
   "execution_count": 11,
   "id": "537b5423-690b-4d53-996a-bc204f7c1152",
   "metadata": {},
   "outputs": [
    {
     "data": {
      "text/plain": [
       "( -X, +iX)"
      ]
     },
     "execution_count": 11,
     "metadata": {},
     "output_type": "execute_result"
    }
   ],
   "source": [
    "-paulialg.pauli('X'), 1j*paulialg.pauli('X')"
   ]
  },
  {
   "cell_type": "markdown",
   "id": "6c5816c5-6c0f-4066-a2de-edd2c7b42924",
   "metadata": {},
   "source": [
    "Other methods to specify a Pauli string:\n",
    "* construct from a tuple / list / array of indices (`0` = `I`, `1` = `X`, `2` = `Y`, `3` = `Z`)"
   ]
  },
  {
   "cell_type": "code",
   "execution_count": 16,
   "id": "967e3796-1cfc-41ec-a96d-2c211b7e90ec",
   "metadata": {},
   "outputs": [
    {
     "data": {
      "text/plain": [
       "( +IXYZ,  +IXYZ,  +IXYZ)"
      ]
     },
     "execution_count": 16,
     "metadata": {},
     "output_type": "execute_result"
    }
   ],
   "source": [
    "paulialg.pauli((0,1,2,3)), paulialg.pauli([0,1,2,3]), paulialg.pauli(numpy.array([0,1,2,3]))"
   ]
  },
  {
   "cell_type": "markdown",
   "id": "08cb55d0-a14a-4729-bfc2-07807f04c8b3",
   "metadata": {},
   "source": [
    "* construct from a dictionary that maps positions to indices. (*Note*: using this method must also provide the total number of qubits as the second argument, because the qubit number can not be infered from the dictionary alone.)"
   ]
  },
  {
   "cell_type": "code",
   "execution_count": 19,
   "id": "c21cd7dc-e153-427d-9ae2-29bb05b73068",
   "metadata": {},
   "outputs": [
    {
     "data": {
      "text/plain": [
       "( +IXIIYZ,  +IXIIYZ)"
      ]
     },
     "execution_count": 19,
     "metadata": {},
     "output_type": "execute_result"
    }
   ],
   "source": [
    "paulialg.pauli({1:'X', 4:'Y', 5:'Z'}, 6), paulialg.pauli({1:1, 4:2, 5:3}, 6),"
   ]
  },
  {
   "cell_type": "markdown",
   "id": "ec8c6dba-2856-4731-86bd-8367830d8159",
   "metadata": {},
   "source": [
    "#### Pauli Operator List"
   ]
  },
  {
   "cell_type": "markdown",
   "id": "af3ff507-7a45-4b3e-9ff9-18be4eedbb45",
   "metadata": {},
   "source": [
    "A **list of Pauli operators** can be constructed by the `paulis()` constructor."
   ]
  },
  {
   "cell_type": "code",
   "execution_count": 23,
   "id": "dd4d8305-1371-42f6-8b0c-ec6b3e560e09",
   "metadata": {},
   "outputs": [
    {
     "data": {
      "text/plain": [
       "+iX\n",
       "-iY\n",
       " +Z"
      ]
     },
     "execution_count": 23,
     "metadata": {},
     "output_type": "execute_result"
    }
   ],
   "source": [
    "paulialg.paulis('iX', '-iY', 'Z')"
   ]
  },
  {
   "cell_type": "markdown",
   "id": "62bebb78-47da-4b28-a559-84a2005cf99d",
   "metadata": {},
   "source": [
    "It can take a generator and iterate through its elements to construct a list of Pauli operators."
   ]
  },
  {
   "cell_type": "code",
   "execution_count": 26,
   "id": "07fb137b-484c-4020-a2d5-39692e78d6f1",
   "metadata": {},
   "outputs": [
    {
     "data": {
      "text/plain": [
       " +ZIII\n",
       " +IZII\n",
       " +IIZI\n",
       " +IIIZ"
      ]
     },
     "execution_count": 26,
     "metadata": {},
     "output_type": "execute_result"
    }
   ],
   "source": [
    "paulialg.paulis(paulialg.pauli({i:'Z'}, 4) for i in range(4))"
   ]
  },
  {
   "cell_type": "markdown",
   "id": "0ef13cb1-4419-4bf4-9abc-cba334b08d0c",
   "metadata": {},
   "source": [
    "It can also take a iterable (tuple / list / set) and convert it to a list of Pauli operators."
   ]
  },
  {
   "cell_type": "code",
   "execution_count": 28,
   "id": "34a64f7b-2afc-4fe5-b285-51fd2eed9dc2",
   "metadata": {},
   "outputs": [
    {
     "data": {
      "text/plain": [
       "+iX\n",
       "-iY\n",
       " +Z"
      ]
     },
     "execution_count": 28,
     "metadata": {},
     "output_type": "execute_result"
    }
   ],
   "source": [
    "lists = ['iX', '-iY', 'Z']\n",
    "paulialg.paulis(lists)"
   ]
  },
  {
   "cell_type": "markdown",
   "id": "13956662-c0ef-4ed7-b3f3-b77fd20ed3d6",
   "metadata": {},
   "source": [
    "#### Size information"
   ]
  },
  {
   "cell_type": "markdown",
   "id": "7c32cc28-f857-4268-b3ff-8032d2a39921",
   "metadata": {},
   "source": [
    "For Pauli operator, `.N` returns the number of qubits (size of system) that the operator acts on."
   ]
  },
  {
   "cell_type": "code",
   "execution_count": 30,
   "id": "90da2fd3-d904-4aaa-8da6-ccf8a028e208",
   "metadata": {},
   "outputs": [
    {
     "data": {
      "text/plain": [
       "6"
      ]
     },
     "execution_count": 30,
     "metadata": {},
     "output_type": "execute_result"
    }
   ],
   "source": [
    "paulialg.pauli('IXYIXI').N"
   ]
  },
  {
   "cell_type": "markdown",
   "id": "8ca8c071-a461-476f-9d67-423bb33522ce",
   "metadata": {},
   "source": [
    "For Pauli operator list, `.L` returns the number of operators in the list and `.N` returns of the number fo qubits in the system."
   ]
  },
  {
   "cell_type": "code",
   "execution_count": 32,
   "id": "9bdd9b42-1f1e-4f87-b4e8-72d9162ad116",
   "metadata": {},
   "outputs": [
    {
     "data": {
      "text/plain": [
       "(4, 2)"
      ]
     },
     "execution_count": 32,
     "metadata": {},
     "output_type": "execute_result"
    }
   ],
   "source": [
    "plst = paulialg.paulis('II','XX','YY','ZZ')\n",
    "plst.L, plst.N"
   ]
  },
  {
   "cell_type": "markdown",
   "id": "893adbea-f4c7-4e5b-9e61-61d205ecf72c",
   "metadata": {},
   "source": [
    "We can also return the number of operators in the list by naive python `len()` function"
   ]
  },
  {
   "cell_type": "code",
   "execution_count": 33,
   "id": "b386667b-fd00-4a2a-b8d8-7422f99a4244",
   "metadata": {},
   "outputs": [
    {
     "data": {
      "text/plain": [
       "4"
      ]
     },
     "execution_count": 33,
     "metadata": {},
     "output_type": "execute_result"
    }
   ],
   "source": [
    "len(plst)"
   ]
  },
  {
   "cell_type": "markdown",
   "id": "ea824752-647f-4f16-96df-1cf74525b025",
   "metadata": {},
   "source": [
    "#### Selection and Slicing"
   ]
  },
  {
   "cell_type": "markdown",
   "id": "cfa25d16-f074-4fb2-ac9c-1af3fe036407",
   "metadata": {},
   "source": [
    "Select a single element in the Pauli operator list."
   ]
  },
  {
   "cell_type": "code",
   "execution_count": 34,
   "id": "fc5ed6e1-95e2-4562-9935-7fa0eb412cc4",
   "metadata": {},
   "outputs": [
    {
     "data": {
      "text/plain": [
       " +XX"
      ]
     },
     "execution_count": 34,
     "metadata": {},
     "output_type": "execute_result"
    }
   ],
   "source": [
    "plst[1]"
   ]
  },
  {
   "cell_type": "markdown",
   "id": "a29fc1f2-a622-40f3-a361-73f1a30e8321",
   "metadata": {},
   "source": [
    "Select a range of operators in the Pauli operator list: the slicing is the same as python array"
   ]
  },
  {
   "cell_type": "code",
   "execution_count": 35,
   "id": "12e37c21-960f-49ff-bd52-b7aa79a75b67",
   "metadata": {},
   "outputs": [
    {
     "data": {
      "text/plain": [
       " +II\n",
       " +XX\n",
       " +YY"
      ]
     },
     "execution_count": 35,
     "metadata": {},
     "output_type": "execute_result"
    }
   ],
   "source": [
    "plst[0:3]"
   ]
  },
  {
   "cell_type": "code",
   "execution_count": 36,
   "id": "fd9c034e-49d9-4cda-8b14-165edecab55a",
   "metadata": {},
   "outputs": [
    {
     "data": {
      "text/plain": [
       " +II\n",
       " +YY"
      ]
     },
     "execution_count": 36,
     "metadata": {},
     "output_type": "execute_result"
    }
   ],
   "source": [
    "plst[::2]"
   ]
  },
  {
   "cell_type": "markdown",
   "id": "4cbb747e-81cf-4169-a1ca-406d1f6ad59f",
   "metadata": {},
   "source": [
    "It is also allow to be selected by a index array or a boolean mask."
   ]
  },
  {
   "cell_type": "code",
   "execution_count": 37,
   "id": "83de9381-3601-45e4-933b-8219dcb1c69a",
   "metadata": {},
   "outputs": [
    {
     "data": {
      "text/plain": [
       " +YY\n",
       " +XX\n",
       " +XX\n",
       " +II\n",
       " +ZZ"
      ]
     },
     "execution_count": 37,
     "metadata": {},
     "output_type": "execute_result"
    }
   ],
   "source": [
    "plst[numpy.array([2,1,1,0,3])]"
   ]
  },
  {
   "cell_type": "code",
   "execution_count": 38,
   "id": "59e23f3d-c1a2-4770-a640-9ac56d5c9f13",
   "metadata": {},
   "outputs": [
    {
     "data": {
      "text/plain": [
       " +II\n",
       " +ZZ"
      ]
     },
     "execution_count": 38,
     "metadata": {},
     "output_type": "execute_result"
    }
   ],
   "source": [
    "plst[numpy.array([True,False,False,True])]"
   ]
  },
  {
   "cell_type": "markdown",
   "id": "afeeadaa-2890-40bf-a11a-7ad92e16b5e4",
   "metadata": {},
   "source": [
    "---"
   ]
  },
  {
   "cell_type": "markdown",
   "id": "6c71f175-cab5-49f8-8966-4b0598de1e52",
   "metadata": {},
   "source": [
    "### Operator Algebra"
   ]
  },
  {
   "cell_type": "markdown",
   "id": "ca2262fb-e559-4f02-b34e-c72f47e470c3",
   "metadata": {},
   "source": [
    "#### Scalar Product"
   ]
  },
  {
   "cell_type": "markdown",
   "id": "e045643d-4eff-450e-89ce-d3a01bbd579d",
   "metadata": {},
   "source": [
    "Pauli operator and operator list can be multiplied with a scalar.\n",
    "* If the scalar is a phase factor (as power of imaginary unit), the phase will be multiplied to the operator."
   ]
  },
  {
   "cell_type": "code",
   "execution_count": 40,
   "id": "ed06c66f-2bc1-4ab7-a8e9-4a14b006985d",
   "metadata": {},
   "outputs": [
    {
     "data": {
      "text/plain": [
       "( -X, +iX)"
      ]
     },
     "execution_count": 40,
     "metadata": {},
     "output_type": "execute_result"
    }
   ],
   "source": [
    "-paulialg.pauli('X'), 1j*paulialg.pauli('X')"
   ]
  },
  {
   "cell_type": "markdown",
   "id": "0f9a6afe-3cfe-479f-a791-ecc6426a3338",
   "metadata": {},
   "source": [
    "For operator list, the scalar multiplication broadcast to every operator in the list."
   ]
  },
  {
   "cell_type": "code",
   "execution_count": 43,
   "id": "feac0f28-b28b-409a-b5a1-35c22c08fcbe",
   "metadata": {},
   "outputs": [
    {
     "data": {
      "text/plain": [
       " -II\n",
       " -XX\n",
       " -YY\n",
       " -ZZ"
      ]
     },
     "execution_count": 43,
     "metadata": {},
     "output_type": "execute_result"
    }
   ],
   "source": [
    "-paulialg.paulis('II','XX','YY','ZZ')"
   ]
  },
  {
   "cell_type": "markdown",
   "id": "312a9715-f31c-4f5d-a8ef-a007a1b15d51",
   "metadata": {},
   "source": [
    "* if the scalar is beyond a phase factor, the Pauli operator will be promoted to a **Poly monomial** (i.e. Pauli operator equipted with a complex coefficient.)"
   ]
  },
  {
   "cell_type": "code",
   "execution_count": 44,
   "id": "a3ab9b10-de22-4d89-88fe-106c6867ae8b",
   "metadata": {},
   "outputs": [
    {
     "data": {
      "text/plain": [
       "(2 X, -1.50 X, (-0.30+0.40j) X)"
      ]
     },
     "execution_count": 44,
     "metadata": {},
     "output_type": "execute_result"
    }
   ],
   "source": [
    "2*paulialg.pauli('X'), -1.5*paulialg.pauli('X'), (-0.3+0.4j)*paulialg.pauli('X')"
   ]
  },
  {
   "cell_type": "code",
   "execution_count": 45,
   "id": "cd83c572-4501-4b01-996a-1a93091cbae4",
   "metadata": {},
   "outputs": [],
   "source": [
    "a = (-0.3+0.4j)*paulialg.pauli('X')"
   ]
  },
  {
   "cell_type": "code",
   "execution_count": 48,
   "id": "48898880-ae8a-427d-a8bb-1a24edeaba9f",
   "metadata": {},
   "outputs": [
    {
     "data": {
      "text/plain": [
       "(-0.3+0.4j)"
      ]
     },
     "execution_count": 48,
     "metadata": {},
     "output_type": "execute_result"
    }
   ],
   "source": [
    "a.c"
   ]
  },
  {
   "cell_type": "markdown",
   "id": "619cf509-de25-49ed-9009-693c970a14e8",
   "metadata": {},
   "source": [
    "<div class=\"alert alert-block alert-danger\">\n",
    "However, Pauli opreator list <b>does not support</b> scalar multiplication beyond the four phase factors. (Because there is no canonical meanding for a list of Pauli monomials).\n",
    "</div>"
   ]
  },
  {
   "cell_type": "markdown",
   "id": "d6f8e903-9009-4d71-bf9a-0d28df7e3718",
   "metadata": {},
   "source": [
    "#### Linear Combination"
   ]
  },
  {
   "cell_type": "markdown",
   "id": "76a09667-fdd6-41cb-8e51-2f8f2e6c40dc",
   "metadata": {},
   "source": [
    "Pauli operators can be linearly combined in to a **Pauli polynomial**."
   ]
  },
  {
   "cell_type": "code",
   "execution_count": 54,
   "id": "bca4ec5e-85b8-4c4e-b23c-d3a46e42b53d",
   "metadata": {},
   "outputs": [
    {
     "data": {
      "text/plain": [
       "-0.50 ZZ +1 XX +1 YY"
      ]
     },
     "execution_count": 54,
     "metadata": {},
     "output_type": "execute_result"
    }
   ],
   "source": [
    "paulialg.pauli('XX') + paulialg.pauli('YY') - 0.5 * paulialg.pauli('ZZ')"
   ]
  },
  {
   "cell_type": "markdown",
   "id": "0f95f568-3506-4348-8f72-42f08d0aea80",
   "metadata": {},
   "source": [
    "<div class=\"alert alert-block alert-success\">\n",
    "Adding Pauli operators with any number, the number will be promoted to the number times identity operator automatically. For example, a projection operator can be written as\n",
    "</div>"
   ]
  },
  {
   "cell_type": "code",
   "execution_count": 56,
   "id": "e828c24d-fe49-41fb-9211-6a7a83ce4187",
   "metadata": {},
   "outputs": [
    {
     "data": {
      "text/plain": [
       "0.50 II +0.50 ZZ"
      ]
     },
     "execution_count": 56,
     "metadata": {},
     "output_type": "execute_result"
    }
   ],
   "source": [
    "(paulialg.pauli('ZZ') + 1)/2"
   ]
  },
  {
   "cell_type": "markdown",
   "id": "454497c8-3c34-4645-a158-746e25c54274",
   "metadata": {},
   "source": [
    "Operators can be summed up with python built-in function `sum()`."
   ]
  },
  {
   "cell_type": "code",
   "execution_count": 59,
   "id": "2ac03a43-7813-4298-9610-1cdd64584f21",
   "metadata": {},
   "outputs": [
    {
     "data": {
      "text/plain": [
       "1 II +1 ZZ +1 XX +1 YY"
      ]
     },
     "execution_count": 59,
     "metadata": {},
     "output_type": "execute_result"
    }
   ],
   "source": [
    "sum(paulialg.paulis('II','XX','YY','ZZ'))"
   ]
  },
  {
   "cell_type": "markdown",
   "id": "eb81bd38-7561-4412-a69d-8c0eaaf626e3",
   "metadata": {},
   "source": [
    "#### Dot Productor (Matrix Multiplication)"
   ]
  },
  {
   "cell_type": "markdown",
   "id": "90bc6433-c718-45fb-9c1b-809157a56b9a",
   "metadata": {},
   "source": [
    "Dot productor (composition) of Pauli operators is implemented as the matrix multiplication `matmul`, which can be implemented using the operand `@`."
   ]
  },
  {
   "cell_type": "code",
   "execution_count": 61,
   "id": "5cdf19b0-c3b0-4e32-83ff-87913be9087b",
   "metadata": {},
   "outputs": [
    {
     "data": {
      "text/plain": [
       "(+iZ, -iZ)"
      ]
     },
     "execution_count": 61,
     "metadata": {},
     "output_type": "execute_result"
    }
   ],
   "source": [
    "paulialg.pauli('X') @ paulialg.pauli('Y'), paulialg.pauli('Y') @ paulialg.pauli('X')"
   ]
  },
  {
   "cell_type": "markdown",
   "id": "30850da7-82b8-424b-a8b2-78a74dc904cf",
   "metadata": {},
   "source": [
    "<div class=\"alert alert-block alert-success\">\n",
    "The dot product of two Pauli operators is still a Pauli operator. However if any one of them is Pauli monomial, the result will also be Pauli monomial.\n",
    "</div>"
   ]
  },
  {
   "cell_type": "code",
   "execution_count": 63,
   "id": "86aa0326-3678-4827-adab-2e6c8b825fff",
   "metadata": {},
   "outputs": [
    {
     "data": {
      "text/plain": [
       "(3 I, (0.00-6.00j) Y)"
      ]
     },
     "execution_count": 63,
     "metadata": {},
     "output_type": "execute_result"
    }
   ],
   "source": [
    "(3*paulialg.pauli('X')) @ paulialg.pauli('X'), (2*paulialg.pauli('X')) @ (3*paulialg.pauli('Z'))"
   ]
  },
  {
   "cell_type": "markdown",
   "id": "de9d1b53-88f1-49bd-b912-dc969645efdb",
   "metadata": {},
   "source": [
    "Dot product of Pauli polynomials will be expanded."
   ]
  },
  {
   "cell_type": "code",
   "execution_count": 65,
   "id": "0b9e153a-4fd0-4367-9830-1ddb8fa55791",
   "metadata": {},
   "outputs": [
    {
     "data": {
      "text/plain": [
       "0.25 II +0.50 YY +0.50 XX +0.50 YY +1 II -1 ZZ +0.50 XX -1 ZZ +1 II"
      ]
     },
     "execution_count": 65,
     "metadata": {},
     "output_type": "execute_result"
    }
   ],
   "source": [
    "poly = paulialg.pauli('XX') + paulialg.pauli('YY') - 0.5 * paulialg.pauli('ZZ')\n",
    "poly @ poly"
   ]
  },
  {
   "cell_type": "markdown",
   "id": "a66ca880-b772-47e2-96c7-4cf594a06d1a",
   "metadata": {},
   "source": [
    "Terms will not be combined automatically. To combine them, the `.reduce()` method should be explicitly called."
   ]
  },
  {
   "cell_type": "code",
   "execution_count": 66,
   "id": "9bc9265b-3add-434d-a5b6-facdeff2cbd8",
   "metadata": {},
   "outputs": [
    {
     "data": {
      "text/plain": [
       "2.25 II -2 ZZ +1 XX +1 YY"
      ]
     },
     "execution_count": 66,
     "metadata": {},
     "output_type": "execute_result"
    }
   ],
   "source": [
    "(poly @ poly).reduce()"
   ]
  },
  {
   "cell_type": "markdown",
   "id": "83448402-0bd1-45a6-b920-1c957f14ca92",
   "metadata": {},
   "source": [
    "#### Trace"
   ]
  },
  {
   "cell_type": "markdown",
   "id": "7109a399-c9e4-4bef-9bb1-11e23ea1b2d0",
   "metadata": {},
   "source": [
    " - `Pauli.trace()` will return the trace of a Pauli operator\n",
    " - `PauliList.trace()` will return the trace of a list of Pauli operators\n",
    " - `PauliMonomial.trace()` will return the trace of a Pauli monomial\n",
    " - `PauliPolynomial.trace()` will return the trace of a Pauli polynomial"
   ]
  },
  {
   "cell_type": "code",
   "execution_count": 4,
   "id": "2b048363-6d5f-42d1-83a3-e00704c0fa33",
   "metadata": {},
   "outputs": [
    {
     "data": {
      "text/plain": [
       "4"
      ]
     },
     "execution_count": 4,
     "metadata": {},
     "output_type": "execute_result"
    }
   ],
   "source": [
    "paulialg.pauli('II').trace()"
   ]
  },
  {
   "cell_type": "code",
   "execution_count": 6,
   "id": "0a96b5d1-274f-42b2-8535-b7bb2009f305",
   "metadata": {},
   "outputs": [
    {
     "data": {
      "text/plain": [
       "array([4, 0])"
      ]
     },
     "execution_count": 6,
     "metadata": {},
     "output_type": "execute_result"
    }
   ],
   "source": [
    "paulialg.paulis('II','YY').trace()"
   ]
  },
  {
   "cell_type": "code",
   "execution_count": 8,
   "id": "ae013f08-c2f4-4a6c-8b66-b9f1a2ba6bf0",
   "metadata": {},
   "outputs": [
    {
     "data": {
      "text/plain": [
       "(12+0j)"
      ]
     },
     "execution_count": 8,
     "metadata": {},
     "output_type": "execute_result"
    }
   ],
   "source": [
    "(3*paulialg.pauli('II')).trace()"
   ]
  },
  {
   "cell_type": "code",
   "execution_count": 9,
   "id": "901588b2-5b56-4931-aa9e-9a5895ac5555",
   "metadata": {},
   "outputs": [
    {
     "data": {
      "text/plain": [
       "(24+10j)"
      ]
     },
     "execution_count": 9,
     "metadata": {},
     "output_type": "execute_result"
    }
   ],
   "source": [
    "(3*paulialg.pauli('II')+(3+2.5j)*paulialg.pauli('II')).trace()"
   ]
  },
  {
   "cell_type": "markdown",
   "id": "2dc97cf7-8fd1-4250-b0d6-f5a0375e1301",
   "metadata": {},
   "source": [
    "#### Weight"
   ]
  },
  {
   "cell_type": "markdown",
   "id": "04a592d4-1120-4cd3-a06a-de6036aded16",
   "metadata": {},
   "source": [
    "- `Pauli.weight()` will return the weight (the support of non identity operators) of a Pauli operator\n",
    "- `PauliList.weight()` will return the weight of a list of Pauli operators"
   ]
  },
  {
   "cell_type": "code",
   "execution_count": 10,
   "id": "33cdee1c-dfec-4875-ae8f-4fb3ed962238",
   "metadata": {},
   "outputs": [
    {
     "data": {
      "text/plain": [
       "3"
      ]
     },
     "execution_count": 10,
     "metadata": {},
     "output_type": "execute_result"
    }
   ],
   "source": [
    "paulialg.pauli('IXIYZII').weight()"
   ]
  },
  {
   "cell_type": "code",
   "execution_count": 12,
   "id": "799d7139-e5f9-474a-b4fe-5e09ebfd3a1d",
   "metadata": {},
   "outputs": [
    {
     "data": {
      "text/plain": [
       "array([3, 1])"
      ]
     },
     "execution_count": 12,
     "metadata": {},
     "output_type": "execute_result"
    }
   ],
   "source": [
    "paulialg.paulis('IXIYZII','IXIIIII').weight()"
   ]
  },
  {
   "cell_type": "markdown",
   "id": "6c0a6abe-4921-4e30-962e-3fe24ace4a14",
   "metadata": {},
   "source": [
    "---"
   ]
  },
  {
   "cell_type": "markdown",
   "id": "7ba208f0-7c81-41f9-b423-8ce2bafdb0d5",
   "metadata": {},
   "source": [
    "### Properties and Type Conversion"
   ]
  },
  {
   "cell_type": "markdown",
   "id": "58a65ee5-e857-42b5-a8b1-4c34bca4344d",
   "metadata": {},
   "source": [
    "There are four different types of objects involved in the above discussion.\n",
    "* `Pauli` (base class): a Pauli operator (in the Pauli group).\n",
    "    * `PauliMonomial` (subclass of `Pauli`): a Pauli operator with general coefficient (outside the Pauli group). \n",
    "* `PauliList` (base class): a list of Pauli operators.\n",
    "    * `PauliPolynomial` (subclass of `PauliList`): a linear combination of Pauli operators (stored as Pauli operator list together with combination coefficients.)"
   ]
  },
  {
   "cell_type": "code",
   "execution_count": 67,
   "id": "ae920491-966c-411e-ba8f-fad162a1fe48",
   "metadata": {},
   "outputs": [
    {
     "data": {
      "text/plain": [
       "(src.paulialg.Pauli,\n",
       " src.paulialg.PauliMonomial,\n",
       " src.paulialg.PauliList,\n",
       " src.paulialg.PauliPolynomial)"
      ]
     },
     "execution_count": 67,
     "metadata": {},
     "output_type": "execute_result"
    }
   ],
   "source": [
    "type(paulialg.pauli('X')), type(2*paulialg.pauli('X')), \\\n",
    "type(paulialg.paulis('X','X')), type(sum(paulialg.paulis('X','X')))"
   ]
  },
  {
   "cell_type": "markdown",
   "id": "d0cacff3-1f2c-40a7-a3db-fdf8d0b5cb3d",
   "metadata": {},
   "source": [
    "#### Properties"
   ]
  },
  {
   "cell_type": "markdown",
   "id": "f51b201d-5ca9-4ca5-a8e3-f8a0e2780535",
   "metadata": {},
   "source": [
    "As subclasses, `PauliMonomial` and `PauliPolynomial` inherit the related size properties from their parent classes."
   ]
  },
  {
   "cell_type": "code",
   "execution_count": 69,
   "id": "36d904ec-d36f-41cf-a5f5-c2ca28f7cbba",
   "metadata": {},
   "outputs": [
    {
     "data": {
      "text/plain": [
       "3"
      ]
     },
     "execution_count": 69,
     "metadata": {},
     "output_type": "execute_result"
    }
   ],
   "source": [
    "(5*paulialg.pauli('XYZ')).N"
   ]
  },
  {
   "cell_type": "code",
   "execution_count": 75,
   "id": "767d812c-c8ab-4ffd-9ef4-c5c44904e83f",
   "metadata": {},
   "outputs": [
    {
     "data": {
      "text/plain": [
       "(1 II +1 ZZ +1 XX +1 YY, 4, 2)"
      ]
     },
     "execution_count": 75,
     "metadata": {},
     "output_type": "execute_result"
    }
   ],
   "source": [
    "poly = sum(paulialg.paulis('II','XX','YY','ZZ'))\n",
    "poly, poly.L, poly.N"
   ]
  },
  {
   "cell_type": "markdown",
   "id": "9c0beea1-0c3b-48d1-9b7a-4301aef7f81f",
   "metadata": {},
   "source": [
    "`PauliPolynomial` can be selected and sliced as a list."
   ]
  },
  {
   "cell_type": "code",
   "execution_count": 76,
   "id": "052a3cfe-2064-4887-b3ce-c41429bd05bd",
   "metadata": {},
   "outputs": [
    {
     "data": {
      "text/plain": [
       "(1 ZZ, 1 II +1 ZZ, 1 II +1 XX)"
      ]
     },
     "execution_count": 76,
     "metadata": {},
     "output_type": "execute_result"
    }
   ],
   "source": [
    "poly[1], poly[:2], poly[::2]"
   ]
  },
  {
   "cell_type": "code",
   "execution_count": 77,
   "id": "761e82d8-621a-41b3-8a8a-7afdcfd248f1",
   "metadata": {},
   "outputs": [
    {
     "data": {
      "text/plain": [
       "1 ZZ +1 ZZ +1 ZZ +1 XX"
      ]
     },
     "execution_count": 77,
     "metadata": {},
     "output_type": "execute_result"
    }
   ],
   "source": [
    "poly[numpy.array([1,1,1,2])]"
   ]
  },
  {
   "cell_type": "code",
   "execution_count": 78,
   "id": "3e355684-210a-4893-b358-96961d62a4c1",
   "metadata": {},
   "outputs": [
    {
     "data": {
      "text/plain": [
       "1 II +1 YY"
      ]
     },
     "execution_count": 78,
     "metadata": {},
     "output_type": "execute_result"
    }
   ],
   "source": [
    "poly[numpy.array([True,False,False,True])]"
   ]
  },
  {
   "cell_type": "markdown",
   "id": "a3192e9a-af8b-4588-94ae-610cd4e07bc9",
   "metadata": {},
   "source": [
    "#### Type Conversion"
   ]
  },
  {
   "cell_type": "markdown",
   "id": "44a9f99b-3b29-4229-bc79-b09020f51265",
   "metadata": {},
   "source": [
    "`Pauli` can be converted to `PauliMonomial`."
   ]
  },
  {
   "cell_type": "code",
   "execution_count": 80,
   "id": "90b26904-93b4-4d61-88d2-39cb47e83f98",
   "metadata": {},
   "outputs": [
    {
     "data": {
      "text/plain": [
       "1 XX"
      ]
     },
     "execution_count": 80,
     "metadata": {},
     "output_type": "execute_result"
    }
   ],
   "source": [
    "paulialg.pauli('XX').as_monomial()"
   ]
  },
  {
   "cell_type": "markdown",
   "id": "bb887d4f-8963-45af-8cfc-5c2ca6bea08a",
   "metadata": {},
   "source": [
    "`Pauli`, `PauliList`, `PauliMonomial` can all be converted to `PauliPolynomial`."
   ]
  },
  {
   "cell_type": "code",
   "execution_count": 81,
   "id": "72991d1d-bbcd-4aa7-82de-52d9ed0e2657",
   "metadata": {},
   "outputs": [
    {
     "data": {
      "text/plain": [
       "1 XX"
      ]
     },
     "execution_count": 81,
     "metadata": {},
     "output_type": "execute_result"
    }
   ],
   "source": [
    "paulialg.pauli('XX').as_polynomial()"
   ]
  },
  {
   "cell_type": "code",
   "execution_count": 82,
   "id": "66c2d752-5f58-4ca7-ae2a-8f9c56079b03",
   "metadata": {},
   "outputs": [
    {
     "data": {
      "text/plain": [
       "1 II +1 XX +1 YY +1 ZZ"
      ]
     },
     "execution_count": 82,
     "metadata": {},
     "output_type": "execute_result"
    }
   ],
   "source": [
    "paulialg.paulis('II','XX','YY','ZZ').as_polynomial()"
   ]
  },
  {
   "cell_type": "markdown",
   "id": "c75e3d28-a85f-4cd0-869d-be49e65b5905",
   "metadata": {},
   "source": [
    "Automatic type conversion enables the algebra to be carried out among different classes with great flexibiliity.\n",
    "* When `Pauli` is multiplied (`*`) by a generic number (beyond powers of the imaginary unit), it is converted to `PauliMonomial`.\n",
    "* When `Pauli` or `PauliMonomial` is added (`+`) or subtracted (`-`) with other Pauli objects, they are converted to `PauliPolynomial`.\n",
    "* The dot product (`@`) generally returns `PauliPolynomial`, unless the two Pauli objects are both `Pauli`, in which case it returns `Pauli`."
   ]
  },
  {
   "cell_type": "markdown",
   "id": "c826233b-7dfd-4b06-bbe5-b9b6258019c4",
   "metadata": {},
   "source": [
    "---"
   ]
  },
  {
   "cell_type": "markdown",
   "id": "cbb48bde-5190-4cc0-a64b-0d8d89691ec1",
   "metadata": {},
   "source": [
    "### Clifford Transformation"
   ]
  },
  {
   "cell_type": "markdown",
   "id": "19de7283-2203-4af5-ba55-d60511f9f650",
   "metadata": {},
   "source": [
    "`PauliList` provides useful methods to implement Clifford transformations efficiently on all Pauli operators together. The same methods are available to all its subclasses (including `PauliPolynomial`, `CliffordMap`, `StabilizerState`)."
   ]
  },
  {
   "cell_type": "markdown",
   "id": "ebd86dbe-e5ca-4c0e-b77e-759132951d05",
   "metadata": {},
   "source": [
    "#### Clifford Rotation"
   ]
  },
  {
   "cell_type": "markdown",
   "id": "0345baee-c748-479a-ad6e-0e791547a1b7",
   "metadata": {},
   "source": [
    "A Clifford rotation is a $\\mathbb{Z}_4$ rotation in the Clifford group generated by a single Pauli operator, which takes the form of\n",
    "$$U=e^{\\frac{i\\pi}{4}\\sigma}=\\frac{1}{\\sqrt{2}}(1+i \\sigma).$$\n",
    "Every Pauli operator is transformed by $\\sigma \\to U^\\dagger \\sigma U$. The Clifford rotation can be applied by the method `.rotate_by(gen)` (given the generator `gen`). The operation is in-place (meaning that the operators in the Pauli list will be modified)."
   ]
  },
  {
   "cell_type": "code",
   "execution_count": 25,
   "id": "a22a146d-c1e6-4620-8efc-902c2640463d",
   "metadata": {},
   "outputs": [
    {
     "data": {
      "text/plain": [
       " +II\n",
       " +XX\n",
       " +ZY\n",
       " -YZ"
      ]
     },
     "execution_count": 25,
     "metadata": {},
     "output_type": "execute_result"
    }
   ],
   "source": [
    "paulialg.paulis('II','XX','YY','ZZ').rotate_by(paulialg.pauli('XI'))"
   ]
  },
  {
   "cell_type": "markdown",
   "id": "e616cd30-f2c1-45fa-ba42-dcec3049825f",
   "metadata": {},
   "source": [
    "#### Clifford Map"
   ]
  },
  {
   "cell_type": "markdown",
   "id": "56b73911-0c39-4d69-a521-ea562403219c",
   "metadata": {},
   "source": [
    "A Clifford map is a generic clifford transformation by specifying how each single Pauli operator gets mapped to. It can be listed as a table"
   ]
  },
  {
   "cell_type": "code",
   "execution_count": 87,
   "id": "852f5a03-5266-47cd-9c07-2c1b414ba53f",
   "metadata": {},
   "outputs": [
    {
     "data": {
      "text/plain": [
       "CliffordMap(\n",
       "  X0-> -IX\n",
       "  Z0-> -ZZ\n",
       "  X1-> -YX\n",
       "  Z1-> +XX)"
      ]
     },
     "execution_count": 87,
     "metadata": {},
     "output_type": "execute_result"
    }
   ],
   "source": [
    "cmap = stabilizer.random_clifford_map(2)\n",
    "cmap"
   ]
  },
  {
   "cell_type": "markdown",
   "id": "6ba1b45d-fa25-4733-a2aa-41a1e7d46dc6",
   "metadata": {},
   "source": [
    "It can be applied by the method `.transform_by(cmap)` (given the Clifford map `cmap`). "
   ]
  },
  {
   "cell_type": "code",
   "execution_count": 88,
   "id": "5a4e02e7-15b2-4ec7-b37c-f7e909722c50",
   "metadata": {},
   "outputs": [
    {
     "data": {
      "text/plain": [
       " +II\n",
       " +YI\n",
       " -IY\n",
       " +YY"
      ]
     },
     "execution_count": 88,
     "metadata": {},
     "output_type": "execute_result"
    }
   ],
   "source": [
    "paulialg.paulis('II','XX','YY','ZZ').transform_by(cmap)"
   ]
  },
  {
   "cell_type": "markdown",
   "id": "afc86357-3048-4466-b92b-e4cce0a049de",
   "metadata": {},
   "source": [
    "#### Masked Transformation"
   ]
  },
  {
   "cell_type": "markdown",
   "id": "1043df6d-ff04-4be1-a365-b32ef958327f",
   "metadata": {},
   "source": [
    "Clifford transformation can be applied to a subsystem of qubits specified by a mask."
   ]
  },
  {
   "cell_type": "code",
   "execution_count": 90,
   "id": "868e1127-6385-4d84-b285-c0d4ee8f9ab9",
   "metadata": {},
   "outputs": [
    {
     "data": {
      "text/plain": [
       " +IIII\n",
       " -IXXZ\n",
       " +ZYYI\n",
       " +ZZZZ"
      ]
     },
     "execution_count": 90,
     "metadata": {},
     "output_type": "execute_result"
    }
   ],
   "source": [
    "mask = numpy.array([True,False,False,True])\n",
    "paulialg.paulis('IIII','XXXX','YYYY','ZZZZ').rotate_by(paulialg.pauli('XY'), mask)"
   ]
  },
  {
   "cell_type": "code",
   "execution_count": 91,
   "id": "26b38481-c7a6-46c9-8e88-26ea6f60728a",
   "metadata": {},
   "outputs": [
    {
     "data": {
      "text/plain": [
       " +IIII\n",
       " +YXXI\n",
       " -IYYY\n",
       " +YZZY"
      ]
     },
     "execution_count": 91,
     "metadata": {},
     "output_type": "execute_result"
    }
   ],
   "source": [
    "mask = numpy.array([True,False,False,True])\n",
    "paulialg.paulis('IIII','XXXX','YYYY','ZZZZ').transform_by(cmap, mask)"
   ]
  },
  {
   "cell_type": "markdown",
   "id": "1b03d21e-b845-4318-992d-e44c71d25f5f",
   "metadata": {},
   "source": [
    "---"
   ]
  },
  {
   "cell_type": "markdown",
   "id": "8d8c5b7d-9143-4ad1-b256-e710fd7d4deb",
   "metadata": {
    "tags": []
   },
   "source": [
    "## Algorithm Details"
   ]
  },
  {
   "cell_type": "markdown",
   "id": "15394e11-7765-42aa-960a-91ceb95cde9a",
   "metadata": {
    "tags": []
   },
   "source": [
    "### Internal Representation"
   ]
  },
  {
   "cell_type": "markdown",
   "id": "9e29edd2-223d-42d0-ae36-b10994808d61",
   "metadata": {},
   "source": [
    "#### Binary Representation of Pauli Operators"
   ]
  },
  {
   "cell_type": "markdown",
   "id": "b35cc487-987f-4983-87a0-3c21c224be80",
   "metadata": {},
   "source": [
    "Any Pauli operator can be specified by two one-hot (binary) vectors $x$ and $z$ ($x_i,z_i=0,1$ for $i=1,\\cdots,N$):\n",
    "$$\\sigma_{(x,z)}=\\mathrm{i}^{x\\cdot z}\\prod_{i=1}^{N}X_i^{x_i}\\prod_{i=1}^{N}Z_i^{z_i}.$$\n",
    "* The binary vector $x$ (or $z$) specifies the qubits where the $X$ (or $Z$) operator acts ($Y$ operator acts at where $X$ and $Z$ act simultaneously).\n",
    "* **Multiplication** of two Pauli operators\n",
    "$$\\sigma_{(x,z)}\\sigma_{(x',z')}=\\mathrm{i}^{p(x,z;x',z')}\\sigma_{(x+x',z+z')\\%2},$$\n",
    "where the power $p$ of $\\mathrm{i}$ in the prefactor is given by\n",
    "$$p(x,z;x',z')=\\sum_{i=1}^{N}\\left(z_ix'_i-x_iz'_i + 2(z_i+z'_i)\\left\\lfloor\\frac{x_i+x'_i}{2}\\right\\rfloor+2(x_i+x'_i)\\left\\lfloor\\frac{z_i+z'_i}{2}\\right\\rfloor\\right)\\mod 4.$$\n",
    "* **Commutation relation**: two Pauli operator either commute to anticommute.\n",
    "$$\\sigma_{(x,z)}\\sigma_{(x',z')}=(-)^{c(x,z;x',z')}\\sigma_{(x',z')}\\sigma_{(x,z)},$$\n",
    "where the *anticommutation indicator* $c$ has a simpler form\n",
    "$$c(x,z;x',z')=\\frac{p(x,z;x',z')-p(x',z';x,z)}{2}=\\sum_{i=1}^{N}\\left(z_ix'_i-x_iz'_i\\right)\\mod 2.$$\n",
    "\n",
    "The binary vectors $x$ and $z$ can be interweaved into a $2N$-component vector $g=(x_0,z_0,x_1,z_1,\\cdots)$, which forms the binary representation of a Pauli operator $\\sigma_g$."
   ]
  },
  {
   "cell_type": "markdown",
   "id": "0f7b7ab3-656b-46e3-8bf3-9bcbbeb65137",
   "metadata": {},
   "source": [
    "#### `Pauli` Class"
   ]
  },
  {
   "cell_type": "markdown",
   "id": "a6f05e51-41af-495e-b96d-46d3738ff9a2",
   "metadata": {},
   "source": [
    "`Pauli(g,p)` represents a Pauli operator.\n",
    "\n",
    "**Parameters:**\n",
    "* `g` binary representation of Pauli string.\n",
    "* `p` phase indicator ($p=0,1,2,3$ stands for $i^p$ phase factor)."
   ]
  },
  {
   "cell_type": "code",
   "execution_count": 4,
   "id": "aff31086-c4e6-4561-8539-9bdea8fe3212",
   "metadata": {},
   "outputs": [
    {
     "data": {
      "text/plain": [
       "{'g': array([1, 0]), 'p': 1}"
      ]
     },
     "execution_count": 4,
     "metadata": {},
     "output_type": "execute_result"
    }
   ],
   "source": [
    "paulialg.pauli('iX').__dict__"
   ]
  },
  {
   "cell_type": "markdown",
   "id": "fb846545-bae9-4c1d-9c84-2a0bd4893333",
   "metadata": {},
   "source": [
    "#### `PauliList` Class"
   ]
  },
  {
   "cell_type": "markdown",
   "id": "8f4c0932-84e6-4b14-ac01-02b100d9fea7",
   "metadata": {},
   "source": [
    "`PauliList(gs,ps)` represents a list of Pauli operators.\n",
    "\n",
    "**Parameters:**\n",
    "* `gs` array of binary representations of Pauli strings.\n",
    "* `ps` array of phase indicators ($p=0,1,2,3$ stands for $i^p$ phase factor)."
   ]
  },
  {
   "cell_type": "code",
   "execution_count": 5,
   "id": "74f84df8-eccb-4755-94f0-5436ff9193cc",
   "metadata": {},
   "outputs": [
    {
     "data": {
      "text/plain": [
       "{'gs': array([[1, 0, 1, 0],\n",
       "        [1, 1, 1, 1],\n",
       "        [0, 1, 0, 1]]),\n",
       " 'ps': array([0, 0, 0])}"
      ]
     },
     "execution_count": 5,
     "metadata": {},
     "output_type": "execute_result"
    }
   ],
   "source": [
    "paulialg.paulis('XX','YY','ZZ').__dict__"
   ]
  },
  {
   "cell_type": "markdown",
   "id": "d206701f-b93a-4da6-8c17-b583a5337356",
   "metadata": {},
   "source": [
    "#### `PauliMonomial` Class"
   ]
  },
  {
   "cell_type": "markdown",
   "id": "71b5b805-4585-4da3-b891-96e0a936085f",
   "metadata": {},
   "source": [
    "`PauliMonomial(g,p)` represents a Pauli operator with coefficient.\n",
    "\n",
    "**Parameters:**\n",
    "* `g` binary representation of Pauli string.\n",
    "* `p` phase indicator ($p=0,1,2,3$ stands for $i^p$ phase factor).\n",
    "* `c` coefficient (complex)."
   ]
  },
  {
   "cell_type": "code",
   "execution_count": 6,
   "id": "e6353f99-0511-4223-86f2-1d5300658fe9",
   "metadata": {},
   "outputs": [
    {
     "data": {
      "text/plain": [
       "{'g': array([1, 0]), 'p': 1, 'c': (1+0j)}"
      ]
     },
     "execution_count": 6,
     "metadata": {},
     "output_type": "execute_result"
    }
   ],
   "source": [
    "paulialg.pauli('iX').as_monomial().__dict__"
   ]
  },
  {
   "cell_type": "markdown",
   "id": "eef96d16-bd14-4d69-b9b6-bd98fefeaf55",
   "metadata": {},
   "source": [
    "The property `c` can be set by the method `.set_c(c)`"
   ]
  },
  {
   "cell_type": "code",
   "execution_count": 8,
   "id": "72b14fcc-1932-4790-a71d-5740a1a8a371",
   "metadata": {},
   "outputs": [
    {
     "data": {
      "text/plain": [
       "{'g': array([1, 0]), 'p': 0, 'c': (2+0j)}"
      ]
     },
     "execution_count": 8,
     "metadata": {},
     "output_type": "execute_result"
    }
   ],
   "source": [
    "paulialg.pauli('X').as_monomial().set_c(2.+0.j).__dict__"
   ]
  },
  {
   "cell_type": "markdown",
   "id": "5712da94-d0b7-41e3-8aa2-7f70c92336b8",
   "metadata": {},
   "source": [
    "#### `PauliPolynomial` Class"
   ]
  },
  {
   "cell_type": "markdown",
   "id": "581c7dcd-a6b0-4f89-a759-328125b022db",
   "metadata": {},
   "source": [
    "`PauliPolynomial(gs,ps)` represents a polynomial (linear combination) of Pauli operators.\n",
    "\n",
    "**Parameters:**\n",
    "* `gs` array of binary representations of Pauli strings.\n",
    "* `ps` array of phase indicators ($p=0,1,2,3$ stands for $i^p$ phase factor).\n",
    "* `cs` array of coefficients (complex)."
   ]
  },
  {
   "cell_type": "code",
   "execution_count": 9,
   "id": "8b598b75-74d0-4de1-a94c-ab01fbb1656c",
   "metadata": {},
   "outputs": [
    {
     "data": {
      "text/plain": [
       "{'gs': array([[1, 0, 1, 0],\n",
       "        [1, 1, 1, 1]]),\n",
       " 'ps': array([0, 0]),\n",
       " 'cs': array([ 1.+0.j, -2.+0.j])}"
      ]
     },
     "execution_count": 9,
     "metadata": {},
     "output_type": "execute_result"
    }
   ],
   "source": [
    "(paulialg.pauli('XX') - 2*paulialg.pauli('YY')).__dict__"
   ]
  },
  {
   "cell_type": "markdown",
   "id": "3e796215-c9d3-4886-aa3f-ec107efc8315",
   "metadata": {},
   "source": [
    "The property `cs` can be set by the method `.set_cs(cs)`"
   ]
  },
  {
   "cell_type": "code",
   "execution_count": 2,
   "id": "fa33de71-2e39-4ffa-b8e6-057fba9dd7fe",
   "metadata": {},
   "outputs": [
    {
     "data": {
      "text/plain": [
       "{'gs': array([[1, 0, 1, 0],\n",
       "        [1, 1, 1, 1]]),\n",
       " 'ps': array([0, 0]),\n",
       " 'cs': array([3.4, 2.4])}"
      ]
     },
     "execution_count": 2,
     "metadata": {},
     "output_type": "execute_result"
    }
   ],
   "source": [
    "(paulialg.pauli('XX') - 2*paulialg.pauli('YY')).set_cs(np.array([3.4,2.4])).__dict__"
   ]
  },
  {
   "cell_type": "markdown",
   "id": "400848a2-1627-43d2-b43d-9ea5a4c7165b",
   "metadata": {},
   "source": [
    "## Link with QuTip Library"
   ]
  },
  {
   "cell_type": "markdown",
   "id": "4b898ca0-f506-4af4-b5f3-ccbb954102fc",
   "metadata": {},
   "source": [
    "Pauli operators can be easily converted to the `Qobj` in qutip library\n",
    "- `Pauli.to_qupit()`\n",
    "- `PauliList.to_qutip()`\n",
    "- `PauliMonomial.to_qutip()`\n",
    "- `PauliPolynomial.to_qutip()`"
   ]
  },
  {
   "cell_type": "code",
   "execution_count": 2,
   "id": "5d35b7ff-5602-4bcf-bdb7-ce7d126a39d4",
   "metadata": {},
   "outputs": [
    {
     "data": {
      "text/latex": [
       "Quantum object: dims = [[2, 2], [2, 2]], shape = (4, 4), type = oper, isherm = True\\begin{equation*}\\left(\\begin{array}{*{11}c}0.0 & 0.0 & 0.0 & -1.0j\\\\0.0 & 0.0 & 1.0j & 0.0\\\\0.0 & -1.0j & 0.0 & 0.0\\\\1.0j & 0.0 & 0.0 & 0.0\\\\\\end{array}\\right)\\end{equation*}"
      ],
      "text/plain": [
       "Quantum object: dims = [[2, 2], [2, 2]], shape = (4, 4), type = oper, isherm = True\n",
       "Qobj data =\n",
       "[[0.+0.j 0.+0.j 0.+0.j 0.-1.j]\n",
       " [0.+0.j 0.+0.j 0.+1.j 0.+0.j]\n",
       " [0.+0.j 0.-1.j 0.+0.j 0.+0.j]\n",
       " [0.+1.j 0.+0.j 0.+0.j 0.+0.j]]"
      ]
     },
     "execution_count": 2,
     "metadata": {},
     "output_type": "execute_result"
    }
   ],
   "source": [
    "paulialg.pauli('XY').to_qutip()"
   ]
  },
  {
   "cell_type": "code",
   "execution_count": 3,
   "id": "c034c2ef-f2e2-4ebe-9c43-7869dcd05ab9",
   "metadata": {},
   "outputs": [
    {
     "data": {
      "text/plain": [
       "[Quantum object: dims = [[2, 2], [2, 2]], shape = (4, 4), type = oper, isherm = True\n",
       " Qobj data =\n",
       " [[0.+0.j 0.+0.j 0.+0.j 0.-1.j]\n",
       "  [0.+0.j 0.+0.j 0.+1.j 0.+0.j]\n",
       "  [0.+0.j 0.-1.j 0.+0.j 0.+0.j]\n",
       "  [0.+1.j 0.+0.j 0.+0.j 0.+0.j]],\n",
       " Quantum object: dims = [[2, 2], [2, 2]], shape = (4, 4), type = oper, isherm = True\n",
       " Qobj data =\n",
       " [[ 1.  0.  0.  0.]\n",
       "  [ 0. -1.  0.  0.]\n",
       "  [ 0.  0. -1.  0.]\n",
       "  [ 0.  0.  0.  1.]]]"
      ]
     },
     "execution_count": 3,
     "metadata": {},
     "output_type": "execute_result"
    }
   ],
   "source": [
    "paulialg.paulis('XY','ZZ').to_qutip()"
   ]
  },
  {
   "cell_type": "code",
   "execution_count": 3,
   "id": "073f6287-6266-4455-9502-84ed8639143b",
   "metadata": {},
   "outputs": [
    {
     "data": {
      "text/latex": [
       "Quantum object: dims = [[2, 2], [2, 2]], shape = (4, 4), type = oper, isherm = False\\begin{equation*}\\left(\\begin{array}{*{11}c}0.0 & 0.0 & 0.0 & (3.0-2.0j)\\\\0.0 & 0.0 & (-3.0+2.0j) & 0.0\\\\0.0 & (3.0-2.0j) & 0.0 & 0.0\\\\(-3.0+2.0j) & 0.0 & 0.0 & 0.0\\\\\\end{array}\\right)\\end{equation*}"
      ],
      "text/plain": [
       "Quantum object: dims = [[2, 2], [2, 2]], shape = (4, 4), type = oper, isherm = False\n",
       "Qobj data =\n",
       "[[ 0.+0.j  0.+0.j  0.+0.j  3.-2.j]\n",
       " [ 0.+0.j  0.+0.j -3.+2.j  0.+0.j]\n",
       " [ 0.+0.j  3.-2.j  0.+0.j  0.+0.j]\n",
       " [-3.+2.j  0.+0.j  0.+0.j  0.+0.j]]"
      ]
     },
     "execution_count": 3,
     "metadata": {},
     "output_type": "execute_result"
    }
   ],
   "source": [
    "((2+3j)*paulialg.pauli('XY')).to_qutip()"
   ]
  },
  {
   "cell_type": "code",
   "execution_count": 5,
   "id": "ef9d5939-3a53-4fb0-bfb0-a06bc845dd35",
   "metadata": {},
   "outputs": [
    {
     "data": {
      "text/latex": [
       "Quantum object: dims = [[2, 2], [2, 2]], shape = (4, 4), type = oper, isherm = False\\begin{equation*}\\left(\\begin{array}{*{11}c}1.500 & 0.0 & 0.0 & (3.0-2.0j)\\\\0.0 & -1.500 & (-3.0+2.0j) & 0.0\\\\0.0 & (3.0-2.0j) & -1.500 & 0.0\\\\(-3.0+2.0j) & 0.0 & 0.0 & 1.500\\\\\\end{array}\\right)\\end{equation*}"
      ],
      "text/plain": [
       "Quantum object: dims = [[2, 2], [2, 2]], shape = (4, 4), type = oper, isherm = False\n",
       "Qobj data =\n",
       "[[ 1.5+0.j  0. +0.j  0. +0.j  3. -2.j]\n",
       " [ 0. +0.j -1.5+0.j -3. +2.j  0. +0.j]\n",
       " [ 0. +0.j  3. -2.j -1.5+0.j  0. +0.j]\n",
       " [-3. +2.j  0. +0.j  0. +0.j  1.5+0.j]]"
      ]
     },
     "execution_count": 5,
     "metadata": {},
     "output_type": "execute_result"
    }
   ],
   "source": [
    "((2+3j)*paulialg.pauli('XY')+(1.5)*paulialg.pauli('ZZ')).to_qutip()"
   ]
  },
  {
   "cell_type": "code",
   "execution_count": null,
   "id": "c51c749d-a2b0-4b6c-b948-99eca7bdb85f",
   "metadata": {},
   "outputs": [],
   "source": []
  },
  {
   "cell_type": "code",
   "execution_count": 17,
   "id": "aed98047-4f4a-4e36-98c8-75b9c3f16b00",
   "metadata": {},
   "outputs": [],
   "source": [
    "a = np.array([1,2])"
   ]
  },
  {
   "cell_type": "code",
   "execution_count": 18,
   "id": "63cf74bd-5339-4d59-85a6-9d9353822ff7",
   "metadata": {},
   "outputs": [],
   "source": [
    "b=np.array(a)"
   ]
  },
  {
   "cell_type": "code",
   "execution_count": 19,
   "id": "98f9b229-4816-4586-9a04-e00e0c47ce2c",
   "metadata": {},
   "outputs": [],
   "source": [
    "b[0]=4"
   ]
  },
  {
   "cell_type": "code",
   "execution_count": 20,
   "id": "59736643-953b-4a92-89b1-9ae916172cc1",
   "metadata": {},
   "outputs": [
    {
     "data": {
      "text/plain": [
       "array([4, 2])"
      ]
     },
     "execution_count": 20,
     "metadata": {},
     "output_type": "execute_result"
    }
   ],
   "source": [
    "b"
   ]
  },
  {
   "cell_type": "code",
   "execution_count": 21,
   "id": "51019b02-e9b7-4040-8daa-67a30ce72b96",
   "metadata": {},
   "outputs": [
    {
     "data": {
      "text/plain": [
       "array([1, 2])"
      ]
     },
     "execution_count": 21,
     "metadata": {},
     "output_type": "execute_result"
    }
   ],
   "source": [
    "a"
   ]
  },
  {
   "cell_type": "code",
   "execution_count": null,
   "id": "39f2be41-43b6-441d-9f87-9564650bfd0c",
   "metadata": {},
   "outputs": [],
   "source": []
  }
 ],
 "metadata": {
  "kernelspec": {
   "display_name": "Python 3 (ipykernel)",
   "language": "python",
   "name": "python3"
  },
  "language_info": {
   "codemirror_mode": {
    "name": "ipython",
    "version": 3
   },
   "file_extension": ".py",
   "mimetype": "text/x-python",
   "name": "python",
   "nbconvert_exporter": "python",
   "pygments_lexer": "ipython3",
   "version": "3.9.12"
  }
 },
 "nbformat": 4,
 "nbformat_minor": 5
}

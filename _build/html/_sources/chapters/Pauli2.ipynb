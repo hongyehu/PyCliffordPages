{
 "cells": [
  {
   "cell_type": "code",
   "execution_count": 1,
   "id": "bc12ec5c-a427-4bef-82e9-c13a6b0d50e0",
   "metadata": {},
   "outputs": [],
   "source": [
    "import sys\n",
    "sys.path.insert(0, '..')\n",
    "import numpy as np\n",
    "import qutip as qt\n",
    "import src\n",
    "from src import (utils, paulialg, stabilizer, circuit)"
   ]
  },
  {
   "cell_type": "markdown",
   "id": "a613deae-27a5-4df5-baeb-7d72cd79e96d",
   "metadata": {},
   "source": [
    "# Pauli Algebra"
   ]
  },
  {
   "cell_type": "markdown",
   "id": "b7a99f13-7772-4497-968c-d1508cf02d9f",
   "metadata": {},
   "source": [
    "## Dot Productor (Matrix Multiplication)"
   ]
  },
  {
   "cell_type": "markdown",
   "id": "a7354dda-2cf8-4507-bf02-f4aba7b52dbf",
   "metadata": {},
   "source": [
    "Dot productor (composition) of Pauli operators is implemented as the matrix multiplication `matmul`, which can be implemented using the operand `@`."
   ]
  },
  {
   "cell_type": "code",
   "execution_count": 2,
   "id": "770353a0-409c-48be-b3b0-17c74df815b3",
   "metadata": {},
   "outputs": [
    {
     "data": {
      "text/plain": [
       "(+iZ, -iZ)"
      ]
     },
     "execution_count": 2,
     "metadata": {},
     "output_type": "execute_result"
    }
   ],
   "source": [
    "paulialg.pauli('X') @ paulialg.pauli('Y'), paulialg.pauli('Y') @ paulialg.pauli('X')"
   ]
  },
  {
   "cell_type": "markdown",
   "id": "d7cdb074-71ec-4cb9-ad3e-e880c57f5875",
   "metadata": {},
   "source": [
    "Dot product of Pauli polynomials will be expanded."
   ]
  },
  {
   "cell_type": "code",
   "execution_count": 3,
   "id": "7625c442-db39-410e-952d-a648d68e600a",
   "metadata": {},
   "outputs": [
    {
     "data": {
      "text/plain": [
       "0.25000 II +0.50000 YY +0.50000 XX +0.50000 YY +1 II -1 ZZ +0.50000 XX -1 ZZ +1 II"
      ]
     },
     "execution_count": 3,
     "metadata": {},
     "output_type": "execute_result"
    }
   ],
   "source": [
    "poly = paulialg.pauli('XX') + paulialg.pauli('YY') - 0.5 * paulialg.pauli('ZZ')\n",
    "poly @ poly"
   ]
  },
  {
   "cell_type": "markdown",
   "id": "cf8652c5-cd82-4dfe-ad5d-44ea960573ea",
   "metadata": {},
   "source": [
    "Terms will not be combined automatically. To combine them, the `.reduce()` method should be explicitly called."
   ]
  },
  {
   "cell_type": "code",
   "execution_count": 4,
   "id": "f1f8485a-29bd-45f1-80f0-be9c81d013d1",
   "metadata": {},
   "outputs": [
    {
     "data": {
      "text/plain": [
       "2.25000 II -2 ZZ +1 XX +1 YY"
      ]
     },
     "execution_count": 4,
     "metadata": {},
     "output_type": "execute_result"
    }
   ],
   "source": [
    "(poly @ poly).reduce()"
   ]
  },
  {
   "cell_type": "markdown",
   "id": "e51334a4-0a8e-43c4-8d7a-9117c867736d",
   "metadata": {},
   "source": [
    "## Trace of Pauli operators"
   ]
  },
  {
   "cell_type": "markdown",
   "id": "46e1a172-250e-4014-9b95-052e6c740cbb",
   "metadata": {},
   "source": [
    "- `Pauli.trace()` will return the trace of a Pauli operator\n",
    " - `PauliList.trace()` will return the trace of a list of Pauli operators\n",
    " - `PauliPolynomial.trace()` will return the trace of a Pauli polynomial"
   ]
  },
  {
   "cell_type": "code",
   "execution_count": 5,
   "id": "7364930d-44b5-4113-96c0-3ff2c4d40cd5",
   "metadata": {},
   "outputs": [
    {
     "data": {
      "text/plain": [
       "4"
      ]
     },
     "execution_count": 5,
     "metadata": {},
     "output_type": "execute_result"
    }
   ],
   "source": [
    "paulialg.pauli('II').trace()"
   ]
  },
  {
   "cell_type": "code",
   "execution_count": 6,
   "id": "64ef6a05-b791-48a7-9261-c82f5ac3661a",
   "metadata": {},
   "outputs": [
    {
     "data": {
      "text/plain": [
       "array([4, 0])"
      ]
     },
     "execution_count": 6,
     "metadata": {},
     "output_type": "execute_result"
    }
   ],
   "source": [
    "paulialg.paulis('II','YY').trace()"
   ]
  },
  {
   "cell_type": "code",
   "execution_count": 7,
   "id": "cf75003c-9ac6-48bd-8fc9-ba8edf033441",
   "metadata": {},
   "outputs": [
    {
     "data": {
      "text/plain": [
       "(12+0j)"
      ]
     },
     "execution_count": 7,
     "metadata": {},
     "output_type": "execute_result"
    }
   ],
   "source": [
    "(3*paulialg.pauli('II')).trace()"
   ]
  },
  {
   "cell_type": "code",
   "execution_count": 8,
   "id": "f1921988-0b2f-495d-9623-1acca1a34d98",
   "metadata": {},
   "outputs": [
    {
     "data": {
      "text/plain": [
       "(24+10j)"
      ]
     },
     "execution_count": 8,
     "metadata": {},
     "output_type": "execute_result"
    }
   ],
   "source": [
    "(3*paulialg.pauli('II')+(3+2.5j)*paulialg.pauli('II')).trace()"
   ]
  },
  {
   "cell_type": "markdown",
   "id": "1402de2c-fe75-4435-8837-e0cc13cf7a52",
   "metadata": {},
   "source": [
    "## Weight (number of non-identity support)"
   ]
  },
  {
   "cell_type": "markdown",
   "id": "d0650bf9-c9a9-47e0-a2ac-43230f7e0c90",
   "metadata": {},
   "source": [
    "- `Pauli.weight()` will return the weight (the support of non identity operators) of a Pauli operator\n",
    "- `PauliList.weight()` will return the weight of a list of Pauli operators"
   ]
  },
  {
   "cell_type": "code",
   "execution_count": 10,
   "id": "4156a4f9-ccd3-475e-9055-ad9c3ce4ee8f",
   "metadata": {},
   "outputs": [
    {
     "data": {
      "text/plain": [
       "3"
      ]
     },
     "execution_count": 10,
     "metadata": {},
     "output_type": "execute_result"
    }
   ],
   "source": [
    "paulialg.pauli('IXIYZII').weight()"
   ]
  },
  {
   "cell_type": "code",
   "execution_count": 9,
   "id": "ee8ba192-1131-44dd-a2b6-19df7ad70b99",
   "metadata": {},
   "outputs": [
    {
     "data": {
      "text/plain": [
       "array([3, 1])"
      ]
     },
     "execution_count": 9,
     "metadata": {},
     "output_type": "execute_result"
    }
   ],
   "source": [
    "paulialg.paulis('IXIYZII','IXIIIII').weight()"
   ]
  },
  {
   "cell_type": "markdown",
   "id": "29d86697-1b35-4a2e-86ac-29f4c53fd88d",
   "metadata": {},
   "source": [
    "## Type conversion"
   ]
  },
  {
   "cell_type": "markdown",
   "id": "d548cc44-a64c-42de-9d11-9f9364050574",
   "metadata": {},
   "source": [
    "Automatic type conversion enables the algebra to be carried out among different classes with great flexibiliity.\n",
    "* When `Pauli` is multiplied (`*`) by a generic number (beyond powers of the imaginary unit), it is converted to `PauliMonomial`.\n",
    "* When `Pauli` or `PauliMonomial` is added (`+`) or subtracted (`-`) with other Pauli objects, they are converted to `PauliPolynomial`.\n",
    "* The dot product (`@`) generally returns `PauliPolynomial`, unless the two Pauli objects are both `Pauli`, in which case it returns `Pauli`."
   ]
  },
  {
   "cell_type": "markdown",
   "id": "d3df77f6-5e3f-40ef-a988-246d688d460d",
   "metadata": {},
   "source": [
    "# Clifford Transformation"
   ]
  },
  {
   "cell_type": "markdown",
   "id": "1eccc0f3-a6db-4335-ba6f-fdf3373b0313",
   "metadata": {},
   "source": [
    " `PauliList` provides useful methods to implement Clifford transformations efficiently on all Pauli operators together. The same methods are available to all its subclasses (including `PauliPolynomial`, `CliffordMap`, `StabilizerState`)."
   ]
  },
  {
   "cell_type": "markdown",
   "id": "649b9760-e420-4187-8356-cf435776fd85",
   "metadata": {},
   "source": [
    "## Clifford Rotation"
   ]
  },
  {
   "cell_type": "markdown",
   "id": "aaafc866-f5ba-4687-b0ef-4e1f29f42a2b",
   "metadata": {},
   "source": [
    "A Clifford rotation is a $\\mathbb{Z}_4$ rotation in the Clifford group generated by a single Pauli operator, which takes the form of\n",
    "$$\n",
    "U=e^{\\frac{i\\pi}{4}\\sigma}=\\frac{1}{\\sqrt{2}}(1+i \\sigma)\n",
    "$$\n",
    "Every Pauli operator is transformed by $\\sigma \\to U^\\dagger \\sigma U$. The Clifford rotation can be applied by the method `.rotate_by(gen)` (given the generator `gen`). The operation is in-place (meaning that the operators in the Pauli list will be modified)."
   ]
  },
  {
   "cell_type": "code",
   "execution_count": 11,
   "id": "ff531c52-04c7-4219-95aa-5ea0204f24d2",
   "metadata": {},
   "outputs": [
    {
     "data": {
      "text/plain": [
       " +II\n",
       " +XX\n",
       " +ZY\n",
       " -YZ"
      ]
     },
     "execution_count": 11,
     "metadata": {},
     "output_type": "execute_result"
    }
   ],
   "source": [
    "paulialg.paulis('II','XX','YY','ZZ').rotate_by(paulialg.pauli('XI'))"
   ]
  },
  {
   "cell_type": "markdown",
   "id": "e2c4290a-98b2-453c-b4cc-066c2a463cb8",
   "metadata": {},
   "source": [
    "## Clifford Map"
   ]
  },
  {
   "cell_type": "markdown",
   "id": "4071d057-a4b4-44b1-a306-b7a07c8ff305",
   "metadata": {},
   "source": [
    "A Clifford map is a generic clifford transformation by specifying how each single Pauli operator gets mapped to. It can be listed as a table"
   ]
  },
  {
   "cell_type": "code",
   "execution_count": 12,
   "id": "83d4701e-f671-4064-941e-75dbf4dd212f",
   "metadata": {},
   "outputs": [
    {
     "data": {
      "text/plain": [
       "CliffordMap(\n",
       "  X0-> -YI\n",
       "  Z0-> -ZY\n",
       "  X1-> +YX\n",
       "  Z1-> -YZ)"
      ]
     },
     "execution_count": 12,
     "metadata": {},
     "output_type": "execute_result"
    }
   ],
   "source": [
    "cmap = stabilizer.random_clifford_map(2)\n",
    "cmap"
   ]
  },
  {
   "cell_type": "markdown",
   "id": "72e136a2-1dc2-4dd4-933e-46c536cc46e6",
   "metadata": {},
   "source": [
    "It can be applied by the method `.transform_by(cmap)` (given the Clifford map `cmap`). "
   ]
  },
  {
   "cell_type": "code",
   "execution_count": 13,
   "id": "fc83e8fe-16c9-4b3f-aa32-d46dd90bdf18",
   "metadata": {},
   "outputs": [
    {
     "data": {
      "text/plain": [
       " +II\n",
       " -IX\n",
       " +XI\n",
       " +XX"
      ]
     },
     "execution_count": 13,
     "metadata": {},
     "output_type": "execute_result"
    }
   ],
   "source": [
    "paulialg.paulis('II','XX','YY','ZZ').transform_by(cmap)"
   ]
  },
  {
   "cell_type": "markdown",
   "id": "0e762751-794c-47ab-bdd3-400db3c9daae",
   "metadata": {},
   "source": [
    "## Masked Transformation"
   ]
  },
  {
   "cell_type": "markdown",
   "id": "ebf5db83-ba38-43b0-94b1-ae275ecd034c",
   "metadata": {},
   "source": [
    "Clifford transformation can be applied to a subsystem of qubits specified by a mask."
   ]
  },
  {
   "cell_type": "code",
   "execution_count": 15,
   "id": "32dac713-4e53-4606-8275-7bd73da44a73",
   "metadata": {},
   "outputs": [
    {
     "data": {
      "text/plain": [
       " +IIII\n",
       " -IXXZ\n",
       " +ZYYI\n",
       " +ZZZZ"
      ]
     },
     "execution_count": 15,
     "metadata": {},
     "output_type": "execute_result"
    }
   ],
   "source": [
    "mask = np.array([True,False,False,True])\n",
    "paulialg.paulis('IIII','XXXX','YYYY','ZZZZ').rotate_by(paulialg.pauli('XY'), mask)"
   ]
  },
  {
   "cell_type": "code",
   "execution_count": 17,
   "id": "fe5024bd-aacb-438d-b0ec-b8840a55ed31",
   "metadata": {},
   "outputs": [
    {
     "data": {
      "text/plain": [
       " +IIII\n",
       " -IXXX\n",
       " +XYYI\n",
       " +XZZX"
      ]
     },
     "execution_count": 17,
     "metadata": {},
     "output_type": "execute_result"
    }
   ],
   "source": [
    "mask = np.array([True,False,False,True])\n",
    "paulialg.paulis('IIII','XXXX','YYYY','ZZZZ').transform_by(cmap, mask)"
   ]
  },
  {
   "cell_type": "code",
   "execution_count": null,
   "id": "320c1b0f-63cf-4a81-b86d-566ae2eca1a0",
   "metadata": {},
   "outputs": [],
   "source": []
  }
 ],
 "metadata": {
  "kernelspec": {
   "display_name": "Python 3 (ipykernel)",
   "language": "python",
   "name": "python3"
  },
  "language_info": {
   "codemirror_mode": {
    "name": "ipython",
    "version": 3
   },
   "file_extension": ".py",
   "mimetype": "text/x-python",
   "name": "python",
   "nbconvert_exporter": "python",
   "pygments_lexer": "ipython3",
   "version": "3.9.12"
  }
 },
 "nbformat": 4,
 "nbformat_minor": 5
}

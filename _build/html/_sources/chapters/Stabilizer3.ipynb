{
 "cells": [
  {
   "cell_type": "code",
   "execution_count": 1,
   "id": "75ef400e-ebfd-4b63-80ed-8e769866271d",
   "metadata": {},
   "outputs": [],
   "source": [
    "import sys\n",
    "sys.path.insert(0, '..')\n",
    "import numpy as np\n",
    "import qutip as qt\n",
    "import src\n",
    "from src import (utils, paulialg, stabilizer, circuit)"
   ]
  },
  {
   "cell_type": "markdown",
   "id": "dc4eb9b0-a0b9-4f77-b9eb-1497c90b917b",
   "metadata": {},
   "source": [
    "# Methods for stabilizer states"
   ]
  },
  {
   "cell_type": "markdown",
   "id": "a20ab304-1f6b-4985-8c79-a446b46132e7",
   "metadata": {},
   "source": [
    "## Measurement"
   ]
  },
  {
   "cell_type": "markdown",
   "id": "02ddaa87-23d8-4236-aa33-75540a704271",
   "metadata": {},
   "source": [
    "`StabilizerState.measure(obs)` measure the stabilizer state on a set of commuting observables.\n",
    "\n",
    "**Parameters:**\n",
    "* `obs` - Observables to measure. The following types are supported:\n",
    "    * `PauliList` - a list of Pauli operators (user must ensure that operators in the list are commuting, otherwise they can not measured simutaneously).\n",
    "    * `StabilizerState` - stabilizers of a stabilizer state is always commuting, which can be treated as commuting observables for measurement.\n",
    "\n",
    "**Returns:**\n",
    "* `out` - measuremnt outcome, can only be $0$, $1$ for independent Pauli observables on stabilizer state, where 0 means positive (+1) eigenvalue, and 1 means negative (-1) eigenvalue.\n",
    "* `log2prob` - the log2 of the probability of realizing this particular outcome."
   ]
  },
  {
   "cell_type": "code",
   "execution_count": 3,
   "id": "4bb79440-e260-4478-863f-4b94a05403c5",
   "metadata": {},
   "outputs": [
    {
     "data": {
      "text/plain": [
       "StabilizerState(\n",
       "   +ZZI\n",
       "   +IZZ\n",
       "   +XXX)"
      ]
     },
     "execution_count": 3,
     "metadata": {},
     "output_type": "execute_result"
    }
   ],
   "source": [
    "state = stabilizer.ghz_state(3)\n",
    "state"
   ]
  },
  {
   "cell_type": "code",
   "execution_count": 4,
   "id": "e96028a6-c054-4036-a742-11d28a1bb0b7",
   "metadata": {},
   "outputs": [
    {
     "data": {
      "text/plain": [
       "(array([1, 1, 1]), -1.0)"
      ]
     },
     "execution_count": 4,
     "metadata": {},
     "output_type": "execute_result"
    }
   ],
   "source": [
    "state.measure(paulialg.paulis('ZII','IZI','IIZ'))"
   ]
  },
  {
   "cell_type": "markdown",
   "id": "6e02d457-30e4-4026-8996-abab503143bb",
   "metadata": {},
   "source": [
    "In the above example, I created a GHZ state, and did single qubit Z-basis measurements on each of the qubit. We get -1 for all qubits with probility $2^{-1}=0.5$"
   ]
  },
  {
   "cell_type": "markdown",
   "id": "3a909c46-2fd7-42df-8e83-9699334d58ac",
   "metadata": {},
   "source": [
    "<div class=\"alert alert-block alert-danger\">\n",
    "Measurement will <b>in place </b> change the state, as measurement will collapse the quantum state.\n",
    "</div>"
   ]
  },
  {
   "cell_type": "code",
   "execution_count": 5,
   "id": "bd7c93da-1ba1-47c9-95ab-2cf44ad48df2",
   "metadata": {},
   "outputs": [
    {
     "data": {
      "text/plain": [
       "(array([0, 0, 0]), -1.0)"
      ]
     },
     "execution_count": 5,
     "metadata": {},
     "output_type": "execute_result"
    }
   ],
   "source": [
    "state = stabilizer.ghz_state(3)\n",
    "state.measure(paulialg.paulis('ZII','IZI','IIZ'))"
   ]
  },
  {
   "cell_type": "code",
   "execution_count": 6,
   "id": "5dc5a0bf-0d94-467e-8d14-deb811c63836",
   "metadata": {},
   "outputs": [
    {
     "data": {
      "text/plain": [
       "(array([0, 0, 0]), 0.0)"
      ]
     },
     "execution_count": 6,
     "metadata": {},
     "output_type": "execute_result"
    }
   ],
   "source": [
    "state.measure(paulialg.paulis('ZII','IZI','IIZ'))"
   ]
  },
  {
   "cell_type": "markdown",
   "id": "5ef69873-d297-4001-a8ab-bdc892ec46e5",
   "metadata": {},
   "source": [
    "We see the second measurement will return the same measurement result with 100% probability"
   ]
  },
  {
   "cell_type": "markdown",
   "id": "00ef3d87-6d39-44fd-b5c0-27a4c75e4174",
   "metadata": {},
   "source": [
    "## Expectation"
   ]
  },
  {
   "cell_type": "markdown",
   "id": "9ef0adb9-5718-44bc-925c-ab15a56a464e",
   "metadata": {},
   "source": [
    "`StabilizerState.expect()` provide fast algorithm to evaluate expectation value of:\n",
    "- Pauli operator\n",
    "- Pauli Monomial/Polynomial\n",
    "- Overlap between stabilizer states <font color='red'>Warning: currently it only supports pure state overlap with general stabilizer states.</font>"
   ]
  },
  {
   "cell_type": "code",
   "execution_count": 10,
   "id": "eafcfd1f-3b2b-4b9a-93ef-f318bc10812d",
   "metadata": {},
   "outputs": [],
   "source": [
    "state = stabilizer.ghz_state(5)"
   ]
  },
  {
   "cell_type": "code",
   "execution_count": 11,
   "id": "d43ca20e-e3fd-459e-9530-147ca34d91ac",
   "metadata": {},
   "outputs": [
    {
     "data": {
      "text/plain": [
       "array([ 1,  0, -1])"
      ]
     },
     "execution_count": 11,
     "metadata": {},
     "output_type": "execute_result"
    }
   ],
   "source": [
    "state.expect(paulialg.paulis('XXXXX','IZIII','-ZZIII'))"
   ]
  },
  {
   "cell_type": "code",
   "execution_count": 12,
   "id": "55882e50-e6cf-4486-8890-0e49e14c13d6",
   "metadata": {},
   "outputs": [],
   "source": [
    "pauli_poly = 0.5*paulialg.pauli('XXXXX')+0.2j*paulialg.pauli('-ZZIII')"
   ]
  },
  {
   "cell_type": "code",
   "execution_count": 13,
   "id": "a2c72201-ad8a-4527-b9c7-1ccf1ce84b78",
   "metadata": {},
   "outputs": [
    {
     "data": {
      "text/plain": [
       "(0.5-0.2j)"
      ]
     },
     "execution_count": 13,
     "metadata": {},
     "output_type": "execute_result"
    }
   ],
   "source": [
    "state.expect(pauli_poly)"
   ]
  },
  {
   "cell_type": "markdown",
   "id": "003cc708-a61f-42af-9282-fb4ee904831d",
   "metadata": {},
   "source": [
    "## Overlap between two stabilizer states (fidelity)"
   ]
  },
  {
   "cell_type": "code",
   "execution_count": 15,
   "id": "27136055-4f14-4c11-9e7a-9bd82ecadeef",
   "metadata": {},
   "outputs": [
    {
     "name": "stdout",
     "output_type": "stream",
     "text": [
      "State overlap is: 0.25\n"
     ]
    }
   ],
   "source": [
    "state = stabilizer.ghz_state(3)\n",
    "state2 = stabilizer.random_clifford_state(3)\n",
    "print(\"State overlap is:\", state.expect(state2))"
   ]
  },
  {
   "cell_type": "code",
   "execution_count": 16,
   "id": "9f015294-b102-4acc-9a17-e2ad429bf067",
   "metadata": {},
   "outputs": [
    {
     "name": "stdout",
     "output_type": "stream",
     "text": [
      "State overlap is: 0.125\n"
     ]
    }
   ],
   "source": [
    "tate = stabilizer.ghz_state(3)\n",
    "state2 = stabilizer.random_clifford_state(3)\n",
    "state2.set_r(1)\n",
    "print(\"State overlap is:\", state.expect(state2))"
   ]
  },
  {
   "cell_type": "markdown",
   "id": "7faadedb-a0e3-45a9-837c-c7b7abc9ec55",
   "metadata": {},
   "source": [
    "## The probability of getting a bit-string readout (Bit-string probability)"
   ]
  },
  {
   "cell_type": "markdown",
   "id": "73c604d7-37af-4624-bb89-02216203db61",
   "metadata": {},
   "source": [
    "`StabilizerState.get_prob(bitstring)` will return the probability of measuring given bitstring at current stabilizer state.\n",
    "**Input**\n",
    "- bitstring: Integer type 1D array\n",
    "**Output**\n",
    "- probability"
   ]
  },
  {
   "cell_type": "code",
   "execution_count": 17,
   "id": "7e7378ab-73dd-4167-8cb9-d51251725cdf",
   "metadata": {},
   "outputs": [],
   "source": [
    "state = stabilizer.ghz_state(625)"
   ]
  },
  {
   "cell_type": "code",
   "execution_count": 18,
   "id": "610efb26-977c-4c70-b439-6cf1ca1b5317",
   "metadata": {},
   "outputs": [
    {
     "data": {
      "text/plain": [
       "0.5"
      ]
     },
     "execution_count": 18,
     "metadata": {},
     "output_type": "execute_result"
    }
   ],
   "source": [
    "state.get_prob(np.ones(625))"
   ]
  },
  {
   "cell_type": "markdown",
   "id": "b3b71a95-6f60-4a33-834a-15f37aafc541",
   "metadata": {},
   "source": [
    "## Transform stabilzier state by rotation/Clifford transformation"
   ]
  },
  {
   "cell_type": "markdown",
   "id": "a86598da-47d7-4645-ba83-1c0505a392c3",
   "metadata": {},
   "source": [
    "As a derived class of `PauliList`, `StabilizerState` also support `StabilizerState.rotate_by(pauli)` and `StabilizerState.transform_by(clifford_map)`"
   ]
  },
  {
   "cell_type": "code",
   "execution_count": 19,
   "id": "3df9d9b9-8531-4bfb-a86a-f02c9f5d66cc",
   "metadata": {},
   "outputs": [],
   "source": [
    "rho = stabilizer.ghz_state(4)"
   ]
  },
  {
   "cell_type": "code",
   "execution_count": 20,
   "id": "a6f9aa64-b3dc-4959-aace-550e75f0b47f",
   "metadata": {},
   "outputs": [
    {
     "data": {
      "text/plain": [
       "StabilizerState(\n",
       "   -YIXI\n",
       "   -XIYI\n",
       "   -XZYZ\n",
       "   +IYIX)"
      ]
     },
     "execution_count": 20,
     "metadata": {},
     "output_type": "execute_result"
    }
   ],
   "source": [
    "rho.rotate_by(paulialg.pauli([1,3,1,0]))"
   ]
  },
  {
   "cell_type": "code",
   "execution_count": 21,
   "id": "f4663c53-eea7-4b21-9046-4256f04ce6aa",
   "metadata": {},
   "outputs": [
    {
     "data": {
      "text/plain": [
       "StabilizerState(\n",
       "   +XZYY\n",
       "   +XXIZ\n",
       "   +ZXIY\n",
       "   -IYIX)"
      ]
     },
     "execution_count": 21,
     "metadata": {},
     "output_type": "execute_result"
    }
   ],
   "source": [
    "rho.transform_by(stabilizer.random_clifford_map(4))"
   ]
  },
  {
   "cell_type": "markdown",
   "id": "81ae22a1-56eb-4182-9387-d3fa31d54aa4",
   "metadata": {},
   "source": [
    "## Sample stabilizers from the stabilizer group"
   ]
  },
  {
   "cell_type": "markdown",
   "id": "4efe5264-7a7e-49e6-946e-3e28bd17910d",
   "metadata": {},
   "source": [
    "`Stabilizer.sample(L)` will sample $L$ stabilizers in the stabilizer group"
   ]
  },
  {
   "cell_type": "code",
   "execution_count": 22,
   "id": "7823ce59-dddb-453d-8f0c-4bdf88e95940",
   "metadata": {},
   "outputs": [
    {
     "data": {
      "text/plain": [
       " -XYXY\n",
       " -YXXY\n",
       " -YXXY\n",
       " -XXYY"
      ]
     },
     "execution_count": 22,
     "metadata": {},
     "output_type": "execute_result"
    }
   ],
   "source": [
    "rho = stabilizer.ghz_state(4)\n",
    "rho.sample(4)"
   ]
  },
  {
   "cell_type": "markdown",
   "id": "082d8621-8fc1-4daf-ab0d-f903ed7a6fe6",
   "metadata": {},
   "source": [
    "## Get density matrix of a stabilizer state"
   ]
  },
  {
   "cell_type": "markdown",
   "id": "62709bb7-1154-428d-8443-e22e27c4a779",
   "metadata": {},
   "source": [
    "@property `StabilizerState.density_matrix` will return density matrix of stabilizer state as `PauliPolynomial`"
   ]
  },
  {
   "cell_type": "code",
   "execution_count": 24,
   "id": "c8209b8a-560c-42af-88ed-f02fe860946f",
   "metadata": {},
   "outputs": [
    {
     "data": {
      "text/plain": [
       "0.25000 II +0.25000 XX +0.25000 ZZ -0.25000 YY"
      ]
     },
     "execution_count": 24,
     "metadata": {},
     "output_type": "execute_result"
    }
   ],
   "source": [
    "stabilizer.ghz_state(2).density_matrix"
   ]
  },
  {
   "cell_type": "markdown",
   "id": "08a5352e-00a0-42b8-a762-03b1dfb6ba98",
   "metadata": {},
   "source": [
    "## Calculate Entropy of a stabilizer state"
   ]
  },
  {
   "cell_type": "markdown",
   "id": "db14e515-e82e-4394-a07c-c7191413b09c",
   "metadata": {},
   "source": [
    "`StabilizerState.entropy(subsys)` will calculate the second Renyi entropy of the stabilizer state on subregion.\n",
    "**Parameter**\n",
    "- `subsys`: List containing the location of region"
   ]
  },
  {
   "cell_type": "code",
   "execution_count": 25,
   "id": "11e662b8-5871-4e32-a469-a635a9a9a6c4",
   "metadata": {},
   "outputs": [],
   "source": [
    "state = stabilizer.random_clifford_state(20)"
   ]
  },
  {
   "cell_type": "code",
   "execution_count": 26,
   "id": "2b87f204-669d-45c4-a141-7397d056e175",
   "metadata": {},
   "outputs": [
    {
     "data": {
      "text/plain": [
       "3"
      ]
     },
     "execution_count": 26,
     "metadata": {},
     "output_type": "execute_result"
    }
   ],
   "source": [
    "state.entropy([1,5,10])"
   ]
  },
  {
   "cell_type": "markdown",
   "id": "c536029f-9448-42df-a6dc-ffcedab763b7",
   "metadata": {},
   "source": [
    "## Copy a stabilizer state"
   ]
  },
  {
   "cell_type": "markdown",
   "id": "7b0af47b-37f7-4f8d-96ba-d70a6eabe0d3",
   "metadata": {},
   "source": [
    "`StabilizerState.copy()` returns a copy of the state, such that the original state will not be touch by modification on the copy state. It is useful to copy the state for measurement (as measurement changes the state).\n",
    "\n",
    "Example:"
   ]
  },
  {
   "cell_type": "code",
   "execution_count": 27,
   "id": "80378ad8-c6d2-4040-92b1-812959fa5674",
   "metadata": {},
   "outputs": [],
   "source": [
    "state = stabilizer.random_clifford_state(4).copy()"
   ]
  },
  {
   "cell_type": "code",
   "execution_count": null,
   "id": "0bc120b5-ae87-4ef6-87f4-d0eafdfa4bf3",
   "metadata": {},
   "outputs": [],
   "source": []
  }
 ],
 "metadata": {
  "kernelspec": {
   "display_name": "Python 3 (ipykernel)",
   "language": "python",
   "name": "python3"
  },
  "language_info": {
   "codemirror_mode": {
    "name": "ipython",
    "version": 3
   },
   "file_extension": ".py",
   "mimetype": "text/x-python",
   "name": "python",
   "nbconvert_exporter": "python",
   "pygments_lexer": "ipython3",
   "version": "3.9.12"
  }
 },
 "nbformat": 4,
 "nbformat_minor": 5
}

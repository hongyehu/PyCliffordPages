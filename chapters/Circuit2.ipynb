{
 "cells": [
  {
   "cell_type": "code",
   "execution_count": 1,
   "id": "93da53d5-c934-4071-a7da-a88ef248c50b",
   "metadata": {},
   "outputs": [],
   "source": [
    "import sys\n",
    "sys.path.insert(0, '..')\n",
    "import numpy as np\n",
    "import qutip as qt\n",
    "import src\n",
    "from src import (utils, paulialg, stabilizer, circuit)"
   ]
  },
  {
   "cell_type": "markdown",
   "id": "e2a0070a-b75a-4512-9f9e-7705171b05e9",
   "metadata": {},
   "source": [
    "# Clifford Layers"
   ]
  },
  {
   "cell_type": "markdown",
   "id": "9e78540d-9fd5-4d41-94b3-1249cf6eeceb",
   "metadata": {},
   "source": [
    "`CliffordLayer` has the following attributes:\n",
    "- gates(list): contains a list of `CliffordGate`\n",
    "- prev_layer: Default `None`. It will be automatically setup in `CliffordCircuit`\n",
    "- next_layer: Default `None`. It will be automatically setup in `CliffordCircuit`\n",
    "- forward_map\n",
    "- backward_map"
   ]
  },
  {
   "cell_type": "markdown",
   "id": "fae6e304-d173-4eb2-b4bd-27dfb07c51b0",
   "metadata": {},
   "source": [
    "`CliffordLayer` can take `CliffordGates` by `layer.take(gate)`:"
   ]
  },
  {
   "cell_type": "code",
   "execution_count": 2,
   "id": "c91c26e3-6cef-4669-872b-c680abd15cfa",
   "metadata": {},
   "outputs": [],
   "source": [
    "circlayer = circuit.CliffordLayer()"
   ]
  },
  {
   "cell_type": "code",
   "execution_count": 3,
   "id": "98e5fa7a-ccc9-4aca-b0fb-4babce3cf5ac",
   "metadata": {},
   "outputs": [],
   "source": [
    "circlayer.take(circuit.CliffordGate(0,1))\n",
    "circlayer.take(circuit.CliffordGate(1,3))"
   ]
  },
  {
   "cell_type": "code",
   "execution_count": 4,
   "id": "99342376-f38c-4a0e-b196-8f21f95ab017",
   "metadata": {},
   "outputs": [
    {
     "data": {
      "text/plain": [
       "|[0,1][1,3]|"
      ]
     },
     "execution_count": 4,
     "metadata": {},
     "output_type": "execute_result"
    }
   ],
   "source": [
    "circlayer"
   ]
  },
  {
   "cell_type": "code",
   "execution_count": 5,
   "id": "74f11fd4-ba85-4e96-ae64-5c19675c55c6",
   "metadata": {},
   "outputs": [
    {
     "name": "stdout",
     "output_type": "stream",
     "text": [
      "StabilizerState(\n",
      "   +IYXX\n",
      "   +YYIX\n",
      "   +YYXX\n",
      "   +YIIX)\n"
     ]
    }
   ],
   "source": [
    "psi=stabilizer.random_clifford_state(4)\n",
    "print(psi)"
   ]
  },
  {
   "cell_type": "code",
   "execution_count": 6,
   "id": "db0ab8d9-0d91-4b2b-ab51-daa1cdc3ffae",
   "metadata": {},
   "outputs": [
    {
     "data": {
      "text/plain": [
       "StabilizerState(\n",
       "   -ZXXY\n",
       "   +YZII\n",
       "   +YZXI\n",
       "   +XXIX)"
      ]
     },
     "execution_count": 6,
     "metadata": {},
     "output_type": "execute_result"
    }
   ],
   "source": [
    "circlayer.forward(psi)"
   ]
  },
  {
   "cell_type": "markdown",
   "id": "63921aa2-fb60-434e-ac48-dabd9e81d9c9",
   "metadata": {},
   "source": [
    "<div class=\"alert alert-block alert-success\">\n",
    "If the forward map and backward map for a gate is Null, then it will be assigned a <b> different </b>random clifford map each time when use calls forward() or backward()\n",
    "</div>"
   ]
  },
  {
   "cell_type": "code",
   "execution_count": null,
   "id": "d6749940-5606-46e0-b45b-c13622d01ef7",
   "metadata": {},
   "outputs": [],
   "source": []
  }
 ],
 "metadata": {
  "kernelspec": {
   "display_name": "Python 3 (ipykernel)",
   "language": "python",
   "name": "python3"
  },
  "language_info": {
   "codemirror_mode": {
    "name": "ipython",
    "version": 3
   },
   "file_extension": ".py",
   "mimetype": "text/x-python",
   "name": "python",
   "nbconvert_exporter": "python",
   "pygments_lexer": "ipython3",
   "version": "3.9.12"
  }
 },
 "nbformat": 4,
 "nbformat_minor": 5
}

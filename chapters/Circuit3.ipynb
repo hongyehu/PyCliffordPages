{
 "cells": [
  {
   "cell_type": "code",
   "execution_count": 1,
   "id": "8cdf71c9-9c5f-4700-bc27-9d579670010d",
   "metadata": {},
   "outputs": [],
   "source": [
    "import sys\n",
    "sys.path.insert(0, '..')\n",
    "import numpy as np\n",
    "import qutip as qt\n",
    "import src\n",
    "from src import (utils, paulialg, stabilizer, circuit)"
   ]
  },
  {
   "cell_type": "markdown",
   "id": "590994e3-b650-4f96-9626-f6ef12cb7df3",
   "metadata": {},
   "source": [
    "# Clifford Circuit"
   ]
  },
  {
   "cell_type": "markdown",
   "id": "fca21f85-064d-461c-b76e-cddd22c86752",
   "metadata": {},
   "source": [
    "`CliffordCircuit` is the high level API to assemble gates and layers, and it **automatically** calculate number of qubits in the system\n",
    "It has attributes:\n",
    "- first_layer\n",
    "- last_layer\n",
    "- forward_map\n",
    "- backward_map\n",
    "\n",
    "When `CliffordCircuit` is initialized, a null `CliffordLayer()` will be initiated.\n",
    "`CliffordCircuit` can take `CliffordGate` by `circ.take(gate)`.\n",
    "\n",
    "If the gate is independent from the current layer, it will be added. Otherwise, the circuit will create a new layer and add the gate."
   ]
  },
  {
   "cell_type": "code",
   "execution_count": 2,
   "id": "fda91bf3-a928-4c51-b61d-1d52b33bb49e",
   "metadata": {},
   "outputs": [],
   "source": [
    "circ = circuit.CliffordCircuit()"
   ]
  },
  {
   "cell_type": "code",
   "execution_count": 3,
   "id": "98083312-69a2-4da5-8cfb-dc2a8541ca27",
   "metadata": {},
   "outputs": [
    {
     "data": {
      "text/plain": [
       "CliffordCircuit(\n",
       "  |[0,1]|)"
      ]
     },
     "execution_count": 3,
     "metadata": {},
     "output_type": "execute_result"
    }
   ],
   "source": [
    "circ.take(circuit.CliffordGate(0,1))"
   ]
  },
  {
   "cell_type": "code",
   "execution_count": 4,
   "id": "5e2776d3-b7a1-4012-85c4-ebe96c010f24",
   "metadata": {},
   "outputs": [
    {
     "data": {
      "text/plain": [
       "CliffordCircuit(\n",
       "  |[0,1][9,10]|)"
      ]
     },
     "execution_count": 4,
     "metadata": {},
     "output_type": "execute_result"
    }
   ],
   "source": [
    "circ.take(circuit.CliffordGate(9,10))"
   ]
  },
  {
   "cell_type": "code",
   "execution_count": 5,
   "id": "bf6c2388-50a8-44f3-9b84-21f410e98db3",
   "metadata": {},
   "outputs": [
    {
     "data": {
      "text/plain": [
       "11"
      ]
     },
     "execution_count": 5,
     "metadata": {},
     "output_type": "execute_result"
    }
   ],
   "source": [
    "circ.N"
   ]
  },
  {
   "cell_type": "code",
   "execution_count": null,
   "id": "e6c88cce-d6ce-461f-8129-58b2ed60aebf",
   "metadata": {},
   "outputs": [],
   "source": []
  }
 ],
 "metadata": {
  "kernelspec": {
   "display_name": "Python 3 (ipykernel)",
   "language": "python",
   "name": "python3"
  },
  "language_info": {
   "codemirror_mode": {
    "name": "ipython",
    "version": 3
   },
   "file_extension": ".py",
   "mimetype": "text/x-python",
   "name": "python",
   "nbconvert_exporter": "python",
   "pygments_lexer": "ipython3",
   "version": "3.9.12"
  }
 },
 "nbformat": 4,
 "nbformat_minor": 5
}

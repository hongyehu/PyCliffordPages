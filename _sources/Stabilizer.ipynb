{
 "cells": [
  {
   "cell_type": "code",
   "execution_count": 1,
   "id": "1135119c-6e25-49d5-b808-44ea3a069190",
   "metadata": {},
   "outputs": [],
   "source": [
    "# will autoupdate any of the packages imported:\n",
    "%load_ext autoreload\n",
    "%autoreload 2"
   ]
  },
  {
   "cell_type": "code",
   "execution_count": 2,
   "id": "91ced1e8-5527-4071-919b-d60cfc0d0027",
   "metadata": {},
   "outputs": [],
   "source": [
    "from context import *"
   ]
  },
  {
   "cell_type": "markdown",
   "id": "1b6ee092-eb7e-4072-8f90-64e12f48fa34",
   "metadata": {},
   "source": [
    "# Stablizer Formalism (`stabilizer`)"
   ]
  },
  {
   "cell_type": "markdown",
   "id": "01e9878a-3d40-40b4-90d1-3ebb6efa1f8f",
   "metadata": {
    "tags": []
   },
   "source": [
    "## General Idea: State-Map Duality"
   ]
  },
  {
   "cell_type": "markdown",
   "id": "53ed4441-fc87-4b10-a8fa-584a952da81e",
   "metadata": {},
   "source": [
    "Every stabilizer state $\\rho$ is dual to a Clifford unitary $U$, such that the state can be generated from the zero state $|00\\cdots0\\rangle$ as\n",
    "$$\\rho = U|00\\cdots0\\rangle\\langle 00\\cdots0|U^\\dagger$$.\n",
    "Both $\\rho$ and $U$ describes a stabilizer code:\n",
    "* $\\rho$ is a projection operator that specifies the code subspace of the stabilizer code.\n",
    "* $U$ is the encoding Clifford unitary that encodes the logical + syndrome qubits to the physical qubits in the stabilizer code.\n",
    "\n",
    "The package `stabilizer` (based on `paulialg`) provides related functions to represent stabilizer states and Clifford maps. There are two classes defined in this package.\n",
    "\n",
    "* `stabilizer.CliffordMap`. Since the Clifford unitary $U$ maps Pauli operators to Pauli operators, it is sufficient to specify a Clifford unitary by how each single-qubit Pauli operator transforms under the unitary. Such transformation rules are stored in a table called the Clifford map.\n",
    "\n",
    "* `stabilizer.StabilizerState`. The stabilizer state is specified by a set of stabilizers and the corresponding destabilizers. Using the binary representation of Pauli operators, they can be stored in a table, called the stabilizer tableau. \n",
    "\n",
    "Since both classes need to store a table of Pauli operators, they are both realized as subclasses of `paulialg.PauliList`."
   ]
  },
  {
   "cell_type": "markdown",
   "id": "33abd7ca-ad56-4843-90dc-faf65d007c60",
   "metadata": {
    "tags": []
   },
   "source": [
    "## Basic Usage"
   ]
  },
  {
   "cell_type": "markdown",
   "id": "3193dae6-9ce6-41cf-9b2c-4bdea3e016e3",
   "metadata": {},
   "source": [
    "---"
   ]
  },
  {
   "cell_type": "markdown",
   "id": "9ab056bf-7362-4533-965d-4510a0e89a20",
   "metadata": {
    "tags": []
   },
   "source": [
    "### Constructors"
   ]
  },
  {
   "cell_type": "markdown",
   "id": "9eedc7ad-eef7-44a5-8623-ac9786043f8c",
   "metadata": {},
   "source": [
    "#### Construct Clifford Maps"
   ]
  },
  {
   "cell_type": "markdown",
   "id": "1618c9d5-bf2a-4cd1-a86f-e0032816636c",
   "metadata": {},
   "source": [
    "`identity_map(N)` constructs an identity Clifford map on $N$ qubits."
   ]
  },
  {
   "cell_type": "code",
   "execution_count": 3,
   "id": "105afc01-c68b-4a17-bdc7-add825a97ceb",
   "metadata": {},
   "outputs": [
    {
     "data": {
      "text/plain": [
       "CliffordMap(\n",
       "  X0-> +XIII\n",
       "  Z0-> +ZIII\n",
       "  X1-> +IXII\n",
       "  Z1-> +IZII\n",
       "  X2-> +IIXI\n",
       "  Z2-> +IIZI\n",
       "  X3-> +IIIX\n",
       "  Z3-> +IIIZ)"
      ]
     },
     "execution_count": 3,
     "metadata": {},
     "output_type": "execute_result"
    }
   ],
   "source": [
    "stabilizer.identity_map(4)"
   ]
  },
  {
   "cell_type": "code",
   "execution_count": 49,
   "id": "9a2cdfe0-69cc-4ed6-b4a4-708c48a76f3a",
   "metadata": {},
   "outputs": [
    {
     "data": {
      "text/plain": [
       "array([0, 0, 0, 0, 0, 0, 0, 0])"
      ]
     },
     "execution_count": 49,
     "metadata": {},
     "output_type": "execute_result"
    }
   ],
   "source": [
    "stabilizer.identity_map(4).ps"
   ]
  },
  {
   "cell_type": "markdown",
   "id": "9faf6fee-ac08-49f8-9605-9a99b6454b94",
   "metadata": {},
   "source": [
    "`random_pauli_map(N)` samples a random Clifford map made of random single-qubit Clifford gates on $N$ qubits, i.e. $U=\\prod_i U_i\\in\\mathrm{Cl}(2)^N$. Each realization specifies a random local Pauli basis."
   ]
  },
  {
   "cell_type": "code",
   "execution_count": 4,
   "id": "e21184c0-5539-4989-badf-ff7913919ea0",
   "metadata": {},
   "outputs": [
    {
     "data": {
      "text/plain": [
       "CliffordMap(\n",
       "  X0-> -YIII\n",
       "  Z0-> -ZIII\n",
       "  X1-> +IZII\n",
       "  Z1-> -IYII\n",
       "  X2-> -IIYI\n",
       "  Z2-> +IIZI\n",
       "  X3-> +IIIY\n",
       "  Z3-> +IIIX)"
      ]
     },
     "execution_count": 4,
     "metadata": {},
     "output_type": "execute_result"
    }
   ],
   "source": [
    "stabilizer.random_pauli_map(4)"
   ]
  },
  {
   "cell_type": "markdown",
   "id": "7267f4dc-36f9-4963-8b9c-a9faa0e7ec20",
   "metadata": {},
   "source": [
    "`random_clifford_map(N)` samples a globally random Clifford map on $N$ qubits, i.e. $U\\in\\mathrm{Cl}(2^N)$. Each realization specifies a random global stabilizer basis."
   ]
  },
  {
   "cell_type": "code",
   "execution_count": 5,
   "id": "955cc4e9-66c3-4ff8-bca6-c4ed68225327",
   "metadata": {},
   "outputs": [
    {
     "data": {
      "text/plain": [
       "CliffordMap(\n",
       "  X0-> +IXYI\n",
       "  Z0-> -XYYX\n",
       "  X1-> +ZIYY\n",
       "  Z1-> +IZXI\n",
       "  X2-> -YXYX\n",
       "  Z2-> +IYZZ\n",
       "  X3-> -YYZI\n",
       "  Z3-> -ZZXZ)"
      ]
     },
     "execution_count": 5,
     "metadata": {},
     "output_type": "execute_result"
    }
   ],
   "source": [
    "stabilizer.random_clifford_map(4)"
   ]
  },
  {
   "cell_type": "markdown",
   "id": "8350ccfc-b471-41c2-a30c-741476880ba3",
   "metadata": {},
   "source": [
    "`clifford_rotation_map(N)` constructs a Clifford map based for a Clifford rotation given its generator."
   ]
  },
  {
   "cell_type": "code",
   "execution_count": 6,
   "id": "73c6779e-d58c-48fa-8dcc-52e7cd69a228",
   "metadata": {},
   "outputs": [
    {
     "data": {
      "text/plain": [
       "CliffordMap(\n",
       "  X0-> +XIII\n",
       "  Z0-> +YXYZ\n",
       "  X1-> +IXII\n",
       "  Z1-> +XYYZ\n",
       "  X2-> +XXZZ\n",
       "  Z2-> -XXXZ\n",
       "  X3-> -XXYY\n",
       "  Z3-> +IIIZ)"
      ]
     },
     "execution_count": 6,
     "metadata": {},
     "output_type": "execute_result"
    }
   ],
   "source": [
    "stabilizer.clifford_rotation_map('-XXYZ')"
   ]
  },
  {
   "cell_type": "markdown",
   "id": "670603a1-7349-4024-a59a-ea1a73124958",
   "metadata": {},
   "source": [
    "#### Construct Stabilizer States"
   ]
  },
  {
   "cell_type": "markdown",
   "id": "205d2818-521c-420e-9aeb-a4c715ef8daf",
   "metadata": {},
   "source": [
    "`maximally_mixed_state(N)` constructs a $N$-qubit maximally mixed state (by setting the density matrix to full rank).\n",
    "$$\\rho=2^{-N}\\mathbb{1}.$$"
   ]
  },
  {
   "cell_type": "code",
   "execution_count": 7,
   "id": "55af9c94-461d-49e3-97c9-8df3d369433c",
   "metadata": {},
   "outputs": [
    {
     "data": {
      "text/plain": [
       "StabilizerState()"
      ]
     },
     "execution_count": 7,
     "metadata": {},
     "output_type": "execute_result"
    }
   ],
   "source": [
    "stabilizer.maximally_mixed_state(4)"
   ]
  },
  {
   "cell_type": "markdown",
   "id": "9b0dd1db-92ba-42a8-8678-130a5bcbf99d",
   "metadata": {},
   "source": [
    "`zero_state(N)` constructs a $N$-qubit all-zero state \n",
    "$$\\rho=|0\\cdots0\\rangle\\langle 0\\cdots0|=\\prod_{i}\\frac{1+Z_i}{2}.$$"
   ]
  },
  {
   "cell_type": "code",
   "execution_count": 8,
   "id": "11393d35-a9dc-4e7b-9013-816bc43fc950",
   "metadata": {},
   "outputs": [
    {
     "data": {
      "text/plain": [
       "StabilizerState(\n",
       "   +ZIII\n",
       "   +IZII\n",
       "   +IIZI\n",
       "   +IIIZ)"
      ]
     },
     "execution_count": 8,
     "metadata": {},
     "output_type": "execute_result"
    }
   ],
   "source": [
    "stabilizer.zero_state(4)"
   ]
  },
  {
   "cell_type": "markdown",
   "id": "4a86fbf8-5f2a-4fae-bc70-636452574550",
   "metadata": {},
   "source": [
    "`one_state(N)` constructs a $N$-qubit all-one state \n",
    "$$\\rho=|1\\cdots1\\rangle\\langle 1\\cdots1|=\\prod_{i}\\frac{1-Z_i}{2}.$$"
   ]
  },
  {
   "cell_type": "code",
   "execution_count": 11,
   "id": "42d997e0-0b97-4b58-8866-eeb0a654dd71",
   "metadata": {},
   "outputs": [
    {
     "data": {
      "text/plain": [
       "StabilizerState(\n",
       "   -ZIII\n",
       "   -IZII\n",
       "   -IIZI\n",
       "   -IIIZ)"
      ]
     },
     "execution_count": 11,
     "metadata": {},
     "output_type": "execute_result"
    }
   ],
   "source": [
    "stabilizer.one_state(4)"
   ]
  },
  {
   "cell_type": "markdown",
   "id": "bafe9fdb-4c50-4a0b-a240-eeab5740217d",
   "metadata": {},
   "source": [
    "`ghz_state(N)` constructs a $N$-qubit GHZ state\n",
    "$$\\rho = |\\Psi\\rangle\\langle\\Psi|, \\qquad \\text{with }|\\Psi\\rangle=\\frac{1}{\\sqrt{2}}(|0\\cdots0\\rangle+|1\\cdots1\\rangle).$$"
   ]
  },
  {
   "cell_type": "code",
   "execution_count": 12,
   "id": "5586e3df-3e74-4c1a-b54c-4df28e0a32eb",
   "metadata": {},
   "outputs": [
    {
     "data": {
      "text/plain": [
       "StabilizerState(\n",
       "   +XXXX\n",
       "   +IIZZ\n",
       "   +IZZI\n",
       "   +ZZII)"
      ]
     },
     "execution_count": 12,
     "metadata": {},
     "output_type": "execute_result"
    }
   ],
   "source": [
    "stabilizer.ghz_state(4)"
   ]
  },
  {
   "cell_type": "markdown",
   "id": "2fbf7136-7102-406e-8ea9-0b966f478872",
   "metadata": {},
   "source": [
    "`random_pauli_map(N)` samples a $N$ qubit random Pauli state.\n",
    "$$\\rho=U|0\\cdots0\\rangle\\langle 0\\cdots0|U^\\dagger,\\qquad\\text{with }U\\in \\mathrm{Cl}(2)^N.$$"
   ]
  },
  {
   "cell_type": "code",
   "execution_count": 14,
   "id": "16f6287f-695e-4198-9ba1-6f99b3a9261f",
   "metadata": {},
   "outputs": [
    {
     "data": {
      "text/plain": [
       "CliffordMap(\n",
       "  X0-> +XIII\n",
       "  Z0-> -ZIII\n",
       "  X1-> -IXII\n",
       "  Z1-> +IZII\n",
       "  X2-> -IIYI\n",
       "  Z2-> +IIXI\n",
       "  X3-> -IIIZ\n",
       "  Z3-> +IIIX)"
      ]
     },
     "execution_count": 14,
     "metadata": {},
     "output_type": "execute_result"
    }
   ],
   "source": [
    "stabilizer.random_pauli_map(4)"
   ]
  },
  {
   "cell_type": "markdown",
   "id": "9dc53700-5c5e-4d38-91ce-f471d5558c9b",
   "metadata": {},
   "source": [
    "`random_clifford_map(N)` samples a $N$ qubit random Clifford (random stabilizer) state.\n",
    "$$\\rho=U|0\\cdots0\\rangle\\langle 0\\cdots0|U^\\dagger,\\qquad\\text{with }U\\in \\mathrm{Cl}(2^N).$$"
   ]
  },
  {
   "cell_type": "code",
   "execution_count": 15,
   "id": "d2b37e3e-7ca6-49b1-9cc0-eaac7f6a1096",
   "metadata": {},
   "outputs": [
    {
     "data": {
      "text/plain": [
       "StabilizerState(\n",
       "   +ZZZY\n",
       "   -XZIZ\n",
       "   +YYYZ\n",
       "   +IYZX)"
      ]
     },
     "execution_count": 15,
     "metadata": {},
     "output_type": "execute_result"
    }
   ],
   "source": [
    "stabilizer.random_clifford_state(4)"
   ]
  },
  {
   "cell_type": "markdown",
   "id": "b8951bce-78fb-4f3d-8ae1-b1edafe58484",
   "metadata": {},
   "source": [
    "`stabilizer_state(...)` is a universal constructor of stabilizer state by specifying all stabilizers."
   ]
  },
  {
   "cell_type": "code",
   "execution_count": 9,
   "id": "9ce29eb2-1d5b-4e93-92b7-7ce1afe565d4",
   "metadata": {},
   "outputs": [
    {
     "data": {
      "text/plain": [
       "StabilizerState(\n",
       "   +XXY\n",
       "   +ZZI\n",
       "   +IZZ)"
      ]
     },
     "execution_count": 9,
     "metadata": {},
     "output_type": "execute_result"
    }
   ],
   "source": [
    "stabilizer.stabilizer_state('XXY','ZZI','IZZ')"
   ]
  },
  {
   "cell_type": "markdown",
   "id": "02dc711c-00fc-4e81-a563-e3aa94f155ff",
   "metadata": {},
   "source": [
    "#### Low level constructor"
   ]
  },
  {
   "cell_type": "markdown",
   "id": "b060d66d-74a2-4ca5-a377-f6271e59c7a1",
   "metadata": {},
   "source": [
    "The user can also construct stabilizer state by low-level constructor `StabilizerState(gs, ps, r=0)`:\n",
    "\n",
    "**Parameters**\n",
    "- `gs: int (2*N, 2*N)`: strings of Pauli operators in the stabilizer tableau.\n",
    "- `ps: int (2*N)`: phase indicators (should only be 0 or 2).\n",
    "- `r:  int`: number of logical qubits (log2 rank of density matrix)'''\n",
    "\n",
    "**Returns**\n",
    "- Object of `StabilizerState`"
   ]
  },
  {
   "cell_type": "code",
   "execution_count": 10,
   "id": "55a1853e-b59d-4b7c-9705-583887850199",
   "metadata": {},
   "outputs": [
    {
     "name": "stdout",
     "output_type": "stream",
     "text": [
      "StabilizerState(\n",
      "   +XXI\n",
      "   +IIZ\n",
      "   +ZYI)\n"
     ]
    }
   ],
   "source": [
    "tmp_state = stabilizer.random_clifford_state(3)\n",
    "print(tmp_state)"
   ]
  },
  {
   "cell_type": "code",
   "execution_count": 12,
   "id": "56933040-e50a-4a71-99fa-1ae5f996a9da",
   "metadata": {},
   "outputs": [
    {
     "data": {
      "text/plain": [
       "array([[1, 0, 1, 0, 0, 0],\n",
       "       [0, 0, 0, 0, 0, 1],\n",
       "       [0, 1, 1, 1, 0, 0],\n",
       "       [1, 1, 1, 0, 0, 1],\n",
       "       [1, 0, 1, 0, 1, 1],\n",
       "       [0, 0, 1, 0, 0, 0]])"
      ]
     },
     "execution_count": 12,
     "metadata": {},
     "output_type": "execute_result"
    }
   ],
   "source": [
    "gs = tmp_state.gs\n",
    "gs"
   ]
  },
  {
   "cell_type": "code",
   "execution_count": 13,
   "id": "957d1522-8f10-4fc6-bb5b-87a62c1d1d6a",
   "metadata": {},
   "outputs": [
    {
     "data": {
      "text/plain": [
       "array([0, 0, 0, 0, 0, 0])"
      ]
     },
     "execution_count": 13,
     "metadata": {},
     "output_type": "execute_result"
    }
   ],
   "source": [
    "ps = tmp_state.ps\n",
    "ps"
   ]
  },
  {
   "cell_type": "code",
   "execution_count": 14,
   "id": "94881b5c-e05e-44f5-9ac6-f2823fb7ab0c",
   "metadata": {},
   "outputs": [
    {
     "data": {
      "text/plain": [
       "StabilizerState(\n",
       "   +XXI\n",
       "   +IIZ\n",
       "   +ZYI)"
      ]
     },
     "execution_count": 14,
     "metadata": {},
     "output_type": "execute_result"
    }
   ],
   "source": [
    "stabilizer.StabilizerState(gs=gs, ps = ps)"
   ]
  },
  {
   "cell_type": "code",
   "execution_count": 15,
   "id": "31123949-a95d-468a-a7a0-45e3838e961c",
   "metadata": {},
   "outputs": [
    {
     "data": {
      "text/plain": [
       "StabilizerState(\n",
       "   +IIZ\n",
       "   +ZYI)"
      ]
     },
     "execution_count": 15,
     "metadata": {},
     "output_type": "execute_result"
    }
   ],
   "source": [
    "stabilizer.StabilizerState(gs=gs, ps = ps,r=1)"
   ]
  },
  {
   "cell_type": "markdown",
   "id": "cdf7b9cf-559e-4943-a645-3fef7580efe4",
   "metadata": {},
   "source": [
    "A hack to inspect the full stabilizer tableau is by converting `StabilizerState` to `PauliList` by"
   ]
  },
  {
   "cell_type": "code",
   "execution_count": 23,
   "id": "2e868a7e-7fa0-436f-acb6-388abff04e49",
   "metadata": {},
   "outputs": [
    {
     "data": {
      "text/plain": [
       " +IZZ\n",
       " +ZZI\n",
       " +XXY\n",
       " +ZIX\n",
       " +ZXX\n",
       " +ZII"
      ]
     },
     "execution_count": 23,
     "metadata": {},
     "output_type": "execute_result"
    }
   ],
   "source": [
    "stabilizer.stabilizer_state('XXY','ZZI','IZZ')[:]"
   ]
  },
  {
   "cell_type": "markdown",
   "id": "040834b9-4980-4e2f-9938-a9db4509e7f8",
   "metadata": {},
   "source": [
    "<div class=\"alert alert-block alert-danger\">\n",
    "User need to <b>ensure</b> that stabilizers commute with each other, otherwise an error will be raised.\n",
    "</div>"
   ]
  },
  {
   "cell_type": "code",
   "execution_count": 24,
   "id": "c7743529-70c3-4ff3-acc5-88de8cab4c65",
   "metadata": {},
   "outputs": [
    {
     "ename": "ValueError",
     "evalue": "stabilizers must all commute with each other.",
     "output_type": "error",
     "traceback": [
      "\u001b[0;31m---------------------------------------------------------------------------\u001b[0m",
      "\u001b[0;31mValueError\u001b[0m                                Traceback (most recent call last)",
      "\u001b[0;32m<ipython-input-24-a9c6b77ad0d7>\u001b[0m in \u001b[0;36m<module>\u001b[0;34m\u001b[0m\n\u001b[0;32m----> 1\u001b[0;31m \u001b[0mstabilizer\u001b[0m\u001b[0;34m.\u001b[0m\u001b[0mstabilizer_state\u001b[0m\u001b[0;34m(\u001b[0m\u001b[0;34m'XXY'\u001b[0m\u001b[0;34m,\u001b[0m\u001b[0;34m'-YYI'\u001b[0m\u001b[0;34m,\u001b[0m\u001b[0;34m'IZZ'\u001b[0m\u001b[0;34m)\u001b[0m\u001b[0;34m\u001b[0m\u001b[0;34m\u001b[0m\u001b[0m\n\u001b[0m",
      "\u001b[0;32m~/Dropbox/Projects/Harvard/CliffordSimulator/src/stabilizer.py\u001b[0m in \u001b[0;36mstabilizer_state\u001b[0;34m(*stabilizers)\u001b[0m\n\u001b[1;32m    202\u001b[0m     \u001b[0;31m# validity check:\u001b[0m\u001b[0;34m\u001b[0m\u001b[0;34m\u001b[0m\u001b[0;34m\u001b[0m\u001b[0m\n\u001b[1;32m    203\u001b[0m     \u001b[0;32mif\u001b[0m \u001b[0;32mnot\u001b[0m \u001b[0;34m(\u001b[0m\u001b[0macq_mat\u001b[0m\u001b[0;34m(\u001b[0m\u001b[0mstabilizers\u001b[0m\u001b[0;34m.\u001b[0m\u001b[0mgs\u001b[0m\u001b[0;34m)\u001b[0m \u001b[0;34m==\u001b[0m \u001b[0;36m0\u001b[0m\u001b[0;34m)\u001b[0m\u001b[0;34m.\u001b[0m\u001b[0mall\u001b[0m\u001b[0;34m(\u001b[0m\u001b[0;34m)\u001b[0m\u001b[0;34m:\u001b[0m\u001b[0;34m\u001b[0m\u001b[0;34m\u001b[0m\u001b[0m\n\u001b[0;32m--> 204\u001b[0;31m         \u001b[0;32mraise\u001b[0m \u001b[0mValueError\u001b[0m\u001b[0;34m(\u001b[0m\u001b[0;34m'stabilizers must all commute with each other.'\u001b[0m\u001b[0;34m)\u001b[0m\u001b[0;34m\u001b[0m\u001b[0;34m\u001b[0m\u001b[0m\n\u001b[0m\u001b[1;32m    205\u001b[0m     \u001b[0mstate\u001b[0m \u001b[0;34m=\u001b[0m \u001b[0mmaximally_mixed_state\u001b[0m\u001b[0;34m(\u001b[0m\u001b[0mstabilizers\u001b[0m\u001b[0;34m.\u001b[0m\u001b[0mN\u001b[0m\u001b[0;34m)\u001b[0m\u001b[0;34m\u001b[0m\u001b[0;34m\u001b[0m\u001b[0m\n\u001b[1;32m    206\u001b[0m     \u001b[0mstate\u001b[0m\u001b[0;34m.\u001b[0m\u001b[0mgs\u001b[0m\u001b[0;34m,\u001b[0m \u001b[0mstate\u001b[0m\u001b[0;34m.\u001b[0m\u001b[0mr\u001b[0m \u001b[0;34m=\u001b[0m \u001b[0mstabilizer_project\u001b[0m\u001b[0;34m(\u001b[0m\u001b[0mstate\u001b[0m\u001b[0;34m.\u001b[0m\u001b[0mgs\u001b[0m\u001b[0;34m,\u001b[0m \u001b[0mstabilizers\u001b[0m\u001b[0;34m.\u001b[0m\u001b[0mgs\u001b[0m\u001b[0;34m,\u001b[0m \u001b[0mstate\u001b[0m\u001b[0;34m.\u001b[0m\u001b[0mr\u001b[0m\u001b[0;34m)\u001b[0m\u001b[0;34m\u001b[0m\u001b[0;34m\u001b[0m\u001b[0m\n",
      "\u001b[0;31mValueError\u001b[0m: stabilizers must all commute with each other."
     ]
    }
   ],
   "source": [
    "stabilizer.stabilizer_state('XXY','-YYI','IZZ')"
   ]
  },
  {
   "cell_type": "markdown",
   "id": "11f4722b-a97a-407c-83e7-937ddcf7f85d",
   "metadata": {},
   "source": [
    "#### State-Map Conversion"
   ]
  },
  {
   "cell_type": "markdown",
   "id": "e9f98595-162a-489d-8dbb-95787587eece",
   "metadata": {},
   "source": [
    "Stabilizer states and Clifford maps can be mapped to each other."
   ]
  },
  {
   "cell_type": "code",
   "execution_count": 26,
   "id": "be464a65-0304-46ba-9a31-2d33ebf45804",
   "metadata": {},
   "outputs": [
    {
     "name": "stdout",
     "output_type": "stream",
     "text": [
      "quantum state: \n",
      " StabilizerState(\n",
      "   +IZZ\n",
      "   +ZZI\n",
      "   +XXX)\n"
     ]
    }
   ],
   "source": [
    "rho = stabilizer.stabilizer_state('XXX','ZZI','IZZ')\n",
    "print(\"quantum state: \\n\", rho)"
   ]
  },
  {
   "cell_type": "code",
   "execution_count": 27,
   "id": "97b0f2cd-9f53-423d-a13f-d6fd4feef9bf",
   "metadata": {},
   "outputs": [
    {
     "data": {
      "text/plain": [
       "CliffordMap(\n",
       "  X0-> +IIX\n",
       "  Z0-> +IZZ\n",
       "  X1-> +IXX\n",
       "  Z1-> +ZZI\n",
       "  X2-> +ZII\n",
       "  Z2-> +XXX)"
      ]
     },
     "execution_count": 27,
     "metadata": {},
     "output_type": "execute_result"
    }
   ],
   "source": [
    "rho.to_map()"
   ]
  },
  {
   "cell_type": "markdown",
   "id": "2b5ea6a3-c59f-4cdf-a4f8-5e344fe0137a",
   "metadata": {},
   "source": [
    "And Clifford map can be converted back to the stabilizer state."
   ]
  },
  {
   "cell_type": "code",
   "execution_count": 28,
   "id": "229c7235-3792-481e-b576-d129d78ba3d8",
   "metadata": {},
   "outputs": [
    {
     "data": {
      "text/plain": [
       "StabilizerState(\n",
       "   +IZZ\n",
       "   +ZZI\n",
       "   +XXX)"
      ]
     },
     "execution_count": 28,
     "metadata": {},
     "output_type": "execute_result"
    }
   ],
   "source": [
    "rho.to_map().to_state()"
   ]
  },
  {
   "cell_type": "markdown",
   "id": "b72002ef-e2cd-4432-bc41-e222c9989560",
   "metadata": {},
   "source": [
    "* `.to_map()` and `.to_state()` will make **new copies** of Pauli string data in the memory."
   ]
  },
  {
   "cell_type": "markdown",
   "id": "2e9e412c-501f-4199-ae88-aec783bd954a",
   "metadata": {},
   "source": [
    "<div class=\"alert alert-block alert-danger\">\n",
    "The information about the rank of the density matrix is lost in the Clifford map, so the back conversion will result in a zero rank stabilizer state.\n",
    "</div>"
   ]
  },
  {
   "cell_type": "markdown",
   "id": "cd321e30-d4dc-43e0-9792-195bde12ec0b",
   "metadata": {},
   "source": [
    "---"
   ]
  },
  {
   "cell_type": "markdown",
   "id": "dfa8b202-9711-4d4a-9712-b2c72174ac45",
   "metadata": {
    "tags": []
   },
   "source": [
    "### Clifford Map Methods"
   ]
  },
  {
   "cell_type": "markdown",
   "id": "bdfe62bd-269a-4a1c-8cd9-70eb29f7efe9",
   "metadata": {},
   "source": [
    "#### - Map Embedding"
   ]
  },
  {
   "cell_type": "markdown",
   "id": "1d286dd1-de64-4eec-89a0-7df69e75268d",
   "metadata": {},
   "source": [
    "`.embed(small_map, mask)` provides the method to embed a smaller Clifford map on a subset of qubits to the current Clifford map. This is a **in-place** operation. The Clifford map object that provide this method will get modified under the embedding.\n",
    "\n",
    "**Parameters:**\n",
    "* `small_map` is a `CliffordMap` object supported on a subset of qubits.\n",
    "* `mask` is a boolean array specifying the subset of qubits."
   ]
  },
  {
   "cell_type": "code",
   "execution_count": 29,
   "id": "c684048b-dad8-492a-83e0-bdcc0646d652",
   "metadata": {},
   "outputs": [
    {
     "data": {
      "text/plain": [
       "CliffordMap(\n",
       "  X0-> +XIIIII\n",
       "  Z0-> +ZIIIII\n",
       "  X1-> +IXIIII\n",
       "  Z1-> +IZIIII\n",
       "  X2-> +IIXIII\n",
       "  Z2-> +IIZIII\n",
       "  X3-> +IIIXII\n",
       "  Z3-> +IIIZII\n",
       "  X4-> +IIIIXI\n",
       "  Z4-> +IIIIZI\n",
       "  X5-> +IIIIIX\n",
       "  Z5-> +IIIIIZ)"
      ]
     },
     "execution_count": 29,
     "metadata": {},
     "output_type": "execute_result"
    }
   ],
   "source": [
    "cmap = stabilizer.identity_map(6)\n",
    "cmap"
   ]
  },
  {
   "cell_type": "code",
   "execution_count": 30,
   "id": "0d4eba45-d285-49d1-baf5-9e3a55855c8d",
   "metadata": {},
   "outputs": [
    {
     "data": {
      "text/plain": [
       "CliffordMap(\n",
       "  X0-> +XIIIXI\n",
       "  Z0-> +YIIXXI\n",
       "  X1-> +IXIIII\n",
       "  Z1-> +IZIIII\n",
       "  X2-> +IIXIII\n",
       "  Z2-> +IIZIII\n",
       "  X3-> +IIIIXI\n",
       "  Z3-> -ZIIXZI\n",
       "  X4-> +IIIXII\n",
       "  Z4-> +XIIYII\n",
       "  X5-> +IIIIIX\n",
       "  Z5-> +IIIIIZ)"
      ]
     },
     "execution_count": 30,
     "metadata": {},
     "output_type": "execute_result"
    }
   ],
   "source": [
    "cmap.embed(stabilizer.random_clifford_map(3), numpy.array([True,False,False,True,True,False]))"
   ]
  },
  {
   "cell_type": "markdown",
   "id": "358ae96c-e748-4550-b9f8-86dcb0f50995",
   "metadata": {},
   "source": [
    "#### - Map Composition"
   ]
  },
  {
   "cell_type": "markdown",
   "id": "5c2761ee-d6eb-490e-bcfc-7b4491705ecc",
   "metadata": {},
   "source": [
    "`.compose(other)` returns the composition of the current Clifford map with another Clifford map. This will return a new Clifford map without modifying either of the input maps. The Clifford map object which initiates this method will be the preceeding map in the composition. \n",
    "\n",
    "**Parameters:**\n",
    "* `other` - another `CliffordMap`."
   ]
  },
  {
   "cell_type": "code",
   "execution_count": 34,
   "id": "49aa6828-1c07-4573-8e15-5488341d95c4",
   "metadata": {},
   "outputs": [
    {
     "data": {
      "text/plain": [
       "CliffordMap(\n",
       "  X0-> +XYYXXZ\n",
       "  Z0-> -XYXYIY\n",
       "  X1-> +XIXXYZ\n",
       "  Z1-> +XZIIZZ\n",
       "  X2-> -ZZXIIY\n",
       "  Z2-> -XYXZXZ\n",
       "  X3-> +XZZYXY\n",
       "  Z3-> -ZYZYZI\n",
       "  X4-> +ZZZYXZ\n",
       "  Z4-> +IIZIZZ\n",
       "  X5-> -XXXXZY\n",
       "  Z5-> +YZXXIX)"
      ]
     },
     "execution_count": 34,
     "metadata": {},
     "output_type": "execute_result"
    }
   ],
   "source": [
    "cmap.compose(stabilizer.random_clifford_map(6))"
   ]
  },
  {
   "cell_type": "markdown",
   "id": "93766b7a-3062-4857-9829-ce8213c577f5",
   "metadata": {},
   "source": [
    "#### - Map Inversion"
   ]
  },
  {
   "cell_type": "markdown",
   "id": "137165b6-4bf4-4dd2-b28c-bdc590ca06b7",
   "metadata": {},
   "source": [
    "`.inverse()` returns the inverse of the current Clifford map. This will return a new Clifford map withoutt modifying the original map. The inverse map is such that its composition with the original map must be identity"
   ]
  },
  {
   "cell_type": "code",
   "execution_count": 37,
   "id": "d9661849-5be8-4d2a-b357-701f2da29e7b",
   "metadata": {},
   "outputs": [
    {
     "data": {
      "text/plain": [
       "CliffordMap(\n",
       "  X0-> -Z\n",
       "  Z0-> +X)"
      ]
     },
     "execution_count": 37,
     "metadata": {},
     "output_type": "execute_result"
    }
   ],
   "source": [
    "cmap = stabilizer.clifford_rotation_map('Y')\n",
    "cmap"
   ]
  },
  {
   "cell_type": "code",
   "execution_count": 38,
   "id": "b2ee3cb2-bb7a-41fa-b9e0-ceb7a92b00b4",
   "metadata": {},
   "outputs": [
    {
     "data": {
      "text/plain": [
       "CliffordMap(\n",
       "  X0-> +Z\n",
       "  Z0-> -X)"
      ]
     },
     "execution_count": 38,
     "metadata": {},
     "output_type": "execute_result"
    }
   ],
   "source": [
    "cmap.inverse()"
   ]
  },
  {
   "cell_type": "markdown",
   "id": "aaca3842-aff8-453c-b162-40c151927484",
   "metadata": {},
   "source": [
    "Test on random maps."
   ]
  },
  {
   "cell_type": "code",
   "execution_count": 44,
   "id": "cbe9ef7c-47d7-4a2f-ae86-3194e2b81fcd",
   "metadata": {},
   "outputs": [
    {
     "data": {
      "text/plain": [
       "CliffordMap(\n",
       "  X0 -> +XIIIIIIIIIIIIIIIIIII\n",
       "  Z0 -> +ZIIIIIIIIIIIIIIIIIII\n",
       "  X1 -> +IXIIIIIIIIIIIIIIIIII\n",
       "  Z1 -> +IZIIIIIIIIIIIIIIIIII\n",
       "  X2 -> +IIXIIIIIIIIIIIIIIIII\n",
       "  Z2 -> +IIZIIIIIIIIIIIIIIIII\n",
       "  X3 -> +IIIXIIIIIIIIIIIIIIII\n",
       "  Z3 -> +IIIZIIIIIIIIIIIIIIII\n",
       "  X4 -> +IIIIXIIIIIIIIIIIIIII\n",
       "  Z4 -> +IIIIZIIIIIIIIIIIIIII\n",
       "     ...\n",
       "  X15-> +IIIIIIIIIIIIIIIXIIII\n",
       "  Z15-> +IIIIIIIIIIIIIIIZIIII\n",
       "  X16-> +IIIIIIIIIIIIIIIIXIII\n",
       "  Z16-> +IIIIIIIIIIIIIIIIZIII\n",
       "  X17-> +IIIIIIIIIIIIIIIIIXII\n",
       "  Z17-> +IIIIIIIIIIIIIIIIIZII\n",
       "  X18-> +IIIIIIIIIIIIIIIIIIXI\n",
       "  Z18-> +IIIIIIIIIIIIIIIIIIZI\n",
       "  X19-> +IIIIIIIIIIIIIIIIIIIX\n",
       "  Z19-> +IIIIIIIIIIIIIIIIIIIZ)"
      ]
     },
     "execution_count": 44,
     "metadata": {},
     "output_type": "execute_result"
    }
   ],
   "source": [
    "cmap = stabilizer.random_clifford_map(20)\n",
    "cmap.inverse().compose(cmap)"
   ]
  },
  {
   "cell_type": "code",
   "execution_count": 45,
   "id": "813ea813-99ec-45ac-82fc-905b9e8a5e96",
   "metadata": {},
   "outputs": [
    {
     "data": {
      "text/plain": [
       "CliffordMap(\n",
       "  X0 -> +XIIIIIIIIIIIIIIIIIII\n",
       "  Z0 -> +ZIIIIIIIIIIIIIIIIIII\n",
       "  X1 -> +IXIIIIIIIIIIIIIIIIII\n",
       "  Z1 -> +IZIIIIIIIIIIIIIIIIII\n",
       "  X2 -> +IIXIIIIIIIIIIIIIIIII\n",
       "  Z2 -> +IIZIIIIIIIIIIIIIIIII\n",
       "  X3 -> +IIIXIIIIIIIIIIIIIIII\n",
       "  Z3 -> +IIIZIIIIIIIIIIIIIIII\n",
       "  X4 -> +IIIIXIIIIIIIIIIIIIII\n",
       "  Z4 -> +IIIIZIIIIIIIIIIIIIII\n",
       "     ...\n",
       "  X15-> +IIIIIIIIIIIIIIIXIIII\n",
       "  Z15-> +IIIIIIIIIIIIIIIZIIII\n",
       "  X16-> +IIIIIIIIIIIIIIIIXIII\n",
       "  Z16-> +IIIIIIIIIIIIIIIIZIII\n",
       "  X17-> +IIIIIIIIIIIIIIIIIXII\n",
       "  Z17-> +IIIIIIIIIIIIIIIIIZII\n",
       "  X18-> +IIIIIIIIIIIIIIIIIIXI\n",
       "  Z18-> +IIIIIIIIIIIIIIIIIIZI\n",
       "  X19-> +IIIIIIIIIIIIIIIIIIIX\n",
       "  Z19-> +IIIIIIIIIIIIIIIIIIIZ)"
      ]
     },
     "execution_count": 45,
     "metadata": {},
     "output_type": "execute_result"
    }
   ],
   "source": [
    "cmap.compose(cmap.inverse()) "
   ]
  },
  {
   "cell_type": "markdown",
   "id": "45bb98dd-5ef8-4e75-82ef-bf111065b6d6",
   "metadata": {},
   "source": [
    "---"
   ]
  },
  {
   "cell_type": "markdown",
   "id": "1f46c6ba-288b-40b3-a494-b63e1b632bb9",
   "metadata": {},
   "source": [
    "### Stabilizer State Methods"
   ]
  },
  {
   "cell_type": "markdown",
   "id": "87edfe88-c634-4805-85f8-5cc9207d5b03",
   "metadata": {},
   "source": [
    "- ####  **Active stabilizers**"
   ]
  },
  {
   "cell_type": "markdown",
   "id": "9546f295-39ae-4c36-8d42-ef62a7d1da45",
   "metadata": {},
   "source": [
    "@property `StabilizerState.stabilizers` will return the active stabilizers, as PauliList, of the current state"
   ]
  },
  {
   "cell_type": "code",
   "execution_count": 88,
   "id": "46bad6f9-ccd2-431b-bf91-18f6279d2d86",
   "metadata": {},
   "outputs": [
    {
     "data": {
      "text/plain": [
       " +ZZI\n",
       " +IZZ\n",
       " +XXX"
      ]
     },
     "execution_count": 88,
     "metadata": {},
     "output_type": "execute_result"
    }
   ],
   "source": [
    "stabilizer.ghz_state(3).stabilizers"
   ]
  },
  {
   "cell_type": "markdown",
   "id": "a150dbd4-74aa-4b99-a98e-edd1db4ab26a",
   "metadata": {},
   "source": [
    "- ####  **Measurement**"
   ]
  },
  {
   "cell_type": "markdown",
   "id": "8f0acf65-0875-4908-9885-bbc155b2d594",
   "metadata": {},
   "source": [
    "`StabilizerState.measure(obs)` measure the stabilizer state on a set of commuting observables.\n",
    "\n",
    "**Parameters:**\n",
    "* `obs` - Observables to measure. The following types are supported:\n",
    "    * `PauliList` - a list of Pauli operators (user must ensure that operators in the list are commuting, otherwise they can not measured simutaneously).\n",
    "    * `StabilizerState` - stabilizers of a stabilizer state is always commuting, which can be treated as commuting observables for measurement.\n",
    "\n",
    "**Returns:**\n",
    "* `out` - measuremnt outcome, can only be $0$, $1$ for independent Pauli observables on stabilizer state, where 0 means positive (+1) eigenvalue, and 1 means negative (-1) eigenvalue.\n",
    "* `log2prob` - the log2 of the probability of realizing this particular outcome."
   ]
  },
  {
   "cell_type": "code",
   "execution_count": 49,
   "id": "2384a124-af48-488d-a829-337bea1a862e",
   "metadata": {},
   "outputs": [
    {
     "data": {
      "text/plain": [
       "StabilizerState(\n",
       "   +ZZI\n",
       "   +IZZ\n",
       "   +XXX)"
      ]
     },
     "execution_count": 49,
     "metadata": {},
     "output_type": "execute_result"
    }
   ],
   "source": [
    "state = stabilizer.ghz_state(3)\n",
    "state"
   ]
  },
  {
   "cell_type": "code",
   "execution_count": 50,
   "id": "44e6475a-b035-49a2-8d6b-42322bbe428b",
   "metadata": {},
   "outputs": [
    {
     "data": {
      "text/plain": [
       "(array([1, 1, 1]), -1.0)"
      ]
     },
     "execution_count": 50,
     "metadata": {},
     "output_type": "execute_result"
    }
   ],
   "source": [
    "state.measure(paulialg.paulis('ZII','IZI','IIZ'))"
   ]
  },
  {
   "cell_type": "markdown",
   "id": "e0bd6058-669c-447f-94d3-df22798b45eb",
   "metadata": {},
   "source": [
    "In the above example, I created a GHZ state, and did single qubit Z-basis measurements on each of the qubit. We get -1 for all qubits with probility $2^{-1}=0.5$"
   ]
  },
  {
   "cell_type": "markdown",
   "id": "a65534e1-a58c-4fef-8791-1863f94125af",
   "metadata": {},
   "source": [
    "<div class=\"alert alert-block alert-danger\">\n",
    "Measurement will <b>in place </b> change the state, as measurement will collapse the quantum state.\n",
    "</div>"
   ]
  },
  {
   "cell_type": "code",
   "execution_count": 51,
   "id": "11e9ebaf-3f06-4f18-9a2b-f1a3e8ed6369",
   "metadata": {},
   "outputs": [
    {
     "data": {
      "text/plain": [
       "(array([0, 0, 0]), -1.0)"
      ]
     },
     "execution_count": 51,
     "metadata": {},
     "output_type": "execute_result"
    }
   ],
   "source": [
    "state = stabilizer.ghz_state(3)\n",
    "state.measure(paulialg.paulis('ZII','IZI','IIZ'))"
   ]
  },
  {
   "cell_type": "code",
   "execution_count": 52,
   "id": "b6525997-11db-41a2-9194-c82fb48125f1",
   "metadata": {},
   "outputs": [
    {
     "data": {
      "text/plain": [
       "(array([0, 0, 0]), 0.0)"
      ]
     },
     "execution_count": 52,
     "metadata": {},
     "output_type": "execute_result"
    }
   ],
   "source": [
    "state.measure(paulialg.paulis('ZII','IZI','IIZ'))"
   ]
  },
  {
   "cell_type": "markdown",
   "id": "6d5d5937-805d-439f-9527-a4ceed5d45b4",
   "metadata": {},
   "source": [
    "We see the second measurement will return the same measurement result with 100% probability"
   ]
  },
  {
   "cell_type": "markdown",
   "id": "dd79a79b-8f9c-4e79-a761-4c3661121629",
   "metadata": {},
   "source": [
    "- ####  **Expectation**"
   ]
  },
  {
   "cell_type": "markdown",
   "id": "b4b3f129-9188-47e4-a79b-4cedd1af385d",
   "metadata": {},
   "source": [
    "`StabilizerState.expect()` provide fast algorithm to evaluate expectation value of:\n",
    "- Pauli operator\n",
    "- Pauli Monomial/Polynomial\n",
    "- Overlap between stabilizer states <font color='red'>Warning: currently it only supports pure state overlap with general stabilizer states.</font>"
   ]
  },
  {
   "cell_type": "code",
   "execution_count": 55,
   "id": "70a2881e-d8da-40ba-b1ba-93ea3848c766",
   "metadata": {},
   "outputs": [],
   "source": [
    "state = stabilizer.ghz_state(3)"
   ]
  },
  {
   "cell_type": "code",
   "execution_count": 68,
   "id": "7fbb3de1-ae1a-4022-b62c-1b18974c40a9",
   "metadata": {},
   "outputs": [
    {
     "data": {
      "text/plain": [
       "array([ 1,  0, -1])"
      ]
     },
     "execution_count": 68,
     "metadata": {},
     "output_type": "execute_result"
    }
   ],
   "source": [
    "state.expect(paulialg.paulis('XXXXX','IZIII','-ZZIII'))"
   ]
  },
  {
   "cell_type": "code",
   "execution_count": 72,
   "id": "66ad4293-a789-4466-80a4-ea92f4322499",
   "metadata": {},
   "outputs": [],
   "source": [
    "pauli_poly = 0.5*paulialg.pauli('XXXXX')+0.2j*paulialg.pauli('-ZZIII')"
   ]
  },
  {
   "cell_type": "code",
   "execution_count": 73,
   "id": "4e589fbb-6ca0-43ef-8dd5-29d1a3b489f5",
   "metadata": {},
   "outputs": [
    {
     "data": {
      "text/plain": [
       "(0.5-0.2j)"
      ]
     },
     "execution_count": 73,
     "metadata": {},
     "output_type": "execute_result"
    }
   ],
   "source": [
    "state.expect(pauli_poly)"
   ]
  },
  {
   "cell_type": "markdown",
   "id": "2f95edf5-0b44-4f71-a218-c720fd2ab8e9",
   "metadata": {},
   "source": [
    " - #### **Stabilizer state overlap**"
   ]
  },
  {
   "cell_type": "code",
   "execution_count": 20,
   "id": "af478841-2887-4ca8-aaad-d84c9018a0ef",
   "metadata": {},
   "outputs": [
    {
     "name": "stdout",
     "output_type": "stream",
     "text": [
      "State overlap is: 0.25\n"
     ]
    }
   ],
   "source": [
    "state = stabilizer.ghz_state(3)\n",
    "state2 = stabilizer.random_clifford_state(3)\n",
    "print(\"State overlap is:\", state.expect(state2))"
   ]
  },
  {
   "cell_type": "code",
   "execution_count": 22,
   "id": "3a251b3a-0070-47c6-bc70-00b3d16974e4",
   "metadata": {},
   "outputs": [
    {
     "name": "stdout",
     "output_type": "stream",
     "text": [
      "State overlap is: 0.125\n"
     ]
    }
   ],
   "source": [
    "tate = stabilizer.ghz_state(3)\n",
    "state2 = stabilizer.random_clifford_state(3)\n",
    "state2.set_r(1)\n",
    "print(\"State overlap is:\", state.expect(state2))"
   ]
  },
  {
   "cell_type": "markdown",
   "id": "195675ad-7c08-41fd-a47f-489f3c7d252b",
   "metadata": {},
   "source": [
    "- #### **Bit-string probability**"
   ]
  },
  {
   "cell_type": "markdown",
   "id": "cd847b07-a5b8-4c9b-89d7-d8457c29c091",
   "metadata": {},
   "source": [
    "`StabilizerState.get_prob(bitstring)` will return the probability of measuring given bitstring at current stabilizer state.\n",
    "**Input**\n",
    "- bitstring: Integer type 1D array\n",
    "**Output**\n",
    "- probability"
   ]
  },
  {
   "cell_type": "code",
   "execution_count": 19,
   "id": "d362453a-bdad-47ff-b7b6-2e71dbdc336c",
   "metadata": {},
   "outputs": [],
   "source": [
    "state = stabilizer.ghz_state(625)"
   ]
  },
  {
   "cell_type": "code",
   "execution_count": 20,
   "id": "9691578b-03bd-43e4-8166-4d23d2c28c5b",
   "metadata": {},
   "outputs": [
    {
     "data": {
      "text/plain": [
       "0.5"
      ]
     },
     "execution_count": 20,
     "metadata": {},
     "output_type": "execute_result"
    }
   ],
   "source": [
    "state.get_prob(np.ones(625))"
   ]
  },
  {
   "cell_type": "code",
   "execution_count": 19,
   "id": "293f5661-bae0-4af1-93e3-23a8a88ef5e6",
   "metadata": {},
   "outputs": [],
   "source": [
    "state = stabilizer.stabilizer_state(\"ZZ\",\"XX\")"
   ]
  },
  {
   "cell_type": "code",
   "execution_count": 20,
   "id": "f1ac445e-4ab5-43f0-81cb-84c05d557d22",
   "metadata": {},
   "outputs": [
    {
     "data": {
      "text/plain": [
       "0.5"
      ]
     },
     "execution_count": 20,
     "metadata": {},
     "output_type": "execute_result"
    }
   ],
   "source": [
    "state.get_prob(np.array([0,0]))"
   ]
  },
  {
   "cell_type": "markdown",
   "id": "95092928-2752-47d8-9d11-c4611db639be",
   "metadata": {},
   "source": [
    "- #### **Transform stabilzier state by rotation/Clifford transformation**"
   ]
  },
  {
   "cell_type": "markdown",
   "id": "98b0dcd7-8f5f-4319-bb4c-8f17149e82be",
   "metadata": {},
   "source": [
    "As a derived class of `PauliList`, `StabilizerState` also support `StabilizerState.rotate_by(pauli)` and `StabilizerState.transform_by(clifford_map)`"
   ]
  },
  {
   "cell_type": "code",
   "execution_count": 21,
   "id": "e4cea5f8-66b6-4b28-ae3c-8c8446058d13",
   "metadata": {},
   "outputs": [],
   "source": [
    "rho = stabilizer.ghz_state(4)"
   ]
  },
  {
   "cell_type": "code",
   "execution_count": 22,
   "id": "2c9f695d-9b99-4d1f-8904-ebd533fc6f3c",
   "metadata": {},
   "outputs": [
    {
     "data": {
      "text/plain": [
       "StabilizerState(\n",
       "   -YIXI\n",
       "   -XIYI\n",
       "   -XZYZ\n",
       "   +IYIX)"
      ]
     },
     "execution_count": 22,
     "metadata": {},
     "output_type": "execute_result"
    }
   ],
   "source": [
    "rho.rotate_by(paulialg.pauli([1,3,1,0]))"
   ]
  },
  {
   "cell_type": "code",
   "execution_count": 25,
   "id": "ffc10b84-fb26-44ad-b6d0-92a6a8dbb33e",
   "metadata": {},
   "outputs": [],
   "source": [
    "rho = stabilizer.ghz_state(4)"
   ]
  },
  {
   "cell_type": "code",
   "execution_count": 26,
   "id": "dbfd7dc8-a65e-4c37-aaf4-345298d58ce9",
   "metadata": {},
   "outputs": [
    {
     "data": {
      "text/plain": [
       "StabilizerState(\n",
       "   +XIIX\n",
       "   -IYZI\n",
       "   +YXXZ\n",
       "   -ZYZY)"
      ]
     },
     "execution_count": 26,
     "metadata": {},
     "output_type": "execute_result"
    }
   ],
   "source": [
    "rho.transform_by(stabilizer.random_clifford_map(4))"
   ]
  },
  {
   "cell_type": "markdown",
   "id": "a3151ce0-7037-4a6e-8139-d6f9c549d69f",
   "metadata": {},
   "source": [
    "- #### **Sample stabilizers in the group**"
   ]
  },
  {
   "cell_type": "markdown",
   "id": "9d7d8680-b2fa-43d1-9989-dc970575ef6c",
   "metadata": {},
   "source": [
    "`Stabilizer.sample(L)` will sample $L$ stabilizers in the stabilizer group"
   ]
  },
  {
   "cell_type": "code",
   "execution_count": 97,
   "id": "57a453b7-3a85-4727-bd51-b774ed54953a",
   "metadata": {},
   "outputs": [
    {
     "data": {
      "text/plain": [
       "array([[1, 1, 1, 0, 1],\n",
       "       [0, 1, 0, 1, 0],\n",
       "       [1, 0, 0, 0, 0],\n",
       "       [0, 1, 1, 1, 0],\n",
       "       [1, 1, 0, 0, 1],\n",
       "       [0, 1, 0, 1, 1],\n",
       "       [1, 0, 1, 0, 1],\n",
       "       [1, 1, 0, 1, 0],\n",
       "       [1, 0, 1, 0, 0],\n",
       "       [0, 0, 0, 1, 0]])"
      ]
     },
     "execution_count": 97,
     "metadata": {},
     "output_type": "execute_result"
    }
   ],
   "source": [
    "np.random.randint(2, size=(10,5-0))"
   ]
  },
  {
   "cell_type": "markdown",
   "id": "e1f8af46-c138-44e0-bd92-1145d1388926",
   "metadata": {},
   "source": [
    "- #### **Entropy**"
   ]
  },
  {
   "cell_type": "markdown",
   "id": "0d9cb153-2e74-4d10-8c94-22dd730c0a88",
   "metadata": {},
   "source": [
    "`StabilizerState.entropy(subsys)` will calculate the second Renyi entropy of the stabilizer state on subregion.\n",
    "**Parameter**\n",
    "- `subsys`: List containing the location of region"
   ]
  },
  {
   "cell_type": "code",
   "execution_count": 58,
   "id": "d686e5fe-fdd4-441e-93e2-b27b7f0c5d65",
   "metadata": {},
   "outputs": [],
   "source": [
    "state = stabilizer.random_clifford_state(20)"
   ]
  },
  {
   "cell_type": "code",
   "execution_count": 59,
   "id": "9a378d41-3616-4838-ad5c-60e0713733e8",
   "metadata": {},
   "outputs": [
    {
     "data": {
      "text/plain": [
       "2"
      ]
     },
     "execution_count": 59,
     "metadata": {},
     "output_type": "execute_result"
    }
   ],
   "source": [
    "state.entropy([1,2])"
   ]
  },
  {
   "cell_type": "code",
   "execution_count": 60,
   "id": "04946e1d-d428-42ac-b4ee-f706c1133cf0",
   "metadata": {},
   "outputs": [
    {
     "data": {
      "text/plain": [
       "3"
      ]
     },
     "execution_count": 60,
     "metadata": {},
     "output_type": "execute_result"
    }
   ],
   "source": [
    "state.entropy([1,5,10])"
   ]
  },
  {
   "cell_type": "markdown",
   "id": "65bf3ddf-04aa-4f08-8720-db412cafdcb1",
   "metadata": {},
   "source": [
    "It also support entanglement entropy for mixed state"
   ]
  },
  {
   "cell_type": "code",
   "execution_count": 25,
   "id": "da7ae335-eff2-4a7b-a12d-e40d238bd8db",
   "metadata": {},
   "outputs": [
    {
     "data": {
      "text/plain": [
       "2"
      ]
     },
     "execution_count": 25,
     "metadata": {},
     "output_type": "execute_result"
    }
   ],
   "source": [
    "state = stabilizer.random_clifford_state(4)\n",
    "state.set_r(4)\n",
    "state.entropy([1,2])"
   ]
  },
  {
   "cell_type": "markdown",
   "id": "f5f3bb5d-185e-4c67-a2f7-22508b118c44",
   "metadata": {
    "tags": []
   },
   "source": [
    "- #### **Copy**"
   ]
  },
  {
   "cell_type": "markdown",
   "id": "60ca46e0-c946-46d9-89bb-7521e84f73bd",
   "metadata": {},
   "source": [
    "`Stabilizer.copy()` will return a copy of stabilizer state"
   ]
  },
  {
   "cell_type": "code",
   "execution_count": 26,
   "id": "18565ff5-41bb-4d37-9e51-2ece1aacf95c",
   "metadata": {},
   "outputs": [],
   "source": [
    "state = stabilizer.random_clifford_state(4).copy()"
   ]
  },
  {
   "cell_type": "markdown",
   "id": "87d5c398-235f-4d74-beca-de701bf5973c",
   "metadata": {},
   "source": [
    "`StabilizerState.copy()` returns a copy of the state, such that the original state will not be touch by modification on the copy state. It is useful to copy the state for measurement (as measurement changes the state).\n",
    "\n",
    "Example:"
   ]
  },
  {
   "cell_type": "code",
   "execution_count": 19,
   "id": "f71c5757-1a6b-4b2c-a03a-d4e6cd3b3d95",
   "metadata": {},
   "outputs": [],
   "source": [
    "state = stabilizer.random_clifford_map(4).to_state()\n",
    "new_state = state.copy()"
   ]
  },
  {
   "cell_type": "markdown",
   "id": "5ae06e19-c115-4b01-bfbd-a7f27a74bf1d",
   "metadata": {
    "tags": []
   },
   "source": [
    "- #### **Set Rank**"
   ]
  },
  {
   "cell_type": "markdown",
   "id": "1b8ddbb9-c773-429c-a608-ba4f41bbc2fe",
   "metadata": {},
   "source": [
    "`Stabilizer.set_r(r)` will set the $\\log_2$ rank of stabilizer state. For $r>0$, the state is mixed."
   ]
  },
  {
   "cell_type": "code",
   "execution_count": 27,
   "id": "28f58701-a85d-4c17-be8e-999dc5743ca6",
   "metadata": {},
   "outputs": [
    {
     "data": {
      "text/plain": [
       "StabilizerState(\n",
       "   +ZYXZ\n",
       "   +ZZYZ\n",
       "   +ZXZI)"
      ]
     },
     "execution_count": 27,
     "metadata": {},
     "output_type": "execute_result"
    }
   ],
   "source": [
    "stabilizer.random_clifford_state(4).set_r(1)"
   ]
  },
  {
   "cell_type": "markdown",
   "id": "79faf9c1-638e-4072-9b9a-0f95c069ebb7",
   "metadata": {},
   "source": [
    "- #### **Sample**"
   ]
  },
  {
   "cell_type": "markdown",
   "id": "0a971fec-ba4a-4488-81b7-6785d9c184ad",
   "metadata": {},
   "source": [
    "`StabilizerState.sample(L)` will sample $L$ pauli strings in the stabilizer group"
   ]
  },
  {
   "cell_type": "code",
   "execution_count": 29,
   "id": "1929c7f1-6357-4c8a-bef7-1eef55c2c2ce",
   "metadata": {},
   "outputs": [
    {
     "data": {
      "text/plain": [
       " +IIZIIIIIIZ\n",
       " +XXYXYYXXYX\n",
       " +YYXXXYYXXX"
      ]
     },
     "execution_count": 29,
     "metadata": {},
     "output_type": "execute_result"
    }
   ],
   "source": [
    "stabilizer.ghz_state(10).sample(3)"
   ]
  },
  {
   "cell_type": "markdown",
   "id": "b75a78d8-91eb-40b4-9826-3d945dc48d73",
   "metadata": {},
   "source": [
    "- #### **Density matrix**"
   ]
  },
  {
   "cell_type": "markdown",
   "id": "43fc4198-288b-49b7-bab3-5e5ac4a9d309",
   "metadata": {},
   "source": [
    "@property `StabilizerState.density_matrix` will return density matrix of stabilizer state as `PauliPolynomial`"
   ]
  },
  {
   "cell_type": "code",
   "execution_count": 30,
   "id": "e24b167b-7b55-434f-9024-71eb1aa3c8f9",
   "metadata": {},
   "outputs": [
    {
     "data": {
      "text/plain": [
       "0.12500 III +0.12500 XXX +0.12500 IZZ -0.12500 XYY +0.12500 ZZI -0.12500 YYX +0.12500 ZIZ -0.12500 YXY"
      ]
     },
     "execution_count": 30,
     "metadata": {},
     "output_type": "execute_result"
    }
   ],
   "source": [
    "stabilizer.ghz_state(3).density_matrix"
   ]
  },
  {
   "cell_type": "markdown",
   "id": "742acfa7-f76e-4f8d-a2b3-56770366a38b",
   "metadata": {},
   "source": [
    "`StabilizerState.set_r(r)` will set the $log_2$ rank of stabilizer state. Default value is zero (pure state)"
   ]
  },
  {
   "cell_type": "code",
   "execution_count": 22,
   "id": "8cd1ef95-f670-4263-b8b9-6a19d412620c",
   "metadata": {},
   "outputs": [
    {
     "data": {
      "text/plain": [
       "StabilizerState(\n",
       "   +XXZY\n",
       "   +YIXY\n",
       "   +IYXY\n",
       "   +XXZI)"
      ]
     },
     "execution_count": 22,
     "metadata": {},
     "output_type": "execute_result"
    }
   ],
   "source": [
    "state = stabilizer.random_clifford_map(4).to_state()\n",
    "state"
   ]
  },
  {
   "cell_type": "code",
   "execution_count": 24,
   "id": "47cb4538-0535-45b3-80c2-a13dc017f2c7",
   "metadata": {},
   "outputs": [
    {
     "data": {
      "text/plain": [
       "StabilizerState(\n",
       "   +IYXY\n",
       "   +XXZI)"
      ]
     },
     "execution_count": 24,
     "metadata": {},
     "output_type": "execute_result"
    }
   ],
   "source": [
    "state.set_r(2)"
   ]
  },
  {
   "cell_type": "markdown",
   "id": "a6fc6c20-8bf9-4ea9-a75c-7f74c7ca0742",
   "metadata": {
    "tags": []
   },
   "source": [
    "## A little hack into the design"
   ]
  },
  {
   "cell_type": "markdown",
   "id": "a69b4065-ce56-4f49-b563-ea018178408f",
   "metadata": {},
   "source": [
    "---"
   ]
  },
  {
   "cell_type": "markdown",
   "id": "a78ed623-a666-46ff-ab50-a7f4c54535af",
   "metadata": {},
   "source": [
    "### StabilizerState"
   ]
  },
  {
   "cell_type": "markdown",
   "id": "b3c5d4a3-d51d-4931-b6be-8db17581b898",
   "metadata": {},
   "source": [
    "The basic classes in stabilizer are: 1. StabilizerState and 2. CliffordMap, which are linked through state-map duality"
   ]
  },
  {
   "cell_type": "markdown",
   "id": "c87cf458-b8c0-40b5-8631-8aba25c301f6",
   "metadata": {},
   "source": [
    "#### The Representation of Density Matrix"
   ]
  },
  {
   "cell_type": "markdown",
   "id": "f056e4a7-d825-4474-8b58-1177ab196469",
   "metadata": {},
   "source": [
    "A $[N,r]$ stabilizer state is describe by the **density matrix** of the following form:\n",
    "$$\\rho = \\frac{1}{2^r}\\prod_{k=1}^{N-r}\\frac{1+(-)^{b_k}S_k}{2}.$$\n",
    "* Each stabilizer $S_k$ is a (non-trivial) Pauli operator defined on totally $N$ qubits. The stabilizers commute with each other $[S_k,S_{k'}]=0$. They generate an Abelian subgroup $\\mathcal{S}=\\{\\prod_{k=1}^{N-r} S_k^{a_k}|a_k=0,1\\}$ of the $N$-qubit Pauli group, called the *stabilizer group*.\n",
    "* Each sign indicator $b_k=0,1$ is a binary variable specifying the eigen space of the stabilizer.\n",
    "* There are totally $N-r$ stabilizers for a $[N,r]$ stablizer code (of code rate: $r/N$). The simultaneous eigenspace of all stabilizers constitutes the *code subspace*. \n",
    "* The code subspace is $2^r$ dimensional (which is also the rank of the density matrix $\\rho$). The stabilizer state $\\rho$ is always defined to be the maximally mixed state in the code subspace, such that $\\rho$ is also the **projection operator** that projects any state into the code subspace."
   ]
  },
  {
   "cell_type": "markdown",
   "id": "950643cf-7b80-461a-ba83-34485ccb54d6",
   "metadata": {},
   "source": [
    "#### Binary Representation of Pauli Operators"
   ]
  },
  {
   "cell_type": "markdown",
   "id": "83028ad0-4717-4875-9f4a-2ea672bdc777",
   "metadata": {},
   "source": [
    "Any Pauli operator can be specified by two one-hot (binary) vectors $x$ and $z$ ($x_i,z_i=0,1$ for $i=1,\\cdots,N$):\n",
    "$$\\sigma_{(x,z)}=\\mathrm{i}^{x\\cdot z}\\prod_{i=1}^{N}X_i^{x_i}\\prod_{i=1}^{N}Z_i^{z_i}.$$\n",
    "* The binary vector $x$ (or $z$) specifies the qubits where the $X$ (or $Z$) operator acts ($Y$ operator acts at where $X$ and $Z$ act simultaneously).\n",
    "* **Multiplication** of two Pauli operators\n",
    "$$\\sigma_{(x,z)}\\sigma_{(x',z')}=\\mathrm{i}^{p(x,z;x',z')}\\sigma_{(x+x',z+z')\\%2},$$\n",
    "where the power $p$ of $\\mathrm{i}$ in the prefactor is given by\n",
    "$$p(x,z;x',z')=\\sum_{i=1}^{N}\\left(z_ix'_i-x_iz'_i + 2(z_i+z'_i)\\left\\lfloor\\frac{x_i+x'_i}{2}\\right\\rfloor+2(x_i+x'_i)\\left\\lfloor\\frac{z_i+z'_i}{2}\\right\\rfloor\\right)\\mod 4.$$\n",
    "* **Commutation relation**: two Pauli operator either commute to anticommute.\n",
    "$$\\sigma_{(x,z)}\\sigma_{(x',z')}=(-)^{c(x,z;x',z')}\\sigma_{(x',z')}\\sigma_{(x,z)},$$\n",
    "where the *anticommutation indicator* $c$ has a simpler form\n",
    "$$c(x,z;x',z')=\\frac{p(x,z;x',z')-p(x',z';x,z)}{2}=\\sum_{i=1}^{N}\\left(z_ix'_i-x_iz'_i\\right)\\mod 2.$$\n",
    "\n",
    "The binary vectors $x$ and $z$ can be interweaved into a $2N$-component vector $g=(x_0,z_0,x_1,z_1,\\cdots)$, which forms the binary representation of a Pauli operator $\\sigma_g$."
   ]
  },
  {
   "cell_type": "markdown",
   "id": "c1ba728e-55d7-4bf0-8855-3095fb5ca7dc",
   "metadata": {},
   "source": [
    "#### Stabilizer Tableau"
   ]
  },
  {
   "cell_type": "markdown",
   "id": "e0ebe5df-b7ba-459c-b136-5b193a3c6226",
   "metadata": {},
   "source": [
    "Each stabilizer state is internally stored in the form of a **stabilizer tableau** $S$, together with the **sign indicator** $b$. For a $[N,r]$ stabilizer state, its stabilizer tableau is a $2N\\times 2N$ matrix of the following structure"
   ]
  },
  {
   "cell_type": "markdown",
   "id": "244ca892-1df4-4fbd-8f57-52ff54927c4f",
   "metadata": {},
   "source": [
    "<img src=\"fig_tableau.png\" alt=\"stabilizer tableau.\" style=\"width: 320px;\"/>"
   ]
  },
  {
   "cell_type": "markdown",
   "id": "e1e86dd6-ca09-41df-a3f6-0ca33d9f1f6d",
   "metadata": {},
   "source": [
    "* Each row is a binary representation $(x,z)$ of a Pauli oparator $\\sigma_{(x,z)}$.\n",
    "* Totally $2N$ Pauli operators grouped into $N$ stabilizers and $N$ destabilizers, such that for $i,j=0,\\cdots,2N-1$:\n",
    "$$\\sigma_{g_{i}}\\sigma_{g_{j}}=(-)^{\\delta_{i+N,j}-\\delta_{j+N,i}}\\sigma_{g_{j}}\\sigma_{g_{i}},$$\n",
    "i.e. the $i$th stabilizer only anticommute with the $i$th destabilizer and they commute with all the other operators in the tableau.\n",
    "* The rows $r:N$ correspond to the $N-r$ active stabilizers $S_k$, which stabilize the code subspace (impleted as projection operators). The rows $0:r$ corresponds to the $r$ standby (inactive) stabilizers that does not realy stabilizer the code subspace (but they will act as logical operators in the code subspace).\n",
    "* The rows $N+r:2N$ correspond to the $N-r$ active destabilizers that anticommute with the active stabilizers. The rows $N:N+r$ correspond to the $r$ standby destabilizers taht anticommute with the standby stabilizers.\n",
    "\n",
    "Although the stabilizer state is only specified by the active stabilizers, the other operators in the stabilizer tableau are still important in order to complete the operator basis. Such that the tableau can specify an unitary operator in the Clifford group that generate the state. The algorithm must mantain the algebraic structure betwen all stabilizers and destabilizers while updating the tableau."
   ]
  },
  {
   "cell_type": "markdown",
   "id": "27d20d14-ebd1-412c-8bd3-106a5a7e44f6",
   "metadata": {},
   "source": [
    "Example: stabilizer tableau is given by `StabilizerState.gs`"
   ]
  },
  {
   "cell_type": "code",
   "execution_count": 50,
   "id": "ee7151a4-d1d3-4c3b-b89c-552b0f9d7a13",
   "metadata": {},
   "outputs": [
    {
     "name": "stdout",
     "output_type": "stream",
     "text": [
      "state is: \n",
      " StabilizerState(\n",
      "   -YIYX\n",
      "   +ZXYY\n",
      "   -XIZI\n",
      "   -ZZYZ)\n"
     ]
    }
   ],
   "source": [
    "rho = stabilizer.random_clifford_state(4)\n",
    "print('state is: \\n',rho)"
   ]
  },
  {
   "cell_type": "code",
   "execution_count": 51,
   "id": "e17cab5f-df97-42f4-bb84-a03e3ed48990",
   "metadata": {},
   "outputs": [
    {
     "data": {
      "text/plain": [
       "array([[1, 1, 0, 0, 1, 1, 1, 0],\n",
       "       [0, 1, 1, 0, 1, 1, 1, 1],\n",
       "       [1, 0, 0, 0, 0, 1, 0, 0],\n",
       "       [0, 1, 0, 1, 1, 1, 0, 1],\n",
       "       [1, 1, 1, 0, 1, 1, 0, 1],\n",
       "       [0, 0, 1, 1, 0, 1, 0, 1],\n",
       "       [1, 1, 1, 0, 0, 1, 1, 1],\n",
       "       [0, 1, 0, 0, 1, 1, 1, 1]])"
      ]
     },
     "execution_count": 51,
     "metadata": {},
     "output_type": "execute_result"
    }
   ],
   "source": [
    "rho.gs"
   ]
  },
  {
   "cell_type": "markdown",
   "id": "46b4a8cc-a422-48c5-938d-f50c56d0daa9",
   "metadata": {},
   "source": [
    "The sign of (de)stabilziers can be read through `StabilizerState.ps`, which returns the power of $i$"
   ]
  },
  {
   "cell_type": "code",
   "execution_count": 55,
   "id": "87af3ab5-54aa-4640-8a21-626197681974",
   "metadata": {},
   "outputs": [
    {
     "data": {
      "text/plain": [
       "array([2, 0, 2, 2, 0, 0, 0, 2])"
      ]
     },
     "execution_count": 55,
     "metadata": {},
     "output_type": "execute_result"
    }
   ],
   "source": [
    "rho.ps"
   ]
  },
  {
   "cell_type": "markdown",
   "id": "9c8cdadc-e377-410f-9bed-ff5d1a73f76c",
   "metadata": {},
   "source": [
    "## Link with QuTip Library"
   ]
  },
  {
   "cell_type": "code",
   "execution_count": null,
   "id": "7f99bacf-34d9-4285-9d94-65db82abb7b7",
   "metadata": {},
   "outputs": [],
   "source": []
  },
  {
   "cell_type": "code",
   "execution_count": null,
   "id": "03c7a679-8f19-4095-b44b-4240f5a2aff5",
   "metadata": {},
   "outputs": [],
   "source": []
  },
  {
   "cell_type": "code",
   "execution_count": null,
   "id": "7cc66280-ae65-4925-84cd-32898d52c69f",
   "metadata": {},
   "outputs": [],
   "source": []
  },
  {
   "cell_type": "code",
   "execution_count": null,
   "id": "da6af5ee-0e85-4446-8b4f-08915ad067ff",
   "metadata": {},
   "outputs": [],
   "source": []
  },
  {
   "cell_type": "code",
   "execution_count": null,
   "id": "0cd2edf1-ebfa-4768-beac-f53c8c49b043",
   "metadata": {},
   "outputs": [],
   "source": []
  },
  {
   "cell_type": "code",
   "execution_count": null,
   "id": "949ce634-03d9-4219-8f3c-66f7c16f24c7",
   "metadata": {},
   "outputs": [],
   "source": []
  },
  {
   "cell_type": "code",
   "execution_count": 59,
   "id": "98ac8d90-ddf0-4b89-b9fa-fb4f8dd34796",
   "metadata": {},
   "outputs": [
    {
     "data": {
      "text/plain": [
       "array([[0, 1, 0, 0, 0, 0],\n",
       "       [0, 0, 0, 1, 0, 0],\n",
       "       [0, 0, 0, 0, 0, 1],\n",
       "       [1, 0, 0, 0, 0, 0],\n",
       "       [0, 0, 1, 0, 0, 0],\n",
       "       [0, 0, 0, 0, 1, 0]])"
      ]
     },
     "execution_count": 59,
     "metadata": {},
     "output_type": "execute_result"
    }
   ],
   "source": [
    "stabilizer.identity_map(3).to_state().gs"
   ]
  },
  {
   "cell_type": "code",
   "execution_count": 43,
   "id": "126811ee-1c77-44fd-a19c-7a24216ceb53",
   "metadata": {},
   "outputs": [
    {
     "data": {
      "text/plain": [
       "3"
      ]
     },
     "execution_count": 43,
     "metadata": {},
     "output_type": "execute_result"
    }
   ],
   "source": [
    "stabilizer.maximally_mixed_state(3).r"
   ]
  },
  {
   "cell_type": "code",
   "execution_count": 39,
   "id": "eb60f9a6-5204-4ed1-9a01-9e83b7e9ac5b",
   "metadata": {},
   "outputs": [
    {
     "data": {
      "text/plain": [
       "array([[0, 1, 0, 0, 0, 0],\n",
       "       [0, 0, 0, 1, 0, 0]])"
      ]
     },
     "execution_count": 39,
     "metadata": {},
     "output_type": "execute_result"
    }
   ],
   "source": [
    "paulialg.paulis(paulialg.pauli([3,0,0]),-1*paulialg.pauli([0,3,0])).gs"
   ]
  },
  {
   "cell_type": "code",
   "execution_count": 37,
   "id": "15b6fd1f-fb98-43c7-b4b6-0328ae23b522",
   "metadata": {},
   "outputs": [
    {
     "data": {
      "text/plain": [
       " +ZIII\n",
       " +IZII\n",
       " +IIZI\n",
       " +IIIZ"
      ]
     },
     "execution_count": 37,
     "metadata": {},
     "output_type": "execute_result"
    }
   ],
   "source": [
    "paulialg.paulis(paulialg.pauli({i:'Z'}, 4) for i in range(4))"
   ]
  },
  {
   "cell_type": "markdown",
   "id": "f1865a8d-3ea8-4201-abec-d1592d531983",
   "metadata": {},
   "source": [
    "## Development"
   ]
  },
  {
   "cell_type": "code",
   "execution_count": 1,
   "id": "994859f8-bd93-4582-873f-4a12dc7d89b5",
   "metadata": {},
   "outputs": [],
   "source": [
    "from context import *"
   ]
  },
  {
   "cell_type": "markdown",
   "id": "66e43a22-a65c-41ff-95af-077ea833cca3",
   "metadata": {},
   "source": [
    "#### Test Unit: two pure state overlap"
   ]
  },
  {
   "cell_type": "code",
   "execution_count": 2,
   "id": "79ac529f-ebf2-4ca2-becb-aaabe1c6e5a4",
   "metadata": {
    "tags": []
   },
   "outputs": [],
   "source": [
    "test_res = []\n",
    "N = 6\n",
    "test_num = 100\n",
    "for i in range(test_num):\n",
    "    state = stabilizer.random_clifford_state(N)\n",
    "    state2 = stabilizer.random_clifford_state(N)\n",
    "    trace = np.real(np.trace((state.to_qutip())*(state2.to_qutip())))\n",
    "    # _, _, _, trace_test = utils.stabilizer_projection_trace(np.array(state.gs), np.array(state.ps), \\\n",
    "    #                               np.array(state2.gs[:N,:]), np.array(state2.ps[:N]), state2.r)\n",
    "    trace_test = state.expect(state2)\n",
    "    test_res.append(trace==trace_test)"
   ]
  },
  {
   "cell_type": "code",
   "execution_count": 3,
   "id": "482f4cf0-4cff-4c32-bce3-e6cd31ee104c",
   "metadata": {},
   "outputs": [
    {
     "name": "stdout",
     "output_type": "stream",
     "text": [
      "Stochastic test passed!\n"
     ]
    }
   ],
   "source": [
    "if not(len(test_res)-np.sum(test_res)):\n",
    "    print('Stochastic test passed!')"
   ]
  },
  {
   "cell_type": "markdown",
   "id": "2a32d2b7-956d-4026-998c-424f729413e5",
   "metadata": {},
   "source": [
    "#### Test Unit: pure state A overlap with mixed state B"
   ]
  },
  {
   "cell_type": "code",
   "execution_count": 4,
   "id": "e2a368e5-4792-4845-8274-3e00050a1b99",
   "metadata": {},
   "outputs": [],
   "source": [
    "test_res = []\n",
    "N = 6\n",
    "test_num = 100\n",
    "rank = 2\n",
    "for i in range(test_num):\n",
    "    state = stabilizer.random_clifford_state(N)\n",
    "    state2 = stabilizer.random_clifford_state(N)\n",
    "    state2.set_r(rank)\n",
    "    trace = np.real(np.trace((state.to_qutip())*(state2.to_qutip())))\n",
    "    # _, _, _, trace_test = utils.stabilizer_projection_trace(np.array(state.gs), np.array(state.ps), \\\n",
    "    #                               np.array(state2.gs[rank:N,:]), np.array(state2.ps[rank:N]), state.r)\n",
    "    # trace_test = trace_test/2**rank\n",
    "    trace_test = state.expect(state2)\n",
    "    test_res.append(trace_test==trace)"
   ]
  },
  {
   "cell_type": "code",
   "execution_count": 5,
   "id": "30c3cb1e-8310-494e-ad34-7e8fc9189942",
   "metadata": {},
   "outputs": [
    {
     "name": "stdout",
     "output_type": "stream",
     "text": [
      "Stochastic test passed!\n"
     ]
    }
   ],
   "source": [
    "if not(len(test_res)-np.sum(test_res)):\n",
    "    print('Stochastic test passed!')"
   ]
  },
  {
   "cell_type": "code",
   "execution_count": 6,
   "id": "97ea11d6-fc9d-4e6a-a13e-c1d81db968ec",
   "metadata": {},
   "outputs": [
    {
     "ename": "NotImplementedError",
     "evalue": "Will be added in the next release!",
     "output_type": "error",
     "traceback": [
      "\u001b[0;31m---------------------------------------------------------------------------\u001b[0m",
      "\u001b[0;31mNotImplementedError\u001b[0m                       Traceback (most recent call last)",
      "Input \u001b[0;32mIn [6]\u001b[0m, in \u001b[0;36m<cell line: 4>\u001b[0;34m()\u001b[0m\n\u001b[1;32m      2\u001b[0m state\u001b[38;5;241m.\u001b[39mset_r(\u001b[38;5;241m2\u001b[39m)\n\u001b[1;32m      3\u001b[0m state2 \u001b[38;5;241m=\u001b[39m stabilizer\u001b[38;5;241m.\u001b[39mrandom_clifford_state(N)\n\u001b[0;32m----> 4\u001b[0m \u001b[43mstate\u001b[49m\u001b[38;5;241;43m.\u001b[39;49m\u001b[43mexpect\u001b[49m\u001b[43m(\u001b[49m\u001b[43mstate2\u001b[49m\u001b[43m)\u001b[49m\n",
      "File \u001b[0;32m~/Dropbox/Projects/Harvard/CliffordSimulator/doc/../src/stabilizer.py:155\u001b[0m, in \u001b[0;36mStabilizerState.expect\u001b[0;34m(self, obs, z)\u001b[0m\n\u001b[1;32m    153\u001b[0m \u001b[38;5;28;01melif\u001b[39;00m \u001b[38;5;28misinstance\u001b[39m(obs, StabilizerState):\n\u001b[1;32m    154\u001b[0m     \u001b[38;5;28;01mif\u001b[39;00m \u001b[38;5;28mself\u001b[39m\u001b[38;5;241m.\u001b[39mr\u001b[38;5;241m!=\u001b[39m\u001b[38;5;241m0\u001b[39m:\n\u001b[0;32m--> 155\u001b[0m         \u001b[38;5;28;01mraise\u001b[39;00m \u001b[38;5;167;01mNotImplementedError\u001b[39;00m(\u001b[38;5;124m\"\u001b[39m\u001b[38;5;124mWill be added in the next release!\u001b[39m\u001b[38;5;124m\"\u001b[39m)\n\u001b[1;32m    156\u001b[0m     \u001b[38;5;28;01melse\u001b[39;00m:\n\u001b[1;32m    157\u001b[0m         _, _, _, trace \u001b[38;5;241m=\u001b[39m stabilizer_projection_trace(numpy\u001b[38;5;241m.\u001b[39marray(\u001b[38;5;28mself\u001b[39m\u001b[38;5;241m.\u001b[39mgs), numpy\u001b[38;5;241m.\u001b[39marray(\u001b[38;5;28mself\u001b[39m\u001b[38;5;241m.\u001b[39mps), \\\n\u001b[1;32m    158\u001b[0m                           numpy\u001b[38;5;241m.\u001b[39marray(obs\u001b[38;5;241m.\u001b[39mgs[obs\u001b[38;5;241m.\u001b[39mr:obs\u001b[38;5;241m.\u001b[39mN,:]), numpy\u001b[38;5;241m.\u001b[39marray(obs\u001b[38;5;241m.\u001b[39mps[obs\u001b[38;5;241m.\u001b[39mr:obs\u001b[38;5;241m.\u001b[39mN]), \u001b[38;5;241m0\u001b[39m)\n",
      "\u001b[0;31mNotImplementedError\u001b[0m: Will be added in the next release!"
     ]
    }
   ],
   "source": [
    "state = stabilizer.random_clifford_state(N)\n",
    "state.set_r(2)\n",
    "state2 = stabilizer.random_clifford_state(N)\n",
    "state.expect(state2)"
   ]
  },
  {
   "cell_type": "code",
   "execution_count": null,
   "id": "8d602438-3382-4eb9-bf95-3cf9e198c9c7",
   "metadata": {},
   "outputs": [],
   "source": []
  },
  {
   "cell_type": "code",
   "execution_count": null,
   "id": "b99661d3-13bc-42ea-b9c7-9f2300e4d0bc",
   "metadata": {},
   "outputs": [],
   "source": []
  },
  {
   "cell_type": "code",
   "execution_count": null,
   "id": "37dd4a4c-c706-46b1-8de5-b92c2490561b",
   "metadata": {},
   "outputs": [],
   "source": []
  },
  {
   "cell_type": "code",
   "execution_count": 32,
   "id": "e573e0c8-560f-41df-b1bc-72f8cef2c343",
   "metadata": {},
   "outputs": [
    {
     "data": {
      "text/plain": [
       "src.stabilizer.CliffordMap"
      ]
     },
     "execution_count": 32,
     "metadata": {},
     "output_type": "execute_result"
    }
   ],
   "source": [
    "type(stabilizer.ghz_state(3).to_map())"
   ]
  },
  {
   "cell_type": "code",
   "execution_count": 59,
   "id": "6692a47c-9b5e-419e-8256-b13d2c8db273",
   "metadata": {},
   "outputs": [],
   "source": []
  },
  {
   "cell_type": "code",
   "execution_count": 14,
   "id": "e2886f51-c43b-4f82-950b-28b6d74a9b1f",
   "metadata": {},
   "outputs": [],
   "source": [
    "state = stabilizer.random_clifford_state(2)"
   ]
  },
  {
   "cell_type": "code",
   "execution_count": 15,
   "id": "18943f72-0725-4d2d-8a45-26c49e5078b5",
   "metadata": {},
   "outputs": [
    {
     "data": {
      "text/plain": [
       "StabilizerState(\n",
       "   +YI\n",
       "   +YZ)"
      ]
     },
     "execution_count": 15,
     "metadata": {},
     "output_type": "execute_result"
    }
   ],
   "source": [
    "state"
   ]
  },
  {
   "cell_type": "code",
   "execution_count": 16,
   "id": "b9d85a5e-fdbb-4a74-bcb8-9606ae4df952",
   "metadata": {},
   "outputs": [
    {
     "data": {
      "text/plain": [
       "0.25000 II +0.25000 YZ +0.25000 YI +0.25000 IZ"
      ]
     },
     "execution_count": 16,
     "metadata": {},
     "output_type": "execute_result"
    }
   ],
   "source": [
    "state.density_matrix"
   ]
  },
  {
   "cell_type": "code",
   "execution_count": 34,
   "id": "885de012-4572-4426-85a0-9a3ae914ecfb",
   "metadata": {},
   "outputs": [],
   "source": [
    "state2=state.copy()"
   ]
  },
  {
   "cell_type": "code",
   "execution_count": 35,
   "id": "74b2b321-1252-4cbe-ada9-8a040484d242",
   "metadata": {},
   "outputs": [
    {
     "data": {
      "text/plain": [
       "(array([1, 0]), -1.0)"
      ]
     },
     "execution_count": 35,
     "metadata": {},
     "output_type": "execute_result"
    }
   ],
   "source": [
    "state2.measure(paulialg.paulis('ZI','IZ'))"
   ]
  },
  {
   "cell_type": "code",
   "execution_count": null,
   "id": "6cc4cbc8-ac1e-495f-b80e-0a996dfcb93b",
   "metadata": {},
   "outputs": [],
   "source": []
  },
  {
   "cell_type": "code",
   "execution_count": null,
   "id": "dfd7c98f-26e0-4a69-8bd6-87b9f5704527",
   "metadata": {},
   "outputs": [],
   "source": []
  },
  {
   "cell_type": "code",
   "execution_count": 17,
   "id": "8c3dfbc0-ccaf-482f-9e46-07ef607df938",
   "metadata": {},
   "outputs": [
    {
     "data": {
      "text/latex": [
       "Quantum object: dims = [[2, 2], [2, 2]], shape = (4, 4), type = oper, isherm = True\\begin{equation*}\\left(\\begin{array}{*{11}c}0.500 & 0.0 & -0.500j & 0.0\\\\0.0 & 0.0 & 0.0 & 0.0\\\\0.500j & 0.0 & 0.500 & 0.0\\\\0.0 & 0.0 & 0.0 & 0.0\\\\\\end{array}\\right)\\end{equation*}"
      ],
      "text/plain": [
       "Quantum object: dims = [[2, 2], [2, 2]], shape = (4, 4), type = oper, isherm = True\n",
       "Qobj data =\n",
       "[[0.5+0.j  0. +0.j  0. -0.5j 0. +0.j ]\n",
       " [0. +0.j  0. +0.j  0. +0.j  0. +0.j ]\n",
       " [0. +0.5j 0. +0.j  0.5+0.j  0. +0.j ]\n",
       " [0. +0.j  0. +0.j  0. +0.j  0. +0.j ]]"
      ]
     },
     "execution_count": 17,
     "metadata": {},
     "output_type": "execute_result"
    }
   ],
   "source": [
    "state.to_qutip()"
   ]
  },
  {
   "cell_type": "code",
   "execution_count": 19,
   "id": "165a5c5c-6b4f-4c7d-9946-c7087f7f4a39",
   "metadata": {},
   "outputs": [
    {
     "name": "stderr",
     "output_type": "stream",
     "text": [
      "/var/folders/yw/q53qkg_s4w7gt_npx01mkfkh0000gn/T/ipykernel_7748/870472573.py:1: DeprecationWarning: Importing functions/classes of the qip submodule directly from the namespace qutip is deprecated. Please import them from the submodule instead, e.g.\n",
      "from qutip.qip.operations import cnot\n",
      "from qutip.qip.circuit import QubitCircuit\n",
      "\n",
      "  qt.hadamard_transform(1)\n"
     ]
    },
    {
     "data": {
      "text/latex": [
       "Quantum object: dims = [[2], [2]], shape = (2, 2), type = oper, isherm = True\\begin{equation*}\\left(\\begin{array}{*{11}c}0.707 & 0.707\\\\0.707 & -0.707\\\\\\end{array}\\right)\\end{equation*}"
      ],
      "text/plain": [
       "Quantum object: dims = [[2], [2]], shape = (2, 2), type = oper, isherm = True\n",
       "Qobj data =\n",
       "[[ 0.70710678  0.70710678]\n",
       " [ 0.70710678 -0.70710678]]"
      ]
     },
     "execution_count": 19,
     "metadata": {},
     "output_type": "execute_result"
    }
   ],
   "source": [
    "qt.hadamard_transform(1)"
   ]
  },
  {
   "cell_type": "code",
   "execution_count": 20,
   "id": "34b2b4d3-cfeb-4fb2-a99b-0e27bfa7b4c9",
   "metadata": {},
   "outputs": [
    {
     "name": "stderr",
     "output_type": "stream",
     "text": [
      "/var/folders/yw/q53qkg_s4w7gt_npx01mkfkh0000gn/T/ipykernel_7748/223668697.py:1: DeprecationWarning: Importing functions/classes of the qip submodule directly from the namespace qutip is deprecated. Please import them from the submodule instead, e.g.\n",
      "from qutip.qip.operations import cnot\n",
      "from qutip.qip.circuit import QubitCircuit\n",
      "\n",
      "  qt.hadamard_transform(1)*qt.sigmay()\n"
     ]
    },
    {
     "data": {
      "text/latex": [
       "Quantum object: dims = [[2], [2]], shape = (2, 2), type = oper, isherm = False\\begin{equation*}\\left(\\begin{array}{*{11}c}0.707j & -0.707j\\\\-0.707j & -0.707j\\\\\\end{array}\\right)\\end{equation*}"
      ],
      "text/plain": [
       "Quantum object: dims = [[2], [2]], shape = (2, 2), type = oper, isherm = False\n",
       "Qobj data =\n",
       "[[0.+0.70710678j 0.-0.70710678j]\n",
       " [0.-0.70710678j 0.-0.70710678j]]"
      ]
     },
     "execution_count": 20,
     "metadata": {},
     "output_type": "execute_result"
    }
   ],
   "source": [
    "qt.hadamard_transform(1)*qt.sigmay()"
   ]
  },
  {
   "cell_type": "code",
   "execution_count": 21,
   "id": "62208962-1b8f-41eb-a6fc-0836e32f74d4",
   "metadata": {},
   "outputs": [
    {
     "name": "stderr",
     "output_type": "stream",
     "text": [
      "/var/folders/yw/q53qkg_s4w7gt_npx01mkfkh0000gn/T/ipykernel_7748/3014846647.py:1: DeprecationWarning: Importing functions/classes of the qip submodule directly from the namespace qutip is deprecated. Please import them from the submodule instead, e.g.\n",
      "from qutip.qip.operations import cnot\n",
      "from qutip.qip.circuit import QubitCircuit\n",
      "\n",
      "  qt.sigmaz()*qt.hadamard_transform(1)\n"
     ]
    },
    {
     "data": {
      "text/latex": [
       "Quantum object: dims = [[2], [2]], shape = (2, 2), type = oper, isherm = False\\begin{equation*}\\left(\\begin{array}{*{11}c}0.707 & 0.707\\\\-0.707 & 0.707\\\\\\end{array}\\right)\\end{equation*}"
      ],
      "text/plain": [
       "Quantum object: dims = [[2], [2]], shape = (2, 2), type = oper, isherm = False\n",
       "Qobj data =\n",
       "[[ 0.70710678  0.70710678]\n",
       " [-0.70710678  0.70710678]]"
      ]
     },
     "execution_count": 21,
     "metadata": {},
     "output_type": "execute_result"
    }
   ],
   "source": [
    "qt.sigmaz()*qt.hadamard_transform(1)"
   ]
  },
  {
   "cell_type": "code",
   "execution_count": 22,
   "id": "7cc6ee7d-b06e-4244-8db0-9909cfcc616c",
   "metadata": {},
   "outputs": [
    {
     "name": "stderr",
     "output_type": "stream",
     "text": [
      "/var/folders/yw/q53qkg_s4w7gt_npx01mkfkh0000gn/T/ipykernel_7748/2463032848.py:1: DeprecationWarning: Importing functions/classes of the qip submodule directly from the namespace qutip is deprecated. Please import them from the submodule instead, e.g.\n",
      "from qutip.qip.operations import cnot\n",
      "from qutip.qip.circuit import QubitCircuit\n",
      "\n",
      "  qt.hadamard_transform(1)*qt.sigmax()\n"
     ]
    },
    {
     "data": {
      "text/latex": [
       "Quantum object: dims = [[2], [2]], shape = (2, 2), type = oper, isherm = False\\begin{equation*}\\left(\\begin{array}{*{11}c}0.707 & 0.707\\\\-0.707 & 0.707\\\\\\end{array}\\right)\\end{equation*}"
      ],
      "text/plain": [
       "Quantum object: dims = [[2], [2]], shape = (2, 2), type = oper, isherm = False\n",
       "Qobj data =\n",
       "[[ 0.70710678  0.70710678]\n",
       " [-0.70710678  0.70710678]]"
      ]
     },
     "execution_count": 22,
     "metadata": {},
     "output_type": "execute_result"
    }
   ],
   "source": [
    "qt.hadamard_transform(1)*qt.sigmax()"
   ]
  },
  {
   "cell_type": "code",
   "execution_count": 23,
   "id": "da899c64-e027-4296-8cd3-58739fa8e6c5",
   "metadata": {},
   "outputs": [
    {
     "data": {
      "text/latex": [
       "Quantum object: dims = [[2, 2], [2, 2]], shape = (4, 4), type = oper, isherm = True\\begin{equation*}\\left(\\begin{array}{*{11}c}1.0 & 0.0 & 0.0 & 0.0\\\\0.0 & -1.0 & 0.0 & 0.0\\\\0.0 & 0.0 & -1.0 & 0.0\\\\0.0 & 0.0 & 0.0 & 1.0\\\\\\end{array}\\right)\\end{equation*}"
      ],
      "text/plain": [
       "Quantum object: dims = [[2, 2], [2, 2]], shape = (4, 4), type = oper, isherm = True\n",
       "Qobj data =\n",
       "[[ 1.  0.  0.  0.]\n",
       " [ 0. -1.  0.  0.]\n",
       " [ 0.  0. -1.  0.]\n",
       " [ 0.  0.  0.  1.]]"
      ]
     },
     "execution_count": 23,
     "metadata": {},
     "output_type": "execute_result"
    }
   ],
   "source": [
    "qt.tensor([qt.sigmaz(),qt.sigmaz()])"
   ]
  },
  {
   "cell_type": "code",
   "execution_count": null,
   "id": "ee311de6-bf82-4158-80fc-28218db430a1",
   "metadata": {},
   "outputs": [],
   "source": []
  }
 ],
 "metadata": {
  "kernelspec": {
   "display_name": "Python 3 (ipykernel)",
   "language": "python",
   "name": "python3"
  },
  "language_info": {
   "codemirror_mode": {
    "name": "ipython",
    "version": 3
   },
   "file_extension": ".py",
   "mimetype": "text/x-python",
   "name": "python",
   "nbconvert_exporter": "python",
   "pygments_lexer": "ipython3",
   "version": "3.9.12"
  }
 },
 "nbformat": 4,
 "nbformat_minor": 5
}

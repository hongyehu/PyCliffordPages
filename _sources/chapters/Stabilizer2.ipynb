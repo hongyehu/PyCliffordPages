{
 "cells": [
  {
   "cell_type": "code",
   "execution_count": 1,
   "id": "36bce169-ccb1-4d37-a873-d02dc70b9af8",
   "metadata": {},
   "outputs": [],
   "source": [
    "import sys\n",
    "sys.path.insert(0, '..')\n",
    "import numpy as np\n",
    "import qutip as qt\n",
    "import src\n",
    "from src import (utils, paulialg, stabilizer, circuit)"
   ]
  },
  {
   "cell_type": "markdown",
   "id": "16b1d001-a154-4d54-949c-6ead15aaf995",
   "metadata": {},
   "source": [
    "# Methods for Clifford maps"
   ]
  },
  {
   "cell_type": "markdown",
   "id": "d189d082-b63f-47ed-bb85-ab7877bce3f1",
   "metadata": {},
   "source": [
    "## Embedding small Clifford map into larger map"
   ]
  },
  {
   "cell_type": "markdown",
   "id": "84513858-c9ae-424b-8a48-4dbeb5b55992",
   "metadata": {},
   "source": [
    "`.embed(small_map, mask)` provides the method to embed a smaller Clifford map on a subset of qubits to the current Clifford map. This is a **in-place** operation. The Clifford map object that provide this method will get modified under the embedding.\n",
    "\n",
    "**Parameters:**\n",
    "* `small_map` is a `CliffordMap` object supported on a subset of qubits.\n",
    "* `mask` is a boolean array specifying the subset of qubits."
   ]
  },
  {
   "cell_type": "code",
   "execution_count": 3,
   "id": "356c2963-6179-454c-84c1-2e970020253b",
   "metadata": {},
   "outputs": [
    {
     "data": {
      "text/plain": [
       "CliffordMap(\n",
       "  X0-> +XIIIII\n",
       "  Z0-> +ZIIIII\n",
       "  X1-> +IXIIII\n",
       "  Z1-> +IZIIII\n",
       "  X2-> +IIXIII\n",
       "  Z2-> +IIZIII\n",
       "  X3-> +IIIXII\n",
       "  Z3-> +IIIZII\n",
       "  X4-> +IIIIXI\n",
       "  Z4-> +IIIIZI\n",
       "  X5-> +IIIIIX\n",
       "  Z5-> +IIIIIZ)"
      ]
     },
     "execution_count": 3,
     "metadata": {},
     "output_type": "execute_result"
    }
   ],
   "source": [
    "cmap = stabilizer.identity_map(6)\n",
    "cmap"
   ]
  },
  {
   "cell_type": "code",
   "execution_count": 5,
   "id": "f8161467-3c87-46a7-8943-7b46c92639df",
   "metadata": {},
   "outputs": [
    {
     "data": {
      "text/plain": [
       "CliffordMap(\n",
       "  X0-> -ZIIXXI\n",
       "  Z0-> +IIIIZI\n",
       "  X1-> +IXIIII\n",
       "  Z1-> +IZIIII\n",
       "  X2-> +IIXIII\n",
       "  Z2-> +IIZIII\n",
       "  X3-> +ZIIYZI\n",
       "  Z3-> +IIIZZI\n",
       "  X4-> +YIIZII\n",
       "  Z4-> +XIIZII\n",
       "  X5-> +IIIIIX\n",
       "  Z5-> +IIIIIZ)"
      ]
     },
     "execution_count": 5,
     "metadata": {},
     "output_type": "execute_result"
    }
   ],
   "source": [
    "cmap.embed(stabilizer.random_clifford_map(3), np.array([True,False,False,True,True,False]))"
   ]
  },
  {
   "cell_type": "markdown",
   "id": "6248de48-4769-4714-8193-f72a1eac8a14",
   "metadata": {},
   "source": [
    "## Map Composition"
   ]
  },
  {
   "cell_type": "markdown",
   "id": "2dd1bcbc-e208-4922-bf0f-61e165aaf773",
   "metadata": {},
   "source": [
    "`.compose(other)` returns the composition of the current Clifford map with another Clifford map. This will return a new Clifford map without modifying either of the input maps. The Clifford map object which initiates this method will be the preceeding map in the composition. \n",
    "\n",
    "**Parameters:**\n",
    "* `other` - another `CliffordMap`."
   ]
  },
  {
   "cell_type": "code",
   "execution_count": 7,
   "id": "285db5aa-e852-4c11-8537-2c3369d7c959",
   "metadata": {},
   "outputs": [
    {
     "data": {
      "text/plain": [
       "CliffordMap(\n",
       "  X0-> +XIIYYX\n",
       "  Z0-> -YYZZZI\n",
       "  X1-> +YZZXZY\n",
       "  Z1-> +YXYXXY\n",
       "  X2-> +IIXZYZ\n",
       "  Z2-> -ZYZZXY\n",
       "  X3-> +ZXIYXI\n",
       "  Z3-> +YXXYXI\n",
       "  X4-> +YIZIZI\n",
       "  Z4-> -ZXYZYX\n",
       "  X5-> -IZIYZZ\n",
       "  Z5-> +ZZZYYZ)"
      ]
     },
     "execution_count": 7,
     "metadata": {},
     "output_type": "execute_result"
    }
   ],
   "source": [
    "cmap.compose(stabilizer.random_clifford_map(6))"
   ]
  },
  {
   "cell_type": "markdown",
   "id": "446f1e2c-b369-4539-ae6f-397c22c5fac0",
   "metadata": {},
   "source": [
    "## Map Inversion"
   ]
  },
  {
   "cell_type": "markdown",
   "id": "0b1218ab-89bd-4986-83da-e7636eac5856",
   "metadata": {},
   "source": [
    "`.inverse()` returns the inverse of the current Clifford map. This will return a new Clifford map withoutt modifying the original map. The inverse map is such that its composition with the original map must be identity"
   ]
  },
  {
   "cell_type": "code",
   "execution_count": 8,
   "id": "25e8f651-7b23-4e92-b601-1615e0f07578",
   "metadata": {},
   "outputs": [
    {
     "data": {
      "text/plain": [
       "CliffordMap(\n",
       "  X0-> -Z\n",
       "  Z0-> +X)"
      ]
     },
     "execution_count": 8,
     "metadata": {},
     "output_type": "execute_result"
    }
   ],
   "source": [
    "cmap = stabilizer.clifford_rotation_map('Y')\n",
    "cmap"
   ]
  },
  {
   "cell_type": "code",
   "execution_count": 9,
   "id": "70188b57-94a1-4b25-b8f4-36e4a876d458",
   "metadata": {},
   "outputs": [
    {
     "data": {
      "text/plain": [
       "CliffordMap(\n",
       "  X0-> +Z\n",
       "  Z0-> -X)"
      ]
     },
     "execution_count": 9,
     "metadata": {},
     "output_type": "execute_result"
    }
   ],
   "source": [
    "cmap.inverse()"
   ]
  },
  {
   "cell_type": "code",
   "execution_count": null,
   "id": "4c6db722-fdd7-4756-be62-d016c3508a9e",
   "metadata": {},
   "outputs": [],
   "source": []
  }
 ],
 "metadata": {
  "kernelspec": {
   "display_name": "Python 3 (ipykernel)",
   "language": "python",
   "name": "python3"
  },
  "language_info": {
   "codemirror_mode": {
    "name": "ipython",
    "version": 3
   },
   "file_extension": ".py",
   "mimetype": "text/x-python",
   "name": "python",
   "nbconvert_exporter": "python",
   "pygments_lexer": "ipython3",
   "version": "3.9.12"
  }
 },
 "nbformat": 4,
 "nbformat_minor": 5
}

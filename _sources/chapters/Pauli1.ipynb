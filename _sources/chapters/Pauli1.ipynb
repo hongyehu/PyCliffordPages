{
 "cells": [
  {
   "cell_type": "code",
   "execution_count": 2,
   "id": "34ebddb7-43d7-4379-8d67-40f097c40c9f",
   "metadata": {},
   "outputs": [],
   "source": [
    "import sys\n",
    "sys.path.insert(0, '..')\n",
    "import numpy as np\n",
    "import qutip as qt\n",
    "import src\n",
    "from src import (utils, paulialg, stabilizer, circuit)"
   ]
  },
  {
   "cell_type": "markdown",
   "id": "19d25cc6-95a6-4659-8921-5439b6f197db",
   "metadata": {},
   "source": [
    "In this section, we will go through the basic construction of Pauli operators"
   ]
  },
  {
   "cell_type": "markdown",
   "id": "6b576101-f138-4a05-831f-6c7e5b92753c",
   "metadata": {},
   "source": [
    "# Pauli operator"
   ]
  },
  {
   "cell_type": "markdown",
   "id": "6f7869f8-69b7-45c9-a52a-1fe3ddf7088a",
   "metadata": {},
   "source": [
    "## Construct Pauli operator with its expression"
   ]
  },
  {
   "cell_type": "markdown",
   "id": "370cdbf6-2faf-4f26-967e-820ab3ad446f",
   "metadata": {},
   "source": [
    "A **Pauli operator** can be constructed using the `pauli()` constructor."
   ]
  },
  {
   "cell_type": "code",
   "execution_count": 27,
   "id": "82f78294-78e2-41c7-bbc8-6baae15ab48b",
   "metadata": {},
   "outputs": [
    {
     "data": {
      "text/plain": [
       " +XXIYZ"
      ]
     },
     "execution_count": 27,
     "metadata": {},
     "output_type": "execute_result"
    }
   ],
   "source": [
    "paulialg.pauli('XXIYZ')"
   ]
  },
  {
   "cell_type": "markdown",
   "id": "ac48eeb6-dd28-455b-9955-4712941edf1e",
   "metadata": {},
   "source": [
    "By default the operator has a $+1$ phase factor in the front. To specify other phase factors($\\pm1$ or $\\pm \\mathrm{i}$), use `'+'`, `'-'`, `'i'` indicators before the Pauli string."
   ]
  },
  {
   "cell_type": "code",
   "execution_count": 5,
   "id": "e499c066-bc6a-416f-b76c-e9bf119ee6f8",
   "metadata": {},
   "outputs": [
    {
     "data": {
      "text/plain": [
       "( -X, +iX, -iX)"
      ]
     },
     "execution_count": 5,
     "metadata": {},
     "output_type": "execute_result"
    }
   ],
   "source": [
    "paulialg.pauli('-X'), paulialg.pauli('iX'), paulialg.pauli('-iX')"
   ]
  },
  {
   "cell_type": "markdown",
   "id": "7fcb23bd-8f0a-4d9c-b964-37bcda23fb58",
   "metadata": {},
   "source": [
    "It is also possible to assign the phase factor by scalar mutiplication."
   ]
  },
  {
   "cell_type": "code",
   "execution_count": 6,
   "id": "f91869c8-a68f-44d8-8897-23acea06e015",
   "metadata": {},
   "outputs": [
    {
     "data": {
      "text/plain": [
       "( -X, +iX)"
      ]
     },
     "execution_count": 6,
     "metadata": {},
     "output_type": "execute_result"
    }
   ],
   "source": [
    "-paulialg.pauli('X'), 1j*paulialg.pauli('X')"
   ]
  },
  {
   "cell_type": "markdown",
   "id": "f37fffa8-9aaf-4076-b078-eeb415c72804",
   "metadata": {},
   "source": [
    "## Other methods to construct a Pauli operator"
   ]
  },
  {
   "cell_type": "markdown",
   "id": "d2408005-1ab1-48e0-9627-da41b4203de5",
   "metadata": {},
   "source": [
    "You can construct a Pauli operator from a tuple / list / array of indices (`0` = `I`, `1` = `X`, `2` = `Y`, `3` = `Z`)"
   ]
  },
  {
   "cell_type": "code",
   "execution_count": 8,
   "id": "9214070d-da25-44eb-a18a-0af187838e3b",
   "metadata": {},
   "outputs": [
    {
     "data": {
      "text/plain": [
       "( +IXYZ,  +IXYZ,  +IXYZ)"
      ]
     },
     "execution_count": 8,
     "metadata": {},
     "output_type": "execute_result"
    }
   ],
   "source": [
    "paulialg.pauli((0,1,2,3)), paulialg.pauli([0,1,2,3]), paulialg.pauli(np.array([0,1,2,3]))"
   ]
  },
  {
   "cell_type": "markdown",
   "id": "ba822595-e135-4a28-8331-d4837bbf738a",
   "metadata": {},
   "source": [
    "Or you can construct a Pauli operator from a dictionary that maps positions to indices. (*Note*: using this method must also provide the total number of qubits as the second argument, because the qubit number can not be infered from the dictionary alone.)"
   ]
  },
  {
   "cell_type": "code",
   "execution_count": 9,
   "id": "b8934d10-11e6-4f10-a421-40b64fa6e4e1",
   "metadata": {},
   "outputs": [
    {
     "data": {
      "text/plain": [
       "( +IXIIYZ,  +IXIIYZ)"
      ]
     },
     "execution_count": 9,
     "metadata": {},
     "output_type": "execute_result"
    }
   ],
   "source": [
    "paulialg.pauli({1:'X', 4:'Y', 5:'Z'}, 6), paulialg.pauli({1:1, 4:2, 5:3}, 6)"
   ]
  },
  {
   "cell_type": "markdown",
   "id": "0d7fb978-1cbe-4390-b590-01fc01e54111",
   "metadata": {},
   "source": [
    "## Size information"
   ]
  },
  {
   "cell_type": "markdown",
   "id": "1bcccac8-ae8e-4ae6-805b-be8acd8b3834",
   "metadata": {},
   "source": [
    "For Pauli operator, `.N` returns the number of qubits (size of system) that the operator acts on."
   ]
  },
  {
   "cell_type": "code",
   "execution_count": 14,
   "id": "882cc2c6-a2a7-4738-bf46-be935ca6181a",
   "metadata": {},
   "outputs": [
    {
     "data": {
      "text/plain": [
       "6"
      ]
     },
     "execution_count": 14,
     "metadata": {},
     "output_type": "execute_result"
    }
   ],
   "source": [
    "paulialg.pauli('IXYIXI').N"
   ]
  },
  {
   "cell_type": "markdown",
   "id": "50a714bd-54aa-4f85-a07f-44b3b0611c0a",
   "metadata": {},
   "source": [
    "# Pauli operator list"
   ]
  },
  {
   "cell_type": "markdown",
   "id": "fda3ae08-627b-4dd0-a707-accf3657528a",
   "metadata": {},
   "source": [
    "A **list of Pauli operators** can be constructed by the `paulis()` constructor."
   ]
  },
  {
   "cell_type": "code",
   "execution_count": 10,
   "id": "f1ac29b1-2cc8-479d-9de8-bec768368dd8",
   "metadata": {},
   "outputs": [
    {
     "data": {
      "text/plain": [
       "+iX\n",
       "-iY\n",
       " +Z"
      ]
     },
     "execution_count": 10,
     "metadata": {},
     "output_type": "execute_result"
    }
   ],
   "source": [
    "paulialg.paulis('iX', '-iY', 'Z')"
   ]
  },
  {
   "cell_type": "markdown",
   "id": "2aa7a864-2728-4a7b-bffb-055727ff89b6",
   "metadata": {},
   "source": [
    "It can also take a generator and iterate through its elements to construct a list of Pauli operators."
   ]
  },
  {
   "cell_type": "code",
   "execution_count": 11,
   "id": "cb358dab-9b95-42cd-92b5-148da593cf9c",
   "metadata": {},
   "outputs": [
    {
     "data": {
      "text/plain": [
       " +ZIII\n",
       " +IZII\n",
       " +IIZI\n",
       " +IIIZ"
      ]
     },
     "execution_count": 11,
     "metadata": {},
     "output_type": "execute_result"
    }
   ],
   "source": [
    "paulialg.paulis(paulialg.pauli({i:'Z'}, 4) for i in range(4))"
   ]
  },
  {
   "cell_type": "markdown",
   "id": "aa0f89af-841f-4b62-9ddc-f86fc9dde822",
   "metadata": {},
   "source": [
    "It can also take a iterable (tuple / list / set) and convert it to a list of Pauli operators."
   ]
  },
  {
   "cell_type": "code",
   "execution_count": 12,
   "id": "2f1d841a-8093-4633-ba2f-79e157543a62",
   "metadata": {},
   "outputs": [
    {
     "data": {
      "text/plain": [
       "+iX\n",
       "-iY\n",
       " +Z"
      ]
     },
     "execution_count": 12,
     "metadata": {},
     "output_type": "execute_result"
    }
   ],
   "source": [
    "lists = ['iX', '-iY', 'Z']\n",
    "paulialg.paulis(lists)"
   ]
  },
  {
   "cell_type": "markdown",
   "id": "1cd18335-e843-4979-a393-dcc582495a95",
   "metadata": {},
   "source": [
    "## Size information"
   ]
  },
  {
   "cell_type": "markdown",
   "id": "319846ac-77a1-44b8-b32f-e372a8f914bf",
   "metadata": {},
   "source": [
    "For Pauli operator list, `.L` returns the number of operators in the list and `.N` returns of the number fo qubits in the system."
   ]
  },
  {
   "cell_type": "code",
   "execution_count": 15,
   "id": "b886c7d2-7fd9-45d1-b7e1-79baceb40c3c",
   "metadata": {},
   "outputs": [
    {
     "data": {
      "text/plain": [
       "(4, 2)"
      ]
     },
     "execution_count": 15,
     "metadata": {},
     "output_type": "execute_result"
    }
   ],
   "source": [
    "plst = paulialg.paulis('II','XX','YY','ZZ')\n",
    "plst.L, plst.N"
   ]
  },
  {
   "cell_type": "markdown",
   "id": "e205b938-6449-48f2-bb75-95aa10597dd5",
   "metadata": {},
   "source": [
    "We can also return the number of operators in the list by naive python `len()` function"
   ]
  },
  {
   "cell_type": "code",
   "execution_count": 16,
   "id": "c6f9238a-84ab-4ca1-9436-b22573498be2",
   "metadata": {},
   "outputs": [
    {
     "data": {
      "text/plain": [
       "4"
      ]
     },
     "execution_count": 16,
     "metadata": {},
     "output_type": "execute_result"
    }
   ],
   "source": [
    "len(plst)"
   ]
  },
  {
   "cell_type": "markdown",
   "id": "d70ecd09-1281-47e7-be63-f0a260d4e1ce",
   "metadata": {},
   "source": [
    "## Selection and Slicing of Pauli List"
   ]
  },
  {
   "cell_type": "markdown",
   "id": "a7cecdd0-b4f3-4b15-943a-c1f25f2715b7",
   "metadata": {},
   "source": [
    "Select a single element in the Pauli operator list."
   ]
  },
  {
   "cell_type": "code",
   "execution_count": 17,
   "id": "caae444a-ce86-49b4-b7cc-f50ecc8200b9",
   "metadata": {},
   "outputs": [
    {
     "data": {
      "text/plain": [
       " +XX"
      ]
     },
     "execution_count": 17,
     "metadata": {},
     "output_type": "execute_result"
    }
   ],
   "source": [
    "plst[1]"
   ]
  },
  {
   "cell_type": "markdown",
   "id": "84790134-4310-450f-be2b-b21193e7e8ad",
   "metadata": {},
   "source": [
    "Select a range of operators in the Pauli operator list: the slicing is the same as python array"
   ]
  },
  {
   "cell_type": "code",
   "execution_count": 18,
   "id": "56cc9aa9-4ae1-484e-b66a-cbd3a60ad1cd",
   "metadata": {},
   "outputs": [
    {
     "data": {
      "text/plain": [
       " +II\n",
       " +XX\n",
       " +YY"
      ]
     },
     "execution_count": 18,
     "metadata": {},
     "output_type": "execute_result"
    }
   ],
   "source": [
    "plst[0:3]"
   ]
  },
  {
   "cell_type": "code",
   "execution_count": 19,
   "id": "1786e2cd-cec1-45d2-89ba-b1cabf35678e",
   "metadata": {},
   "outputs": [
    {
     "data": {
      "text/plain": [
       " +II\n",
       " +YY"
      ]
     },
     "execution_count": 19,
     "metadata": {},
     "output_type": "execute_result"
    }
   ],
   "source": [
    "plst[::2]"
   ]
  },
  {
   "cell_type": "markdown",
   "id": "9fbd2852-0ef0-4ea4-b987-517859556468",
   "metadata": {},
   "source": [
    "It is also allow to be selected by a index array or a boolean mask."
   ]
  },
  {
   "cell_type": "code",
   "execution_count": 21,
   "id": "2e2822dd-f579-4645-97fe-fa17ce90563b",
   "metadata": {},
   "outputs": [
    {
     "data": {
      "text/plain": [
       " +YY\n",
       " +XX\n",
       " +XX\n",
       " +II\n",
       " +ZZ"
      ]
     },
     "execution_count": 21,
     "metadata": {},
     "output_type": "execute_result"
    }
   ],
   "source": [
    "plst[np.array([2,1,1,0,3])]"
   ]
  },
  {
   "cell_type": "code",
   "execution_count": 23,
   "id": "adfab209-89d6-42fa-94e0-77cf9f47a792",
   "metadata": {},
   "outputs": [
    {
     "data": {
      "text/plain": [
       " +II\n",
       " +ZZ"
      ]
     },
     "execution_count": 23,
     "metadata": {},
     "output_type": "execute_result"
    }
   ],
   "source": [
    "plst[np.array([True,False,False,True])]"
   ]
  },
  {
   "cell_type": "markdown",
   "id": "b9f6fc0b-c259-4d1a-9688-b512db71a8b6",
   "metadata": {},
   "source": [
    "# Pauli Polynomials"
   ]
  },
  {
   "cell_type": "markdown",
   "id": "8a125bc2-7c4d-40fc-bf62-b74c3cfbc9f6",
   "metadata": {},
   "source": [
    "Pauli operators can be linearly combined in to a **Pauli polynomial**."
   ]
  },
  {
   "cell_type": "code",
   "execution_count": 24,
   "id": "bae22c0e-41e9-48c0-8006-156865188536",
   "metadata": {},
   "outputs": [
    {
     "data": {
      "text/plain": [
       "-0.50000 ZZ +1 XX +1 YY"
      ]
     },
     "execution_count": 24,
     "metadata": {},
     "output_type": "execute_result"
    }
   ],
   "source": [
    "paulialg.pauli('XX') + paulialg.pauli('YY') - 0.5 * paulialg.pauli('ZZ')"
   ]
  },
  {
   "cell_type": "markdown",
   "id": "7e9beec7-4869-4975-98b1-dc3ec25b057b",
   "metadata": {},
   "source": [
    "<div class=\"alert alert-block alert-success\">\n",
    "Adding Pauli operators with any number, the number will be promoted to the number times identity operator automatically. For example, a projection operator can be written as\n",
    "</div>"
   ]
  },
  {
   "cell_type": "code",
   "execution_count": 25,
   "id": "f5f3c54d-3abc-4201-9ef6-d4bc32449f23",
   "metadata": {},
   "outputs": [
    {
     "data": {
      "text/plain": [
       "0.50000 II +0.50000 ZZ"
      ]
     },
     "execution_count": 25,
     "metadata": {},
     "output_type": "execute_result"
    }
   ],
   "source": [
    "(paulialg.pauli('ZZ') + 1)/2"
   ]
  },
  {
   "cell_type": "markdown",
   "id": "6f5e7186-15a1-41f2-824f-efad0eae4411",
   "metadata": {},
   "source": [
    "Operators can be summed up with python built-in function `sum()`."
   ]
  },
  {
   "cell_type": "code",
   "execution_count": 26,
   "id": "0c30c103-eb8d-40e0-b3d2-6bfcb8095f9f",
   "metadata": {},
   "outputs": [
    {
     "data": {
      "text/plain": [
       "1 II +1 ZZ +1 XX +1 YY"
      ]
     },
     "execution_count": 26,
     "metadata": {},
     "output_type": "execute_result"
    }
   ],
   "source": [
    "sum(paulialg.paulis('II','XX','YY','ZZ'))"
   ]
  }
 ],
 "metadata": {
  "kernelspec": {
   "display_name": "Python 3 (ipykernel)",
   "language": "python",
   "name": "python3"
  },
  "language_info": {
   "codemirror_mode": {
    "name": "ipython",
    "version": 3
   },
   "file_extension": ".py",
   "mimetype": "text/x-python",
   "name": "python",
   "nbconvert_exporter": "python",
   "pygments_lexer": "ipython3",
   "version": "3.9.12"
  }
 },
 "nbformat": 4,
 "nbformat_minor": 5
}
